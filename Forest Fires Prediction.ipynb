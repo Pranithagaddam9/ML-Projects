{
 "cells": [
  {
   "cell_type": "markdown",
   "id": "ccc6ef54",
   "metadata": {},
   "source": [
    "## Q1 Forest Fires Dataset - Exploratory Data Analysis"
   ]
  },
  {
   "cell_type": "code",
   "execution_count": 64,
   "id": "7bfe4770",
   "metadata": {},
   "outputs": [],
   "source": [
    "##REFERENCE :  https://cppsecrets.com/users/5271114105115104979810446114107495548525364103109971051084699111109/TRAINING-MACHINE-LEARNING-MODEL-WITH-TENSORFLOW-CLOUD.php\n",
    "import numpy as np \n",
    "import pandas as pd \n",
    "import matplotlib.pyplot as plt\n",
    "%matplotlib inline\n",
    "import seaborn as sns"
   ]
  },
  {
   "cell_type": "code",
   "execution_count": 65,
   "id": "32d73c31",
   "metadata": {},
   "outputs": [
    {
     "data": {
      "text/html": [
       "<div>\n",
       "<style scoped>\n",
       "    .dataframe tbody tr th:only-of-type {\n",
       "        vertical-align: middle;\n",
       "    }\n",
       "\n",
       "    .dataframe tbody tr th {\n",
       "        vertical-align: top;\n",
       "    }\n",
       "\n",
       "    .dataframe thead th {\n",
       "        text-align: right;\n",
       "    }\n",
       "</style>\n",
       "<table border=\"1\" class=\"dataframe\">\n",
       "  <thead>\n",
       "    <tr style=\"text-align: right;\">\n",
       "      <th></th>\n",
       "      <th>X</th>\n",
       "      <th>Y</th>\n",
       "      <th>month</th>\n",
       "      <th>day</th>\n",
       "      <th>FFMC</th>\n",
       "      <th>DMC</th>\n",
       "      <th>DC</th>\n",
       "      <th>ISI</th>\n",
       "      <th>temp</th>\n",
       "      <th>RH</th>\n",
       "      <th>wind</th>\n",
       "      <th>rain</th>\n",
       "      <th>area</th>\n",
       "    </tr>\n",
       "  </thead>\n",
       "  <tbody>\n",
       "    <tr>\n",
       "      <th>0</th>\n",
       "      <td>7</td>\n",
       "      <td>5</td>\n",
       "      <td>mar</td>\n",
       "      <td>fri</td>\n",
       "      <td>86.2</td>\n",
       "      <td>26.2</td>\n",
       "      <td>94.3</td>\n",
       "      <td>5.1</td>\n",
       "      <td>8.2</td>\n",
       "      <td>51</td>\n",
       "      <td>6.7</td>\n",
       "      <td>0.0</td>\n",
       "      <td>0.0</td>\n",
       "    </tr>\n",
       "    <tr>\n",
       "      <th>1</th>\n",
       "      <td>7</td>\n",
       "      <td>4</td>\n",
       "      <td>oct</td>\n",
       "      <td>tue</td>\n",
       "      <td>90.6</td>\n",
       "      <td>35.4</td>\n",
       "      <td>669.1</td>\n",
       "      <td>6.7</td>\n",
       "      <td>18.0</td>\n",
       "      <td>33</td>\n",
       "      <td>0.9</td>\n",
       "      <td>0.0</td>\n",
       "      <td>0.0</td>\n",
       "    </tr>\n",
       "    <tr>\n",
       "      <th>2</th>\n",
       "      <td>7</td>\n",
       "      <td>4</td>\n",
       "      <td>oct</td>\n",
       "      <td>sat</td>\n",
       "      <td>90.6</td>\n",
       "      <td>43.7</td>\n",
       "      <td>686.9</td>\n",
       "      <td>6.7</td>\n",
       "      <td>14.6</td>\n",
       "      <td>33</td>\n",
       "      <td>1.3</td>\n",
       "      <td>0.0</td>\n",
       "      <td>0.0</td>\n",
       "    </tr>\n",
       "    <tr>\n",
       "      <th>3</th>\n",
       "      <td>8</td>\n",
       "      <td>6</td>\n",
       "      <td>mar</td>\n",
       "      <td>fri</td>\n",
       "      <td>91.7</td>\n",
       "      <td>33.3</td>\n",
       "      <td>77.5</td>\n",
       "      <td>9.0</td>\n",
       "      <td>8.3</td>\n",
       "      <td>97</td>\n",
       "      <td>4.0</td>\n",
       "      <td>0.2</td>\n",
       "      <td>0.0</td>\n",
       "    </tr>\n",
       "    <tr>\n",
       "      <th>4</th>\n",
       "      <td>8</td>\n",
       "      <td>6</td>\n",
       "      <td>mar</td>\n",
       "      <td>sun</td>\n",
       "      <td>89.3</td>\n",
       "      <td>51.3</td>\n",
       "      <td>102.2</td>\n",
       "      <td>9.6</td>\n",
       "      <td>11.4</td>\n",
       "      <td>99</td>\n",
       "      <td>1.8</td>\n",
       "      <td>0.0</td>\n",
       "      <td>0.0</td>\n",
       "    </tr>\n",
       "  </tbody>\n",
       "</table>\n",
       "</div>"
      ],
      "text/plain": [
       "   X  Y month  day  FFMC   DMC     DC  ISI  temp  RH  wind  rain  area\n",
       "0  7  5   mar  fri  86.2  26.2   94.3  5.1   8.2  51   6.7   0.0   0.0\n",
       "1  7  4   oct  tue  90.6  35.4  669.1  6.7  18.0  33   0.9   0.0   0.0\n",
       "2  7  4   oct  sat  90.6  43.7  686.9  6.7  14.6  33   1.3   0.0   0.0\n",
       "3  8  6   mar  fri  91.7  33.3   77.5  9.0   8.3  97   4.0   0.2   0.0\n",
       "4  8  6   mar  sun  89.3  51.3  102.2  9.6  11.4  99   1.8   0.0   0.0"
      ]
     },
     "execution_count": 65,
     "metadata": {},
     "output_type": "execute_result"
    }
   ],
   "source": [
    "forest = pd.read_csv(\"forestfires.csv\")\n",
    "forest.head()"
   ]
  },
  {
   "cell_type": "code",
   "execution_count": 66,
   "id": "e8fa4d49",
   "metadata": {},
   "outputs": [
    {
     "data": {
      "text/html": [
       "<div>\n",
       "<style scoped>\n",
       "    .dataframe tbody tr th:only-of-type {\n",
       "        vertical-align: middle;\n",
       "    }\n",
       "\n",
       "    .dataframe tbody tr th {\n",
       "        vertical-align: top;\n",
       "    }\n",
       "\n",
       "    .dataframe thead th {\n",
       "        text-align: right;\n",
       "    }\n",
       "</style>\n",
       "<table border=\"1\" class=\"dataframe\">\n",
       "  <thead>\n",
       "    <tr style=\"text-align: right;\">\n",
       "      <th></th>\n",
       "      <th>X</th>\n",
       "      <th>Y</th>\n",
       "      <th>FFMC</th>\n",
       "      <th>DMC</th>\n",
       "      <th>DC</th>\n",
       "      <th>ISI</th>\n",
       "      <th>temp</th>\n",
       "      <th>RH</th>\n",
       "      <th>wind</th>\n",
       "      <th>rain</th>\n",
       "      <th>area</th>\n",
       "    </tr>\n",
       "  </thead>\n",
       "  <tbody>\n",
       "    <tr>\n",
       "      <th>count</th>\n",
       "      <td>517.000000</td>\n",
       "      <td>517.000000</td>\n",
       "      <td>517.000000</td>\n",
       "      <td>517.000000</td>\n",
       "      <td>517.000000</td>\n",
       "      <td>517.000000</td>\n",
       "      <td>517.000000</td>\n",
       "      <td>517.000000</td>\n",
       "      <td>517.000000</td>\n",
       "      <td>517.000000</td>\n",
       "      <td>517.000000</td>\n",
       "    </tr>\n",
       "    <tr>\n",
       "      <th>mean</th>\n",
       "      <td>4.669246</td>\n",
       "      <td>4.299807</td>\n",
       "      <td>90.644681</td>\n",
       "      <td>110.872340</td>\n",
       "      <td>547.940039</td>\n",
       "      <td>9.021663</td>\n",
       "      <td>18.889168</td>\n",
       "      <td>44.288201</td>\n",
       "      <td>4.017602</td>\n",
       "      <td>0.021663</td>\n",
       "      <td>12.847292</td>\n",
       "    </tr>\n",
       "    <tr>\n",
       "      <th>std</th>\n",
       "      <td>2.313778</td>\n",
       "      <td>1.229900</td>\n",
       "      <td>5.520111</td>\n",
       "      <td>64.046482</td>\n",
       "      <td>248.066192</td>\n",
       "      <td>4.559477</td>\n",
       "      <td>5.806625</td>\n",
       "      <td>16.317469</td>\n",
       "      <td>1.791653</td>\n",
       "      <td>0.295959</td>\n",
       "      <td>63.655818</td>\n",
       "    </tr>\n",
       "    <tr>\n",
       "      <th>min</th>\n",
       "      <td>1.000000</td>\n",
       "      <td>2.000000</td>\n",
       "      <td>18.700000</td>\n",
       "      <td>1.100000</td>\n",
       "      <td>7.900000</td>\n",
       "      <td>0.000000</td>\n",
       "      <td>2.200000</td>\n",
       "      <td>15.000000</td>\n",
       "      <td>0.400000</td>\n",
       "      <td>0.000000</td>\n",
       "      <td>0.000000</td>\n",
       "    </tr>\n",
       "    <tr>\n",
       "      <th>25%</th>\n",
       "      <td>3.000000</td>\n",
       "      <td>4.000000</td>\n",
       "      <td>90.200000</td>\n",
       "      <td>68.600000</td>\n",
       "      <td>437.700000</td>\n",
       "      <td>6.500000</td>\n",
       "      <td>15.500000</td>\n",
       "      <td>33.000000</td>\n",
       "      <td>2.700000</td>\n",
       "      <td>0.000000</td>\n",
       "      <td>0.000000</td>\n",
       "    </tr>\n",
       "    <tr>\n",
       "      <th>50%</th>\n",
       "      <td>4.000000</td>\n",
       "      <td>4.000000</td>\n",
       "      <td>91.600000</td>\n",
       "      <td>108.300000</td>\n",
       "      <td>664.200000</td>\n",
       "      <td>8.400000</td>\n",
       "      <td>19.300000</td>\n",
       "      <td>42.000000</td>\n",
       "      <td>4.000000</td>\n",
       "      <td>0.000000</td>\n",
       "      <td>0.520000</td>\n",
       "    </tr>\n",
       "    <tr>\n",
       "      <th>75%</th>\n",
       "      <td>7.000000</td>\n",
       "      <td>5.000000</td>\n",
       "      <td>92.900000</td>\n",
       "      <td>142.400000</td>\n",
       "      <td>713.900000</td>\n",
       "      <td>10.800000</td>\n",
       "      <td>22.800000</td>\n",
       "      <td>53.000000</td>\n",
       "      <td>4.900000</td>\n",
       "      <td>0.000000</td>\n",
       "      <td>6.570000</td>\n",
       "    </tr>\n",
       "    <tr>\n",
       "      <th>max</th>\n",
       "      <td>9.000000</td>\n",
       "      <td>9.000000</td>\n",
       "      <td>96.200000</td>\n",
       "      <td>291.300000</td>\n",
       "      <td>860.600000</td>\n",
       "      <td>56.100000</td>\n",
       "      <td>33.300000</td>\n",
       "      <td>100.000000</td>\n",
       "      <td>9.400000</td>\n",
       "      <td>6.400000</td>\n",
       "      <td>1090.840000</td>\n",
       "    </tr>\n",
       "  </tbody>\n",
       "</table>\n",
       "</div>"
      ],
      "text/plain": [
       "                X           Y        FFMC         DMC          DC         ISI  \\\n",
       "count  517.000000  517.000000  517.000000  517.000000  517.000000  517.000000   \n",
       "mean     4.669246    4.299807   90.644681  110.872340  547.940039    9.021663   \n",
       "std      2.313778    1.229900    5.520111   64.046482  248.066192    4.559477   \n",
       "min      1.000000    2.000000   18.700000    1.100000    7.900000    0.000000   \n",
       "25%      3.000000    4.000000   90.200000   68.600000  437.700000    6.500000   \n",
       "50%      4.000000    4.000000   91.600000  108.300000  664.200000    8.400000   \n",
       "75%      7.000000    5.000000   92.900000  142.400000  713.900000   10.800000   \n",
       "max      9.000000    9.000000   96.200000  291.300000  860.600000   56.100000   \n",
       "\n",
       "             temp          RH        wind        rain         area  \n",
       "count  517.000000  517.000000  517.000000  517.000000   517.000000  \n",
       "mean    18.889168   44.288201    4.017602    0.021663    12.847292  \n",
       "std      5.806625   16.317469    1.791653    0.295959    63.655818  \n",
       "min      2.200000   15.000000    0.400000    0.000000     0.000000  \n",
       "25%     15.500000   33.000000    2.700000    0.000000     0.000000  \n",
       "50%     19.300000   42.000000    4.000000    0.000000     0.520000  \n",
       "75%     22.800000   53.000000    4.900000    0.000000     6.570000  \n",
       "max     33.300000  100.000000    9.400000    6.400000  1090.840000  "
      ]
     },
     "execution_count": 66,
     "metadata": {},
     "output_type": "execute_result"
    }
   ],
   "source": [
    "forest.describe()"
   ]
  },
  {
   "cell_type": "code",
   "execution_count": 67,
   "id": "1996a479",
   "metadata": {},
   "outputs": [
    {
     "data": {
      "text/plain": [
       "X        0\n",
       "Y        0\n",
       "month    0\n",
       "day      0\n",
       "FFMC     0\n",
       "DMC      0\n",
       "DC       0\n",
       "ISI      0\n",
       "temp     0\n",
       "RH       0\n",
       "wind     0\n",
       "rain     0\n",
       "area     0\n",
       "dtype: int64"
      ]
     },
     "execution_count": 67,
     "metadata": {},
     "output_type": "execute_result"
    }
   ],
   "source": [
    "forest.isnull().sum()"
   ]
  },
  {
   "cell_type": "code",
   "execution_count": 68,
   "id": "bb5f9c8d",
   "metadata": {},
   "outputs": [
    {
     "name": "stderr",
     "output_type": "stream",
     "text": [
      "/Users/pranithagaddam/anaconda3/lib/python3.9/site-packages/seaborn/distributions.py:2619: FutureWarning: `distplot` is a deprecated function and will be removed in a future version. Please adapt your code to use either `displot` (a figure-level function with similar flexibility) or `histplot` (an axes-level function for histograms).\n",
      "  warnings.warn(msg, FutureWarning)\n"
     ]
    },
    {
     "data": {
      "text/plain": [
       "<AxesSubplot:xlabel='area', ylabel='Density'>"
      ]
     },
     "execution_count": 68,
     "metadata": {},
     "output_type": "execute_result"
    },
    {
     "data": {
      "image/png": "[encoded data removed]",
      "text/plain": [
       "<Figure size 432x288 with 1 Axes>"
      ]
     },
     "metadata": {
      "needs_background": "light"
     },
     "output_type": "display_data"
    }
   ],
   "source": [
    "sns.distplot(forest['area'])"
   ]
  },
  {
   "cell_type": "code",
   "execution_count": 69,
   "id": "beb35ef0",
   "metadata": {},
   "outputs": [],
   "source": [
    "#LOG-TRANSFORMATION OF THE TARGET VARIABLE\n",
    "forest['Log-area']=np.log10(forest['area']+1)"
   ]
  },
  {
   "cell_type": "code",
   "execution_count": 70,
   "id": "26da66a6",
   "metadata": {},
   "outputs": [
    {
     "data": {
      "image/png": "[encoded data removed]",
      "text/plain": [
       "<Figure size 432x288 with 1 Axes>"
      ]
     },
     "metadata": {
      "needs_background": "light"
     },
     "output_type": "display_data"
    },
    {
     "data": {
      "image/png": "[encoded data removed]",
      "text/plain": [
       "<Figure size 432x288 with 1 Axes>"
      ]
     },
     "metadata": {
      "needs_background": "light"
     },
     "output_type": "display_data"
    },
    {
     "data": {
      "image/png": "[encoded data removed]",
      "text/plain": [
       "<Figure size 432x288 with 1 Axes>"
      ]
     },
     "metadata": {
      "needs_background": "light"
     },
     "output_type": "display_data"
    },
    {
     "data": {
      "image/png": "[encoded data removed]",
      "text/plain": [
       "<Figure size 432x288 with 1 Axes>"
      ]
     },
     "metadata": {
      "needs_background": "light"
     },
     "output_type": "display_data"
    },
    {
     "data": {
      "image/png": "[encoded data removed]",
      "text/plain": [
       "<Figure size 432x288 with 1 Axes>"
      ]
     },
     "metadata": {
      "needs_background": "light"
     },
     "output_type": "display_data"
    },
    {
     "data": {
      "image/png": "[encoded data removed]",
      "text/plain": [
       "<Figure size 432x288 with 1 Axes>"
      ]
     },
     "metadata": {
      "needs_background": "light"
     },
     "output_type": "display_data"
    },
    {
     "data": {
      "image/png": "[encoded data removed]",
      "text/plain": [
       "<Figure size 432x288 with 1 Axes>"
      ]
     },
     "metadata": {
      "needs_background": "light"
     },
     "output_type": "display_data"
    },
    {
     "data": {
      "image/png": "[encoded data removed]",
      "text/plain": [
       "<Figure size 432x288 with 1 Axes>"
      ]
     },
     "metadata": {
      "needs_background": "light"
     },
     "output_type": "display_data"
    },
    {
     "data": {
      "image/png": "[encoded data removed]",
      "text/plain": [
       "<Figure size 432x288 with 1 Axes>"
      ]
     },
     "metadata": {
      "needs_background": "light"
     },
     "output_type": "display_data"
    },
    {
     "data": {
      "image/png": "[encoded data removed]",
      "text/plain": [
       "<Figure size 432x288 with 1 Axes>"
      ]
     },
     "metadata": {
      "needs_background": "light"
     },
     "output_type": "display_data"
    }
   ],
   "source": [
    "for i in forest.describe().columns[:-2]:\n",
    "    forest.plot.scatter(i,'Log-area',grid=True)"
   ]
  },
  {
   "cell_type": "code",
   "execution_count": 191,
   "id": "8fdfceeb",
   "metadata": {},
   "outputs": [
    {
     "name": "stderr",
     "output_type": "stream",
     "text": [
      "/Users/pranithagaddam/anaconda3/lib/python3.9/site-packages/seaborn/distributions.py:2619: FutureWarning: `distplot` is a deprecated function and will be removed in a future version. Please adapt your code to use either `displot` (a figure-level function with similar flexibility) or `histplot` (an axes-level function for histograms).\n",
      "  warnings.warn(msg, FutureWarning)\n"
     ]
    },
    {
     "data": {
      "text/plain": [
       "<AxesSubplot:xlabel='Log-area', ylabel='Density'>"
      ]
     },
     "execution_count": 191,
     "metadata": {},
     "output_type": "execute_result"
    },
    {
     "data": {
      "image/png": "[encoded data removed]",
      "text/plain": [
       "<Figure size 432x288 with 1 Axes>"
      ]
     },
     "metadata": {
      "needs_background": "light"
     },
     "output_type": "display_data"
    }
   ],
   "source": [
    "#Distplot after log transformation\n",
    "sns.distplot(forest['Log-area'])"
   ]
  },
  {
   "cell_type": "code",
   "execution_count": 72,
   "id": "38e36992",
   "metadata": {},
   "outputs": [
    {
     "data": {
      "text/plain": [
       "<AxesSubplot:title={'center':'Log-area'}, xlabel='day'>"
      ]
     },
     "execution_count": 72,
     "metadata": {},
     "output_type": "execute_result"
    },
    {
     "data": {
      "image/png": "[encoded data removed]",
      "text/plain": [
       "<Figure size 432x288 with 1 Axes>"
      ]
     },
     "metadata": {
      "needs_background": "light"
     },
     "output_type": "display_data"
    }
   ],
   "source": [
    "forest.boxplot(column='Log-area',by='day')"
   ]
  },
  {
   "cell_type": "code",
   "execution_count": 73,
   "id": "d8793df5",
   "metadata": {},
   "outputs": [
    {
     "data": {
      "text/plain": [
       "<AxesSubplot:title={'center':'Log-area'}, xlabel='month'>"
      ]
     },
     "execution_count": 73,
     "metadata": {},
     "output_type": "execute_result"
    },
    {
     "data": {
      "image/png": "[encoded data removed]",
      "text/plain": [
       "<Figure size 432x288 with 1 Axes>"
      ]
     },
     "metadata": {
      "needs_background": "light"
     },
     "output_type": "display_data"
    }
   ],
   "source": [
    "forest.boxplot(column='Log-area',by='month')"
   ]
  },
  {
   "cell_type": "markdown",
   "id": "57d875ab",
   "metadata": {},
   "source": [
    "### Data pre-processing, train-test split, REC function"
   ]
  },
  {
   "cell_type": "code",
   "execution_count": 74,
   "id": "508522e6",
   "metadata": {},
   "outputs": [],
   "source": [
    "from sklearn.model_selection import train_test_split\n",
    "from sklearn.preprocessing import OneHotEncoder\n",
    "from sklearn.preprocessing import LabelEncoder"
   ]
  },
  {
   "cell_type": "code",
   "execution_count": 192,
   "id": "7edc6e71",
   "metadata": {},
   "outputs": [
    {
     "data": {
      "text/plain": [
       "LabelEncoder()"
      ]
     },
     "execution_count": 192,
     "metadata": {},
     "output_type": "execute_result"
    }
   ],
   "source": [
    "#converting categorical to numerical variables\n",
    "encode = LabelEncoder()\n",
    "encode.fit(forest['month'])"
   ]
  },
  {
   "cell_type": "code",
   "execution_count": 76,
   "id": "36e9c61c",
   "metadata": {},
   "outputs": [
    {
     "data": {
      "text/plain": [
       "array(['apr', 'aug', 'dec', 'feb', 'jan', 'jul', 'jun', 'mar', 'may',\n",
       "       'nov', 'oct', 'sep'], dtype=object)"
      ]
     },
     "execution_count": 76,
     "metadata": {},
     "output_type": "execute_result"
    }
   ],
   "source": [
    "encode.classes_"
   ]
  },
  {
   "cell_type": "code",
   "execution_count": 77,
   "id": "110b4758",
   "metadata": {},
   "outputs": [
    {
     "data": {
      "text/html": [
       "<div>\n",
       "<style scoped>\n",
       "    .dataframe tbody tr th:only-of-type {\n",
       "        vertical-align: middle;\n",
       "    }\n",
       "\n",
       "    .dataframe tbody tr th {\n",
       "        vertical-align: top;\n",
       "    }\n",
       "\n",
       "    .dataframe thead th {\n",
       "        text-align: right;\n",
       "    }\n",
       "</style>\n",
       "<table border=\"1\" class=\"dataframe\">\n",
       "  <thead>\n",
       "    <tr style=\"text-align: right;\">\n",
       "      <th></th>\n",
       "      <th>X</th>\n",
       "      <th>Y</th>\n",
       "      <th>month</th>\n",
       "      <th>day</th>\n",
       "      <th>FFMC</th>\n",
       "      <th>DMC</th>\n",
       "      <th>DC</th>\n",
       "      <th>ISI</th>\n",
       "      <th>temp</th>\n",
       "      <th>RH</th>\n",
       "      <th>wind</th>\n",
       "      <th>rain</th>\n",
       "      <th>area</th>\n",
       "      <th>Log-area</th>\n",
       "      <th>month_encoded</th>\n",
       "    </tr>\n",
       "  </thead>\n",
       "  <tbody>\n",
       "    <tr>\n",
       "      <th>0</th>\n",
       "      <td>7</td>\n",
       "      <td>5</td>\n",
       "      <td>mar</td>\n",
       "      <td>fri</td>\n",
       "      <td>86.2</td>\n",
       "      <td>26.2</td>\n",
       "      <td>94.3</td>\n",
       "      <td>5.1</td>\n",
       "      <td>8.2</td>\n",
       "      <td>51</td>\n",
       "      <td>6.7</td>\n",
       "      <td>0.0</td>\n",
       "      <td>0.0</td>\n",
       "      <td>0.0</td>\n",
       "      <td>7</td>\n",
       "    </tr>\n",
       "    <tr>\n",
       "      <th>1</th>\n",
       "      <td>7</td>\n",
       "      <td>4</td>\n",
       "      <td>oct</td>\n",
       "      <td>tue</td>\n",
       "      <td>90.6</td>\n",
       "      <td>35.4</td>\n",
       "      <td>669.1</td>\n",
       "      <td>6.7</td>\n",
       "      <td>18.0</td>\n",
       "      <td>33</td>\n",
       "      <td>0.9</td>\n",
       "      <td>0.0</td>\n",
       "      <td>0.0</td>\n",
       "      <td>0.0</td>\n",
       "      <td>10</td>\n",
       "    </tr>\n",
       "    <tr>\n",
       "      <th>2</th>\n",
       "      <td>7</td>\n",
       "      <td>4</td>\n",
       "      <td>oct</td>\n",
       "      <td>sat</td>\n",
       "      <td>90.6</td>\n",
       "      <td>43.7</td>\n",
       "      <td>686.9</td>\n",
       "      <td>6.7</td>\n",
       "      <td>14.6</td>\n",
       "      <td>33</td>\n",
       "      <td>1.3</td>\n",
       "      <td>0.0</td>\n",
       "      <td>0.0</td>\n",
       "      <td>0.0</td>\n",
       "      <td>10</td>\n",
       "    </tr>\n",
       "    <tr>\n",
       "      <th>3</th>\n",
       "      <td>8</td>\n",
       "      <td>6</td>\n",
       "      <td>mar</td>\n",
       "      <td>fri</td>\n",
       "      <td>91.7</td>\n",
       "      <td>33.3</td>\n",
       "      <td>77.5</td>\n",
       "      <td>9.0</td>\n",
       "      <td>8.3</td>\n",
       "      <td>97</td>\n",
       "      <td>4.0</td>\n",
       "      <td>0.2</td>\n",
       "      <td>0.0</td>\n",
       "      <td>0.0</td>\n",
       "      <td>7</td>\n",
       "    </tr>\n",
       "    <tr>\n",
       "      <th>4</th>\n",
       "      <td>8</td>\n",
       "      <td>6</td>\n",
       "      <td>mar</td>\n",
       "      <td>sun</td>\n",
       "      <td>89.3</td>\n",
       "      <td>51.3</td>\n",
       "      <td>102.2</td>\n",
       "      <td>9.6</td>\n",
       "      <td>11.4</td>\n",
       "      <td>99</td>\n",
       "      <td>1.8</td>\n",
       "      <td>0.0</td>\n",
       "      <td>0.0</td>\n",
       "      <td>0.0</td>\n",
       "      <td>7</td>\n",
       "    </tr>\n",
       "  </tbody>\n",
       "</table>\n",
       "</div>"
      ],
      "text/plain": [
       "   X  Y month  day  FFMC   DMC     DC  ISI  temp  RH  wind  rain  area  \\\n",
       "0  7  5   mar  fri  86.2  26.2   94.3  5.1   8.2  51   6.7   0.0   0.0   \n",
       "1  7  4   oct  tue  90.6  35.4  669.1  6.7  18.0  33   0.9   0.0   0.0   \n",
       "2  7  4   oct  sat  90.6  43.7  686.9  6.7  14.6  33   1.3   0.0   0.0   \n",
       "3  8  6   mar  fri  91.7  33.3   77.5  9.0   8.3  97   4.0   0.2   0.0   \n",
       "4  8  6   mar  sun  89.3  51.3  102.2  9.6  11.4  99   1.8   0.0   0.0   \n",
       "\n",
       "   Log-area  month_encoded  \n",
       "0       0.0              7  \n",
       "1       0.0             10  \n",
       "2       0.0             10  \n",
       "3       0.0              7  \n",
       "4       0.0              7  "
      ]
     },
     "execution_count": 77,
     "metadata": {},
     "output_type": "execute_result"
    }
   ],
   "source": [
    "forest['month_encoded']=encode.transform(forest['month'])\n",
    "forest.head()"
   ]
  },
  {
   "cell_type": "code",
   "execution_count": 78,
   "id": "6323cbe6",
   "metadata": {},
   "outputs": [
    {
     "data": {
      "text/plain": [
       "LabelEncoder()"
      ]
     },
     "execution_count": 78,
     "metadata": {},
     "output_type": "execute_result"
    }
   ],
   "source": [
    "encode.fit(forest['day'])"
   ]
  },
  {
   "cell_type": "code",
   "execution_count": 79,
   "id": "26cca05f",
   "metadata": {},
   "outputs": [
    {
     "data": {
      "text/plain": [
       "array(['fri', 'mon', 'sat', 'sun', 'thu', 'tue', 'wed'], dtype=object)"
      ]
     },
     "execution_count": 79,
     "metadata": {},
     "output_type": "execute_result"
    }
   ],
   "source": [
    "encode.classes_"
   ]
  },
  {
   "cell_type": "code",
   "execution_count": 80,
   "id": "ebcc5e3b",
   "metadata": {},
   "outputs": [
    {
     "data": {
      "text/html": [
       "<div>\n",
       "<style scoped>\n",
       "    .dataframe tbody tr th:only-of-type {\n",
       "        vertical-align: middle;\n",
       "    }\n",
       "\n",
       "    .dataframe tbody tr th {\n",
       "        vertical-align: top;\n",
       "    }\n",
       "\n",
       "    .dataframe thead th {\n",
       "        text-align: right;\n",
       "    }\n",
       "</style>\n",
       "<table border=\"1\" class=\"dataframe\">\n",
       "  <thead>\n",
       "    <tr style=\"text-align: right;\">\n",
       "      <th></th>\n",
       "      <th>X</th>\n",
       "      <th>Y</th>\n",
       "      <th>month</th>\n",
       "      <th>day</th>\n",
       "      <th>FFMC</th>\n",
       "      <th>DMC</th>\n",
       "      <th>DC</th>\n",
       "      <th>ISI</th>\n",
       "      <th>temp</th>\n",
       "      <th>RH</th>\n",
       "      <th>wind</th>\n",
       "      <th>rain</th>\n",
       "      <th>area</th>\n",
       "      <th>Log-area</th>\n",
       "      <th>month_encoded</th>\n",
       "      <th>day_encoded</th>\n",
       "    </tr>\n",
       "  </thead>\n",
       "  <tbody>\n",
       "    <tr>\n",
       "      <th>0</th>\n",
       "      <td>7</td>\n",
       "      <td>5</td>\n",
       "      <td>mar</td>\n",
       "      <td>fri</td>\n",
       "      <td>86.2</td>\n",
       "      <td>26.2</td>\n",
       "      <td>94.3</td>\n",
       "      <td>5.1</td>\n",
       "      <td>8.2</td>\n",
       "      <td>51</td>\n",
       "      <td>6.7</td>\n",
       "      <td>0.0</td>\n",
       "      <td>0.0</td>\n",
       "      <td>0.0</td>\n",
       "      <td>7</td>\n",
       "      <td>0</td>\n",
       "    </tr>\n",
       "    <tr>\n",
       "      <th>1</th>\n",
       "      <td>7</td>\n",
       "      <td>4</td>\n",
       "      <td>oct</td>\n",
       "      <td>tue</td>\n",
       "      <td>90.6</td>\n",
       "      <td>35.4</td>\n",
       "      <td>669.1</td>\n",
       "      <td>6.7</td>\n",
       "      <td>18.0</td>\n",
       "      <td>33</td>\n",
       "      <td>0.9</td>\n",
       "      <td>0.0</td>\n",
       "      <td>0.0</td>\n",
       "      <td>0.0</td>\n",
       "      <td>10</td>\n",
       "      <td>5</td>\n",
       "    </tr>\n",
       "    <tr>\n",
       "      <th>2</th>\n",
       "      <td>7</td>\n",
       "      <td>4</td>\n",
       "      <td>oct</td>\n",
       "      <td>sat</td>\n",
       "      <td>90.6</td>\n",
       "      <td>43.7</td>\n",
       "      <td>686.9</td>\n",
       "      <td>6.7</td>\n",
       "      <td>14.6</td>\n",
       "      <td>33</td>\n",
       "      <td>1.3</td>\n",
       "      <td>0.0</td>\n",
       "      <td>0.0</td>\n",
       "      <td>0.0</td>\n",
       "      <td>10</td>\n",
       "      <td>2</td>\n",
       "    </tr>\n",
       "    <tr>\n",
       "      <th>3</th>\n",
       "      <td>8</td>\n",
       "      <td>6</td>\n",
       "      <td>mar</td>\n",
       "      <td>fri</td>\n",
       "      <td>91.7</td>\n",
       "      <td>33.3</td>\n",
       "      <td>77.5</td>\n",
       "      <td>9.0</td>\n",
       "      <td>8.3</td>\n",
       "      <td>97</td>\n",
       "      <td>4.0</td>\n",
       "      <td>0.2</td>\n",
       "      <td>0.0</td>\n",
       "      <td>0.0</td>\n",
       "      <td>7</td>\n",
       "      <td>0</td>\n",
       "    </tr>\n",
       "    <tr>\n",
       "      <th>4</th>\n",
       "      <td>8</td>\n",
       "      <td>6</td>\n",
       "      <td>mar</td>\n",
       "      <td>sun</td>\n",
       "      <td>89.3</td>\n",
       "      <td>51.3</td>\n",
       "      <td>102.2</td>\n",
       "      <td>9.6</td>\n",
       "      <td>11.4</td>\n",
       "      <td>99</td>\n",
       "      <td>1.8</td>\n",
       "      <td>0.0</td>\n",
       "      <td>0.0</td>\n",
       "      <td>0.0</td>\n",
       "      <td>7</td>\n",
       "      <td>3</td>\n",
       "    </tr>\n",
       "    <tr>\n",
       "      <th>5</th>\n",
       "      <td>8</td>\n",
       "      <td>6</td>\n",
       "      <td>aug</td>\n",
       "      <td>sun</td>\n",
       "      <td>92.3</td>\n",
       "      <td>85.3</td>\n",
       "      <td>488.0</td>\n",
       "      <td>14.7</td>\n",
       "      <td>22.2</td>\n",
       "      <td>29</td>\n",
       "      <td>5.4</td>\n",
       "      <td>0.0</td>\n",
       "      <td>0.0</td>\n",
       "      <td>0.0</td>\n",
       "      <td>1</td>\n",
       "      <td>3</td>\n",
       "    </tr>\n",
       "    <tr>\n",
       "      <th>6</th>\n",
       "      <td>8</td>\n",
       "      <td>6</td>\n",
       "      <td>aug</td>\n",
       "      <td>mon</td>\n",
       "      <td>92.3</td>\n",
       "      <td>88.9</td>\n",
       "      <td>495.6</td>\n",
       "      <td>8.5</td>\n",
       "      <td>24.1</td>\n",
       "      <td>27</td>\n",
       "      <td>3.1</td>\n",
       "      <td>0.0</td>\n",
       "      <td>0.0</td>\n",
       "      <td>0.0</td>\n",
       "      <td>1</td>\n",
       "      <td>1</td>\n",
       "    </tr>\n",
       "    <tr>\n",
       "      <th>7</th>\n",
       "      <td>8</td>\n",
       "      <td>6</td>\n",
       "      <td>aug</td>\n",
       "      <td>mon</td>\n",
       "      <td>91.5</td>\n",
       "      <td>145.4</td>\n",
       "      <td>608.2</td>\n",
       "      <td>10.7</td>\n",
       "      <td>8.0</td>\n",
       "      <td>86</td>\n",
       "      <td>2.2</td>\n",
       "      <td>0.0</td>\n",
       "      <td>0.0</td>\n",
       "      <td>0.0</td>\n",
       "      <td>1</td>\n",
       "      <td>1</td>\n",
       "    </tr>\n",
       "    <tr>\n",
       "      <th>8</th>\n",
       "      <td>8</td>\n",
       "      <td>6</td>\n",
       "      <td>sep</td>\n",
       "      <td>tue</td>\n",
       "      <td>91.0</td>\n",
       "      <td>129.5</td>\n",
       "      <td>692.6</td>\n",
       "      <td>7.0</td>\n",
       "      <td>13.1</td>\n",
       "      <td>63</td>\n",
       "      <td>5.4</td>\n",
       "      <td>0.0</td>\n",
       "      <td>0.0</td>\n",
       "      <td>0.0</td>\n",
       "      <td>11</td>\n",
       "      <td>5</td>\n",
       "    </tr>\n",
       "    <tr>\n",
       "      <th>9</th>\n",
       "      <td>7</td>\n",
       "      <td>5</td>\n",
       "      <td>sep</td>\n",
       "      <td>sat</td>\n",
       "      <td>92.5</td>\n",
       "      <td>88.0</td>\n",
       "      <td>698.6</td>\n",
       "      <td>7.1</td>\n",
       "      <td>22.8</td>\n",
       "      <td>40</td>\n",
       "      <td>4.0</td>\n",
       "      <td>0.0</td>\n",
       "      <td>0.0</td>\n",
       "      <td>0.0</td>\n",
       "      <td>11</td>\n",
       "      <td>2</td>\n",
       "    </tr>\n",
       "    <tr>\n",
       "      <th>10</th>\n",
       "      <td>7</td>\n",
       "      <td>5</td>\n",
       "      <td>sep</td>\n",
       "      <td>sat</td>\n",
       "      <td>92.5</td>\n",
       "      <td>88.0</td>\n",
       "      <td>698.6</td>\n",
       "      <td>7.1</td>\n",
       "      <td>17.8</td>\n",
       "      <td>51</td>\n",
       "      <td>7.2</td>\n",
       "      <td>0.0</td>\n",
       "      <td>0.0</td>\n",
       "      <td>0.0</td>\n",
       "      <td>11</td>\n",
       "      <td>2</td>\n",
       "    </tr>\n",
       "    <tr>\n",
       "      <th>11</th>\n",
       "      <td>7</td>\n",
       "      <td>5</td>\n",
       "      <td>sep</td>\n",
       "      <td>sat</td>\n",
       "      <td>92.8</td>\n",
       "      <td>73.2</td>\n",
       "      <td>713.0</td>\n",
       "      <td>22.6</td>\n",
       "      <td>19.3</td>\n",
       "      <td>38</td>\n",
       "      <td>4.0</td>\n",
       "      <td>0.0</td>\n",
       "      <td>0.0</td>\n",
       "      <td>0.0</td>\n",
       "      <td>11</td>\n",
       "      <td>2</td>\n",
       "    </tr>\n",
       "    <tr>\n",
       "      <th>12</th>\n",
       "      <td>6</td>\n",
       "      <td>5</td>\n",
       "      <td>aug</td>\n",
       "      <td>fri</td>\n",
       "      <td>63.5</td>\n",
       "      <td>70.8</td>\n",
       "      <td>665.3</td>\n",
       "      <td>0.8</td>\n",
       "      <td>17.0</td>\n",
       "      <td>72</td>\n",
       "      <td>6.7</td>\n",
       "      <td>0.0</td>\n",
       "      <td>0.0</td>\n",
       "      <td>0.0</td>\n",
       "      <td>1</td>\n",
       "      <td>0</td>\n",
       "    </tr>\n",
       "    <tr>\n",
       "      <th>13</th>\n",
       "      <td>6</td>\n",
       "      <td>5</td>\n",
       "      <td>sep</td>\n",
       "      <td>mon</td>\n",
       "      <td>90.9</td>\n",
       "      <td>126.5</td>\n",
       "      <td>686.5</td>\n",
       "      <td>7.0</td>\n",
       "      <td>21.3</td>\n",
       "      <td>42</td>\n",
       "      <td>2.2</td>\n",
       "      <td>0.0</td>\n",
       "      <td>0.0</td>\n",
       "      <td>0.0</td>\n",
       "      <td>11</td>\n",
       "      <td>1</td>\n",
       "    </tr>\n",
       "    <tr>\n",
       "      <th>14</th>\n",
       "      <td>6</td>\n",
       "      <td>5</td>\n",
       "      <td>sep</td>\n",
       "      <td>wed</td>\n",
       "      <td>92.9</td>\n",
       "      <td>133.3</td>\n",
       "      <td>699.6</td>\n",
       "      <td>9.2</td>\n",
       "      <td>26.4</td>\n",
       "      <td>21</td>\n",
       "      <td>4.5</td>\n",
       "      <td>0.0</td>\n",
       "      <td>0.0</td>\n",
       "      <td>0.0</td>\n",
       "      <td>11</td>\n",
       "      <td>6</td>\n",
       "    </tr>\n",
       "  </tbody>\n",
       "</table>\n",
       "</div>"
      ],
      "text/plain": [
       "    X  Y month  day  FFMC    DMC     DC   ISI  temp  RH  wind  rain  area  \\\n",
       "0   7  5   mar  fri  86.2   26.2   94.3   5.1   8.2  51   6.7   0.0   0.0   \n",
       "1   7  4   oct  tue  90.6   35.4  669.1   6.7  18.0  33   0.9   0.0   0.0   \n",
       "2   7  4   oct  sat  90.6   43.7  686.9   6.7  14.6  33   1.3   0.0   0.0   \n",
       "3   8  6   mar  fri  91.7   33.3   77.5   9.0   8.3  97   4.0   0.2   0.0   \n",
       "4   8  6   mar  sun  89.3   51.3  102.2   9.6  11.4  99   1.8   0.0   0.0   \n",
       "5   8  6   aug  sun  92.3   85.3  488.0  14.7  22.2  29   5.4   0.0   0.0   \n",
       "6   8  6   aug  mon  92.3   88.9  495.6   8.5  24.1  27   3.1   0.0   0.0   \n",
       "7   8  6   aug  mon  91.5  145.4  608.2  10.7   8.0  86   2.2   0.0   0.0   \n",
       "8   8  6   sep  tue  91.0  129.5  692.6   7.0  13.1  63   5.4   0.0   0.0   \n",
       "9   7  5   sep  sat  92.5   88.0  698.6   7.1  22.8  40   4.0   0.0   0.0   \n",
       "10  7  5   sep  sat  92.5   88.0  698.6   7.1  17.8  51   7.2   0.0   0.0   \n",
       "11  7  5   sep  sat  92.8   73.2  713.0  22.6  19.3  38   4.0   0.0   0.0   \n",
       "12  6  5   aug  fri  63.5   70.8  665.3   0.8  17.0  72   6.7   0.0   0.0   \n",
       "13  6  5   sep  mon  90.9  126.5  686.5   7.0  21.3  42   2.2   0.0   0.0   \n",
       "14  6  5   sep  wed  92.9  133.3  699.6   9.2  26.4  21   4.5   0.0   0.0   \n",
       "\n",
       "    Log-area  month_encoded  day_encoded  \n",
       "0        0.0              7            0  \n",
       "1        0.0             10            5  \n",
       "2        0.0             10            2  \n",
       "3        0.0              7            0  \n",
       "4        0.0              7            3  \n",
       "5        0.0              1            3  \n",
       "6        0.0              1            1  \n",
       "7        0.0              1            1  \n",
       "8        0.0             11            5  \n",
       "9        0.0             11            2  \n",
       "10       0.0             11            2  \n",
       "11       0.0             11            2  \n",
       "12       0.0              1            0  \n",
       "13       0.0             11            1  \n",
       "14       0.0             11            6  "
      ]
     },
     "execution_count": 80,
     "metadata": {},
     "output_type": "execute_result"
    }
   ],
   "source": [
    "forest['day_encoded']=encode.transform(forest['day'])\n",
    "forest.head(15)"
   ]
  },
  {
   "cell_type": "code",
   "execution_count": 81,
   "id": "5c83e650",
   "metadata": {},
   "outputs": [],
   "source": [
    "test_size=0.4"
   ]
  },
  {
   "cell_type": "markdown",
   "id": "deef0eb6",
   "metadata": {},
   "source": [
    "### Create Four selection feature set-ups "
   ]
  },
  {
   "cell_type": "markdown",
   "id": "22cd0e36",
   "metadata": {},
   "source": [
    "### 1) Naive Average Predictor"
   ]
  },
  {
   "cell_type": "code",
   "execution_count": 82,
   "id": "3b3e5429",
   "metadata": {},
   "outputs": [],
   "source": [
    "X_data=forest.drop(['area','Log-area','month','day'],axis=1)\n",
    "y_data=forest['Log-area']\n",
    "\n",
    "X_train, X_test, y_train, y_test = train_test_split(X_data, y_data, test_size=test_size, random_state = 42)"
   ]
  },
  {
   "cell_type": "markdown",
   "id": "090bcefc",
   "metadata": {},
   "source": [
    "### 2) STFWI - spatial, temporal, four FWI components"
   ]
  },
  {
   "cell_type": "code",
   "execution_count": 83,
   "id": "144f922d",
   "metadata": {},
   "outputs": [],
   "source": [
    "first=forest.drop(['area','Log-area','month','day','temp','RH','wind','rain'],axis=1)\n",
    "first_y=forest['Log-area']\n",
    "\n",
    "train_x, test_x, train_y, test_y = train_test_split(first, first_y, test_size=test_size, random_state = 42)"
   ]
  },
  {
   "cell_type": "markdown",
   "id": "a9a54b93",
   "metadata": {},
   "source": [
    "### 3) STM - spatial, temporal, four weather variables"
   ]
  },
  {
   "cell_type": "code",
   "execution_count": 84,
   "id": "cd9d592a",
   "metadata": {},
   "outputs": [],
   "source": [
    "second=forest[['month_encoded','day_encoded','temp','RH','wind','rain']]\n",
    "second_y=forest['Log-area']\n",
    "\n",
    "training_x, testing_x, training_y, testing_y = train_test_split(second, second_y, test_size=test_size, random_state = 42)"
   ]
  },
  {
   "cell_type": "markdown",
   "id": "1c10cd85",
   "metadata": {},
   "source": [
    "### 4) FWI - four FWI components"
   ]
  },
  {
   "cell_type": "code",
   "execution_count": 85,
   "id": "a6e6716e",
   "metadata": {},
   "outputs": [],
   "source": [
    "third=forest[['FFMC','DMC','DC','ISI']]\n",
    "third_y=forest['Log-area']\n",
    "\n",
    "t_x, te_x, t_y, te_y = train_test_split(third, third_y, test_size=test_size, random_state = 42)"
   ]
  },
  {
   "cell_type": "markdown",
   "id": "94f01292",
   "metadata": {},
   "source": [
    "### 5) M - four weather variables"
   ]
  },
  {
   "cell_type": "code",
   "execution_count": 86,
   "id": "dd399774",
   "metadata": {},
   "outputs": [],
   "source": [
    "fourth=forest[['temp','RH','wind','rain']]\n",
    "fourth_y=forest['Log-area']\n",
    "\n",
    "Xtrain, Xtest, ytrain, ytest = train_test_split(fourth, fourth_y, test_size=test_size, random_state = 42)"
   ]
  },
  {
   "cell_type": "markdown",
   "id": "3b470f73",
   "metadata": {},
   "source": [
    "### Reshaping values"
   ]
  },
  {
   "cell_type": "code",
   "execution_count": 87,
   "id": "1430d485",
   "metadata": {},
   "outputs": [],
   "source": [
    "y_train=y_train.values.reshape(y_train.size,1)"
   ]
  },
  {
   "cell_type": "code",
   "execution_count": 88,
   "id": "f903d95b",
   "metadata": {},
   "outputs": [],
   "source": [
    "ytrain = ytrain.values.reshape(ytrain.size,1)"
   ]
  },
  {
   "cell_type": "code",
   "execution_count": 89,
   "id": "b2c3264e",
   "metadata": {},
   "outputs": [],
   "source": [
    "train_y = train_y.values.reshape(train_y.size,1)"
   ]
  },
  {
   "cell_type": "code",
   "execution_count": 90,
   "id": "e8eb293e",
   "metadata": {},
   "outputs": [],
   "source": [
    "training_y=training_y.values.reshape(training_y.size,1)"
   ]
  },
  {
   "cell_type": "code",
   "execution_count": 91,
   "id": "711d0d7b",
   "metadata": {},
   "outputs": [],
   "source": [
    "t_y=t_y.values.reshape(t_y.size,1)"
   ]
  },
  {
   "cell_type": "code",
   "execution_count": 92,
   "id": "f6390b15",
   "metadata": {},
   "outputs": [
    {
     "data": {
      "text/html": [
       "<div>\n",
       "<style scoped>\n",
       "    .dataframe tbody tr th:only-of-type {\n",
       "        vertical-align: middle;\n",
       "    }\n",
       "\n",
       "    .dataframe tbody tr th {\n",
       "        vertical-align: top;\n",
       "    }\n",
       "\n",
       "    .dataframe thead th {\n",
       "        text-align: right;\n",
       "    }\n",
       "</style>\n",
       "<table border=\"1\" class=\"dataframe\">\n",
       "  <thead>\n",
       "    <tr style=\"text-align: right;\">\n",
       "      <th></th>\n",
       "      <th>X</th>\n",
       "      <th>Y</th>\n",
       "      <th>FFMC</th>\n",
       "      <th>DMC</th>\n",
       "      <th>DC</th>\n",
       "      <th>ISI</th>\n",
       "      <th>temp</th>\n",
       "      <th>RH</th>\n",
       "      <th>wind</th>\n",
       "      <th>rain</th>\n",
       "      <th>month_encoded</th>\n",
       "      <th>day_encoded</th>\n",
       "    </tr>\n",
       "  </thead>\n",
       "  <tbody>\n",
       "    <tr>\n",
       "      <th>228</th>\n",
       "      <td>4</td>\n",
       "      <td>6</td>\n",
       "      <td>93.5</td>\n",
       "      <td>149.3</td>\n",
       "      <td>728.6</td>\n",
       "      <td>8.1</td>\n",
       "      <td>28.3</td>\n",
       "      <td>26</td>\n",
       "      <td>3.1</td>\n",
       "      <td>0.0</td>\n",
       "      <td>11</td>\n",
       "      <td>3</td>\n",
       "    </tr>\n",
       "    <tr>\n",
       "      <th>193</th>\n",
       "      <td>4</td>\n",
       "      <td>5</td>\n",
       "      <td>92.9</td>\n",
       "      <td>133.3</td>\n",
       "      <td>699.6</td>\n",
       "      <td>9.2</td>\n",
       "      <td>24.3</td>\n",
       "      <td>25</td>\n",
       "      <td>4.0</td>\n",
       "      <td>0.0</td>\n",
       "      <td>11</td>\n",
       "      <td>6</td>\n",
       "    </tr>\n",
       "    <tr>\n",
       "      <th>81</th>\n",
       "      <td>1</td>\n",
       "      <td>2</td>\n",
       "      <td>90.2</td>\n",
       "      <td>99.6</td>\n",
       "      <td>631.2</td>\n",
       "      <td>6.3</td>\n",
       "      <td>17.9</td>\n",
       "      <td>44</td>\n",
       "      <td>2.2</td>\n",
       "      <td>0.0</td>\n",
       "      <td>1</td>\n",
       "      <td>3</td>\n",
       "    </tr>\n",
       "    <tr>\n",
       "      <th>109</th>\n",
       "      <td>4</td>\n",
       "      <td>5</td>\n",
       "      <td>88.6</td>\n",
       "      <td>91.8</td>\n",
       "      <td>709.9</td>\n",
       "      <td>7.1</td>\n",
       "      <td>17.4</td>\n",
       "      <td>56</td>\n",
       "      <td>5.4</td>\n",
       "      <td>0.0</td>\n",
       "      <td>11</td>\n",
       "      <td>1</td>\n",
       "    </tr>\n",
       "    <tr>\n",
       "      <th>428</th>\n",
       "      <td>1</td>\n",
       "      <td>3</td>\n",
       "      <td>94.8</td>\n",
       "      <td>222.4</td>\n",
       "      <td>698.6</td>\n",
       "      <td>13.9</td>\n",
       "      <td>26.2</td>\n",
       "      <td>34</td>\n",
       "      <td>5.8</td>\n",
       "      <td>0.0</td>\n",
       "      <td>1</td>\n",
       "      <td>4</td>\n",
       "    </tr>\n",
       "    <tr>\n",
       "      <th>...</th>\n",
       "      <td>...</td>\n",
       "      <td>...</td>\n",
       "      <td>...</td>\n",
       "      <td>...</td>\n",
       "      <td>...</td>\n",
       "      <td>...</td>\n",
       "      <td>...</td>\n",
       "      <td>...</td>\n",
       "      <td>...</td>\n",
       "      <td>...</td>\n",
       "      <td>...</td>\n",
       "      <td>...</td>\n",
       "    </tr>\n",
       "    <tr>\n",
       "      <th>71</th>\n",
       "      <td>4</td>\n",
       "      <td>5</td>\n",
       "      <td>94.3</td>\n",
       "      <td>85.1</td>\n",
       "      <td>692.3</td>\n",
       "      <td>15.9</td>\n",
       "      <td>17.7</td>\n",
       "      <td>37</td>\n",
       "      <td>3.6</td>\n",
       "      <td>0.0</td>\n",
       "      <td>11</td>\n",
       "      <td>0</td>\n",
       "    </tr>\n",
       "    <tr>\n",
       "      <th>106</th>\n",
       "      <td>4</td>\n",
       "      <td>5</td>\n",
       "      <td>91.4</td>\n",
       "      <td>30.7</td>\n",
       "      <td>74.3</td>\n",
       "      <td>7.5</td>\n",
       "      <td>18.2</td>\n",
       "      <td>29</td>\n",
       "      <td>3.1</td>\n",
       "      <td>0.0</td>\n",
       "      <td>7</td>\n",
       "      <td>4</td>\n",
       "    </tr>\n",
       "    <tr>\n",
       "      <th>270</th>\n",
       "      <td>2</td>\n",
       "      <td>2</td>\n",
       "      <td>92.1</td>\n",
       "      <td>152.6</td>\n",
       "      <td>658.2</td>\n",
       "      <td>14.3</td>\n",
       "      <td>21.8</td>\n",
       "      <td>56</td>\n",
       "      <td>3.1</td>\n",
       "      <td>0.0</td>\n",
       "      <td>1</td>\n",
       "      <td>5</td>\n",
       "    </tr>\n",
       "    <tr>\n",
       "      <th>435</th>\n",
       "      <td>2</td>\n",
       "      <td>5</td>\n",
       "      <td>90.8</td>\n",
       "      <td>84.7</td>\n",
       "      <td>376.6</td>\n",
       "      <td>5.6</td>\n",
       "      <td>23.8</td>\n",
       "      <td>51</td>\n",
       "      <td>1.8</td>\n",
       "      <td>0.0</td>\n",
       "      <td>5</td>\n",
       "      <td>2</td>\n",
       "    </tr>\n",
       "    <tr>\n",
       "      <th>102</th>\n",
       "      <td>2</td>\n",
       "      <td>4</td>\n",
       "      <td>94.8</td>\n",
       "      <td>108.3</td>\n",
       "      <td>647.1</td>\n",
       "      <td>17.0</td>\n",
       "      <td>20.1</td>\n",
       "      <td>40</td>\n",
       "      <td>4.0</td>\n",
       "      <td>0.0</td>\n",
       "      <td>1</td>\n",
       "      <td>5</td>\n",
       "    </tr>\n",
       "  </tbody>\n",
       "</table>\n",
       "<p>310 rows × 12 columns</p>\n",
       "</div>"
      ],
      "text/plain": [
       "     X  Y  FFMC    DMC     DC   ISI  temp  RH  wind  rain  month_encoded  \\\n",
       "228  4  6  93.5  149.3  728.6   8.1  28.3  26   3.1   0.0             11   \n",
       "193  4  5  92.9  133.3  699.6   9.2  24.3  25   4.0   0.0             11   \n",
       "81   1  2  90.2   99.6  631.2   6.3  17.9  44   2.2   0.0              1   \n",
       "109  4  5  88.6   91.8  709.9   7.1  17.4  56   5.4   0.0             11   \n",
       "428  1  3  94.8  222.4  698.6  13.9  26.2  34   5.8   0.0              1   \n",
       "..  .. ..   ...    ...    ...   ...   ...  ..   ...   ...            ...   \n",
       "71   4  5  94.3   85.1  692.3  15.9  17.7  37   3.6   0.0             11   \n",
       "106  4  5  91.4   30.7   74.3   7.5  18.2  29   3.1   0.0              7   \n",
       "270  2  2  92.1  152.6  658.2  14.3  21.8  56   3.1   0.0              1   \n",
       "435  2  5  90.8   84.7  376.6   5.6  23.8  51   1.8   0.0              5   \n",
       "102  2  4  94.8  108.3  647.1  17.0  20.1  40   4.0   0.0              1   \n",
       "\n",
       "     day_encoded  \n",
       "228            3  \n",
       "193            6  \n",
       "81             3  \n",
       "109            1  \n",
       "428            4  \n",
       "..           ...  \n",
       "71             0  \n",
       "106            4  \n",
       "270            5  \n",
       "435            2  \n",
       "102            5  \n",
       "\n",
       "[310 rows x 12 columns]"
      ]
     },
     "execution_count": 92,
     "metadata": {},
     "output_type": "execute_result"
    }
   ],
   "source": [
    "X_train"
   ]
  },
  {
   "cell_type": "markdown",
   "id": "8284d02f",
   "metadata": {},
   "source": [
    "### REC Estimation"
   ]
  },
  {
   "cell_type": "code",
   "execution_count": 93,
   "id": "20964f7c",
   "metadata": {},
   "outputs": [],
   "source": [
    "def rec(m,n,tol):\n",
    "    if type(m)!='numpy.ndarray':\n",
    "        m=np.array(m)\n",
    "    if type(n)!='numpy.ndarray':\n",
    "        n=np.array(n)\n",
    "    l=m.size\n",
    "    percent = 0\n",
    "    for i in range(l):\n",
    "        if np.abs(10**m[i]-10**n[i])<=tol:\n",
    "            percent+=1\n",
    "    return 100*(percent/l)"
   ]
  },
  {
   "cell_type": "code",
   "execution_count": 94,
   "id": "0e00c1cc",
   "metadata": {},
   "outputs": [],
   "source": [
    "# Maximum tolerance limit for REC curve x-axis\n",
    "# This represents the absolute value of error in the prediction of the outcome i.e. area burned\n",
    "tol_max=20"
   ]
  },
  {
   "cell_type": "markdown",
   "id": "ecefbb9e",
   "metadata": {},
   "source": [
    "### MACHINE LEARNING MODELS"
   ]
  },
  {
   "cell_type": "markdown",
   "id": "05ab882f",
   "metadata": {},
   "source": [
    "### Multiple Regression"
   ]
  },
  {
   "cell_type": "code",
   "execution_count": 95,
   "id": "db6dc9fd",
   "metadata": {},
   "outputs": [],
   "source": [
    "from sklearn.linear_model import LinearRegression\n",
    "import sklearn\n",
    "from sklearn import linear_model"
   ]
  },
  {
   "cell_type": "code",
   "execution_count": 96,
   "id": "d043fca3",
   "metadata": {},
   "outputs": [
    {
     "name": "stderr",
     "output_type": "stream",
     "text": [
      "/Users/pranithagaddam/anaconda3/lib/python3.9/site-packages/sklearn/linear_model/_base.py:141: FutureWarning: 'normalize' was deprecated in version 1.0 and will be removed in 1.2.\n",
      "If you wish to scale the data, use Pipeline with a StandardScaler in a preprocessing stage. To reproduce the previous behavior:\n",
      "\n",
      "from sklearn.pipeline import make_pipeline\n",
      "\n",
      "model = make_pipeline(StandardScaler(with_mean=False), LinearRegression())\n",
      "\n",
      "If you wish to pass a sample_weight parameter, you need to pass it as a fit parameter to each step of the pipeline as follows:\n",
      "\n",
      "kwargs = {s[0] + '__sample_weight': sample_weight for s in model.steps}\n",
      "model.fit(X, y, **kwargs)\n",
      "\n",
      "\n",
      "  warnings.warn(\n",
      "/Users/pranithagaddam/anaconda3/lib/python3.9/site-packages/sklearn/linear_model/_base.py:141: FutureWarning: 'normalize' was deprecated in version 1.0 and will be removed in 1.2.\n",
      "If you wish to scale the data, use Pipeline with a StandardScaler in a preprocessing stage. To reproduce the previous behavior:\n",
      "\n",
      "from sklearn.pipeline import make_pipeline\n",
      "\n",
      "model = make_pipeline(StandardScaler(with_mean=False), LinearRegression())\n",
      "\n",
      "If you wish to pass a sample_weight parameter, you need to pass it as a fit parameter to each step of the pipeline as follows:\n",
      "\n",
      "kwargs = {s[0] + '__sample_weight': sample_weight for s in model.steps}\n",
      "model.fit(X, y, **kwargs)\n",
      "\n",
      "\n",
      "  warnings.warn(\n",
      "/Users/pranithagaddam/anaconda3/lib/python3.9/site-packages/sklearn/linear_model/_base.py:141: FutureWarning: 'normalize' was deprecated in version 1.0 and will be removed in 1.2.\n",
      "If you wish to scale the data, use Pipeline with a StandardScaler in a preprocessing stage. To reproduce the previous behavior:\n",
      "\n",
      "from sklearn.pipeline import make_pipeline\n",
      "\n",
      "model = make_pipeline(StandardScaler(with_mean=False), LinearRegression())\n",
      "\n",
      "If you wish to pass a sample_weight parameter, you need to pass it as a fit parameter to each step of the pipeline as follows:\n",
      "\n",
      "kwargs = {s[0] + '__sample_weight': sample_weight for s in model.steps}\n",
      "model.fit(X, y, **kwargs)\n",
      "\n",
      "\n",
      "  warnings.warn(\n",
      "/Users/pranithagaddam/anaconda3/lib/python3.9/site-packages/sklearn/linear_model/_base.py:141: FutureWarning: 'normalize' was deprecated in version 1.0 and will be removed in 1.2.\n",
      "If you wish to scale the data, use Pipeline with a StandardScaler in a preprocessing stage. To reproduce the previous behavior:\n",
      "\n",
      "from sklearn.pipeline import make_pipeline\n",
      "\n",
      "model = make_pipeline(StandardScaler(with_mean=False), LinearRegression())\n",
      "\n",
      "If you wish to pass a sample_weight parameter, you need to pass it as a fit parameter to each step of the pipeline as follows:\n",
      "\n",
      "kwargs = {s[0] + '__sample_weight': sample_weight for s in model.steps}\n",
      "model.fit(X, y, **kwargs)\n",
      "\n",
      "\n",
      "  warnings.warn(\n",
      "/Users/pranithagaddam/anaconda3/lib/python3.9/site-packages/sklearn/linear_model/_base.py:141: FutureWarning: 'normalize' was deprecated in version 1.0 and will be removed in 1.2.\n",
      "If you wish to scale the data, use Pipeline with a StandardScaler in a preprocessing stage. To reproduce the previous behavior:\n",
      "\n",
      "from sklearn.pipeline import make_pipeline\n",
      "\n",
      "model = make_pipeline(StandardScaler(with_mean=False), LinearRegression())\n",
      "\n",
      "If you wish to pass a sample_weight parameter, you need to pass it as a fit parameter to each step of the pipeline as follows:\n",
      "\n",
      "kwargs = {s[0] + '__sample_weight': sample_weight for s in model.steps}\n",
      "model.fit(X, y, **kwargs)\n",
      "\n",
      "\n",
      "  warnings.warn(\n"
     ]
    },
    {
     "data": {
      "text/plain": [
       "LinearRegression(normalize=True)"
      ]
     },
     "execution_count": 96,
     "metadata": {},
     "output_type": "execute_result"
    }
   ],
   "source": [
    "regr1 = LinearRegression(normalize=True)\n",
    "regr1.fit(X_train,y_train)\n",
    "\n",
    "\n",
    "regr2 = LinearRegression(normalize=True)\n",
    "regr2.fit(train_x,train_y)\n",
    "\n",
    "regr3 = LinearRegression(normalize=True)\n",
    "regr3.fit(training_x,training_y)\n",
    "\n",
    "regr4 = LinearRegression(normalize=True)\n",
    "regr4.fit(t_x,t_y)\n",
    "\n",
    "regr5 = LinearRegression(normalize=True)\n",
    "regr5.fit(Xtrain,ytrain)\n"
   ]
  },
  {
   "cell_type": "code",
   "execution_count": 97,
   "id": "9c133b1a",
   "metadata": {},
   "outputs": [
    {
     "data": {
      "text/plain": [
       "array([[0.5004795 ],\n",
       "       [0.57031148],\n",
       "       [0.45671435],\n",
       "       [0.51206144],\n",
       "       [0.54583692],\n",
       "       [0.43543627],\n",
       "       [0.47848391],\n",
       "       [0.49058701],\n",
       "       [0.47816088],\n",
       "       [0.47001799],\n",
       "       [0.50759753],\n",
       "       [0.46093218],\n",
       "       [0.4514039 ],\n",
       "       [0.48185555],\n",
       "       [0.5552052 ],\n",
       "       [0.41633617],\n",
       "       [0.44853705],\n",
       "       [0.49337113],\n",
       "       [0.50659441],\n",
       "       [0.53275386],\n",
       "       [0.48617273],\n",
       "       [0.51307662],\n",
       "       [0.50240493],\n",
       "       [0.53148661],\n",
       "       [0.5239101 ],\n",
       "       [0.48978182],\n",
       "       [0.44669574],\n",
       "       [0.47021488],\n",
       "       [0.43773165],\n",
       "       [0.42091257],\n",
       "       [0.58929894],\n",
       "       [0.49693236],\n",
       "       [0.44561147],\n",
       "       [0.50043064],\n",
       "       [0.50596757],\n",
       "       [0.53357232],\n",
       "       [0.44093772],\n",
       "       [0.52054373],\n",
       "       [0.48627827],\n",
       "       [0.45586271],\n",
       "       [0.48459663],\n",
       "       [0.53148661],\n",
       "       [0.41234929],\n",
       "       [0.47328936],\n",
       "       [0.47635875],\n",
       "       [0.50680221],\n",
       "       [0.42969798],\n",
       "       [0.57191752],\n",
       "       [0.49169627],\n",
       "       [0.52038019],\n",
       "       [0.51364063],\n",
       "       [0.50296391],\n",
       "       [0.50526915],\n",
       "       [0.45627542],\n",
       "       [0.54364708],\n",
       "       [0.53767352],\n",
       "       [0.39369198],\n",
       "       [0.47381219],\n",
       "       [0.43191114],\n",
       "       [0.46206072],\n",
       "       [0.41371899],\n",
       "       [0.50829427],\n",
       "       [0.51782255],\n",
       "       [0.49829679],\n",
       "       [0.46116313],\n",
       "       [0.44485751],\n",
       "       [0.46521636],\n",
       "       [0.45886097],\n",
       "       [0.49407078],\n",
       "       [0.49592396],\n",
       "       [0.48155039],\n",
       "       [0.43982414],\n",
       "       [0.50546878],\n",
       "       [0.41883609],\n",
       "       [0.41243846],\n",
       "       [0.50794556],\n",
       "       [0.54085354],\n",
       "       [0.51219012],\n",
       "       [0.50293073],\n",
       "       [0.46248037],\n",
       "       [0.46568998],\n",
       "       [0.49616158],\n",
       "       [0.50759753],\n",
       "       [0.4638698 ],\n",
       "       [0.42967193],\n",
       "       [0.35260088],\n",
       "       [0.47159903],\n",
       "       [0.46725253],\n",
       "       [0.49783549],\n",
       "       [0.45868107],\n",
       "       [0.49980194],\n",
       "       [0.51771392],\n",
       "       [0.45603443],\n",
       "       [0.4988409 ],\n",
       "       [0.5364075 ],\n",
       "       [0.46023236],\n",
       "       [0.47405195],\n",
       "       [0.46272445],\n",
       "       [0.49011013],\n",
       "       [0.50988164],\n",
       "       [0.44671546],\n",
       "       [0.6616089 ],\n",
       "       [0.55791943],\n",
       "       [0.54897911],\n",
       "       [0.4949636 ],\n",
       "       [0.43363414],\n",
       "       [0.4922586 ],\n",
       "       [0.49835961],\n",
       "       [0.41679006],\n",
       "       [0.46560917],\n",
       "       [0.48247606],\n",
       "       [0.47376483],\n",
       "       [0.52915514],\n",
       "       [0.43201359],\n",
       "       [0.45320894],\n",
       "       [0.43493811],\n",
       "       [0.50728419],\n",
       "       [0.46385826],\n",
       "       [0.51339797],\n",
       "       [0.42652615],\n",
       "       [0.4921742 ],\n",
       "       [0.53527201],\n",
       "       [0.44778018],\n",
       "       [0.56132116],\n",
       "       [0.49407896],\n",
       "       [0.44696649],\n",
       "       [0.46685328],\n",
       "       [0.44508337],\n",
       "       [0.51159751],\n",
       "       [0.49783549],\n",
       "       [0.46201767],\n",
       "       [0.51581075],\n",
       "       [0.49613845],\n",
       "       [0.51330724],\n",
       "       [0.58779888],\n",
       "       [0.5106686 ],\n",
       "       [0.52552538],\n",
       "       [0.50274283],\n",
       "       [0.49282789],\n",
       "       [0.51830125],\n",
       "       [0.39703026],\n",
       "       [0.51559953],\n",
       "       [0.54985153],\n",
       "       [0.44815461],\n",
       "       [0.50206923],\n",
       "       [0.40803597],\n",
       "       [0.49693868],\n",
       "       [0.43300035],\n",
       "       [0.51907976],\n",
       "       [0.54001827],\n",
       "       [0.49506078],\n",
       "       [0.50829427],\n",
       "       [0.51064069],\n",
       "       [0.57471261],\n",
       "       [0.51494124],\n",
       "       [0.46168832],\n",
       "       [0.45252443],\n",
       "       [0.4955608 ],\n",
       "       [0.52660505],\n",
       "       [0.51062556],\n",
       "       [0.44459103],\n",
       "       [0.45998336],\n",
       "       [0.52142513],\n",
       "       [0.4894157 ],\n",
       "       [0.50489472],\n",
       "       [0.45826546],\n",
       "       [0.48454418],\n",
       "       [0.53145976],\n",
       "       [0.45043872],\n",
       "       [0.47682882],\n",
       "       [0.44428004],\n",
       "       [0.50696884],\n",
       "       [0.48384435],\n",
       "       [0.49760392],\n",
       "       [0.52880493],\n",
       "       [0.52595154],\n",
       "       [0.49071736],\n",
       "       [0.51664752],\n",
       "       [0.49232973],\n",
       "       [0.51789691],\n",
       "       [0.41755202],\n",
       "       [0.47641165],\n",
       "       [0.47470037],\n",
       "       [0.4710762 ],\n",
       "       [0.48830626],\n",
       "       [0.4728552 ],\n",
       "       [0.56404729],\n",
       "       [0.43253042],\n",
       "       [0.53767352],\n",
       "       [0.49377671],\n",
       "       [0.50754322],\n",
       "       [0.53722613],\n",
       "       [0.45795997],\n",
       "       [0.53149479],\n",
       "       [0.5544281 ],\n",
       "       [0.46474257],\n",
       "       [0.49116071],\n",
       "       [0.46215207],\n",
       "       [0.51947274],\n",
       "       [0.52213128],\n",
       "       [0.50800206],\n",
       "       [0.46098155],\n",
       "       [0.51118375],\n",
       "       [0.46838634],\n",
       "       [0.57158922],\n",
       "       [0.49265635],\n",
       "       [0.52916747]])"
      ]
     },
     "execution_count": 97,
     "metadata": {},
     "output_type": "execute_result"
    }
   ],
   "source": [
    "y_pred1 = regr1.predict(X_test)\n",
    "y_pred1\n",
    "\n",
    "y_pred2 = regr2.predict(test_x)\n",
    "y_pred2\n",
    "\n",
    "y_pred3 = regr3.predict(testing_x)\n",
    "y_pred3\n",
    "\n",
    "y_pred4 = regr4.predict(te_x)\n",
    "y_pred4\n",
    "\n",
    "y_pred5 = regr5.predict(Xtest)\n",
    "y_pred5"
   ]
  },
  {
   "cell_type": "code",
   "execution_count": 98,
   "id": "b4d48987",
   "metadata": {
    "scrolled": true
   },
   "outputs": [
    {
     "data": {
      "text/plain": [
       "array([0.5004795 , 0.57031148, 0.45671435, 0.51206144, 0.54583692,\n",
       "       0.43543627, 0.47848391, 0.49058701, 0.47816088, 0.47001799,\n",
       "       0.50759753, 0.46093218, 0.4514039 , 0.48185555, 0.5552052 ,\n",
       "       0.41633617, 0.44853705, 0.49337113, 0.50659441, 0.53275386,\n",
       "       0.48617273, 0.51307662, 0.50240493, 0.53148661, 0.5239101 ,\n",
       "       0.48978182, 0.44669574, 0.47021488, 0.43773165, 0.42091257,\n",
       "       0.58929894, 0.49693236, 0.44561147, 0.50043064, 0.50596757,\n",
       "       0.53357232, 0.44093772, 0.52054373, 0.48627827, 0.45586271,\n",
       "       0.48459663, 0.53148661, 0.41234929, 0.47328936, 0.47635875,\n",
       "       0.50680221, 0.42969798, 0.57191752, 0.49169627, 0.52038019,\n",
       "       0.51364063, 0.50296391, 0.50526915, 0.45627542, 0.54364708,\n",
       "       0.53767352, 0.39369198, 0.47381219, 0.43191114, 0.46206072,\n",
       "       0.41371899, 0.50829427, 0.51782255, 0.49829679, 0.46116313,\n",
       "       0.44485751, 0.46521636, 0.45886097, 0.49407078, 0.49592396,\n",
       "       0.48155039, 0.43982414, 0.50546878, 0.41883609, 0.41243846,\n",
       "       0.50794556, 0.54085354, 0.51219012, 0.50293073, 0.46248037,\n",
       "       0.46568998, 0.49616158, 0.50759753, 0.4638698 , 0.42967193,\n",
       "       0.35260088, 0.47159903, 0.46725253, 0.49783549, 0.45868107,\n",
       "       0.49980194, 0.51771392, 0.45603443, 0.4988409 , 0.5364075 ,\n",
       "       0.46023236, 0.47405195, 0.46272445, 0.49011013, 0.50988164,\n",
       "       0.44671546, 0.6616089 , 0.55791943, 0.54897911, 0.4949636 ,\n",
       "       0.43363414, 0.4922586 , 0.49835961, 0.41679006, 0.46560917,\n",
       "       0.48247606, 0.47376483, 0.52915514, 0.43201359, 0.45320894,\n",
       "       0.43493811, 0.50728419, 0.46385826, 0.51339797, 0.42652615,\n",
       "       0.4921742 , 0.53527201, 0.44778018, 0.56132116, 0.49407896,\n",
       "       0.44696649, 0.46685328, 0.44508337, 0.51159751, 0.49783549,\n",
       "       0.46201767, 0.51581075, 0.49613845, 0.51330724, 0.58779888,\n",
       "       0.5106686 , 0.52552538, 0.50274283, 0.49282789, 0.51830125,\n",
       "       0.39703026, 0.51559953, 0.54985153, 0.44815461, 0.50206923,\n",
       "       0.40803597, 0.49693868, 0.43300035, 0.51907976, 0.54001827,\n",
       "       0.49506078, 0.50829427, 0.51064069, 0.57471261, 0.51494124,\n",
       "       0.46168832, 0.45252443, 0.4955608 , 0.52660505, 0.51062556,\n",
       "       0.44459103, 0.45998336, 0.52142513, 0.4894157 , 0.50489472,\n",
       "       0.45826546, 0.48454418, 0.53145976, 0.45043872, 0.47682882,\n",
       "       0.44428004, 0.50696884, 0.48384435, 0.49760392, 0.52880493,\n",
       "       0.52595154, 0.49071736, 0.51664752, 0.49232973, 0.51789691,\n",
       "       0.41755202, 0.47641165, 0.47470037, 0.4710762 , 0.48830626,\n",
       "       0.4728552 , 0.56404729, 0.43253042, 0.53767352, 0.49377671,\n",
       "       0.50754322, 0.53722613, 0.45795997, 0.53149479, 0.5544281 ,\n",
       "       0.46474257, 0.49116071, 0.46215207, 0.51947274, 0.52213128,\n",
       "       0.50800206, 0.46098155, 0.51118375, 0.46838634, 0.57158922,\n",
       "       0.49265635, 0.52916747])"
      ]
     },
     "execution_count": 98,
     "metadata": {},
     "output_type": "execute_result"
    }
   ],
   "source": [
    "#Since y_pred is an array - we need to use the y_pred.flatten() function to compare the actual versus predicted results. \n",
    "y_pred1 = y_pred1.flatten()\n",
    "y_pred1\n",
    "\n",
    "y_pred2 = y_pred2.flatten()\n",
    "y_pred2\n",
    "\n",
    "y_pred3 = y_pred3.flatten()\n",
    "y_pred3\n",
    "\n",
    "y_pred4 = y_pred4.flatten()\n",
    "y_pred4\n",
    "\n",
    "y_pred5 = y_pred5.flatten()\n",
    "y_pred5"
   ]
  },
  {
   "cell_type": "code",
   "execution_count": 99,
   "id": "9095f009",
   "metadata": {},
   "outputs": [
    {
     "name": "stdout",
     "output_type": "stream",
     "text": [
      "RMSE score for MLR - Naive: 0.622005846080482\n",
      "RMSE score for MLR - STFWI: 0.6266508674422681\n",
      "RMSE score for MLR - STM: 0.6203683671030995\n",
      "RMSE score for MLR - FWI: 0.6155089624375816\n",
      "RMSE score for MLR - M: 0.6145209072681603\n"
     ]
    }
   ],
   "source": [
    "print(\"RMSE score for MLR - Naive:\",np.sqrt(np.mean((y_test-y_pred1)**2)))\n",
    "print(\"RMSE score for MLR - STFWI:\",np.sqrt(np.mean((test_y-y_pred2)**2)))\n",
    "print(\"RMSE score for MLR - STM:\",np.sqrt(np.mean((testing_y-y_pred3)**2)))\n",
    "print(\"RMSE score for MLR - FWI:\",np.sqrt(np.mean((te_y-y_pred4)**2)))\n",
    "print(\"RMSE score for MLR - M:\",np.sqrt(np.mean((ytest-y_pred5)**2)))"
   ]
  },
  {
   "cell_type": "markdown",
   "id": "e003b626",
   "metadata": {},
   "source": [
    "### Inverse Logarithmic transformation"
   ]
  },
  {
   "cell_type": "code",
   "execution_count": 100,
   "id": "220c463f",
   "metadata": {},
   "outputs": [
    {
     "name": "stdout",
     "output_type": "stream",
     "text": [
      "62.2005846080482\n",
      "62.665086744226805\n",
      "62.03683671030995\n",
      "61.55089624375816\n",
      "61.45209072681603\n"
     ]
    }
   ],
   "source": [
    "print(np.sqrt(np.mean((y_test-y_pred1)**2))*100)\n",
    "print(np.sqrt(np.mean((y_test-y_pred2)**2))*100)\n",
    "print(np.sqrt(np.mean((y_test-y_pred3)**2))*100)\n",
    "print(np.sqrt(np.mean((y_test-y_pred4)**2))*100)\n",
    "print(np.sqrt(np.mean((y_test-y_pred5)**2))*100)"
   ]
  },
  {
   "cell_type": "markdown",
   "id": "7badb178",
   "metadata": {},
   "source": [
    "### Support Vector Regressor (SVR)"
   ]
  },
  {
   "cell_type": "code",
   "execution_count": 101,
   "id": "29e482a7",
   "metadata": {},
   "outputs": [],
   "source": [
    "from sklearn.svm import SVR\n",
    "from sklearn.preprocessing import StandardScaler\n",
    "from sklearn.model_selection import GridSearchCV"
   ]
  },
  {
   "cell_type": "code",
   "execution_count": 102,
   "id": "633b92eb",
   "metadata": {},
   "outputs": [],
   "source": [
    "#standardise the data - mean = 0, standard deviation = 1\n",
    "scaler = StandardScaler()"
   ]
  },
  {
   "cell_type": "code",
   "execution_count": 103,
   "id": "89337aa3",
   "metadata": {},
   "outputs": [],
   "source": [
    "#Parameter grid for the Grid Search CV\n",
    "param_grid = {'C': [3], 'gamma':[0.00195,0.00781, 0.03125, 0.03703, 0.5], 'kernel': ['rbf']}"
   ]
  },
  {
   "cell_type": "code",
   "execution_count": 104,
   "id": "e7f8784a",
   "metadata": {},
   "outputs": [
    {
     "name": "stderr",
     "output_type": "stream",
     "text": [
      "/Users/pranithagaddam/anaconda3/lib/python3.9/site-packages/sklearn/utils/validation.py:993: DataConversionWarning: A column-vector y was passed when a 1d array was expected. Please change the shape of y to (n_samples, ), for example using ravel().\n",
      "  y = column_or_1d(y, warn=True)\n",
      "/Users/pranithagaddam/anaconda3/lib/python3.9/site-packages/sklearn/utils/validation.py:993: DataConversionWarning: A column-vector y was passed when a 1d array was expected. Please change the shape of y to (n_samples, ), for example using ravel().\n",
      "  y = column_or_1d(y, warn=True)\n",
      "/Users/pranithagaddam/anaconda3/lib/python3.9/site-packages/sklearn/utils/validation.py:993: DataConversionWarning: A column-vector y was passed when a 1d array was expected. Please change the shape of y to (n_samples, ), for example using ravel().\n",
      "  y = column_or_1d(y, warn=True)\n",
      "/Users/pranithagaddam/anaconda3/lib/python3.9/site-packages/sklearn/utils/validation.py:993: DataConversionWarning: A column-vector y was passed when a 1d array was expected. Please change the shape of y to (n_samples, ), for example using ravel().\n",
      "  y = column_or_1d(y, warn=True)\n",
      "/Users/pranithagaddam/anaconda3/lib/python3.9/site-packages/sklearn/utils/validation.py:993: DataConversionWarning: A column-vector y was passed when a 1d array was expected. Please change the shape of y to (n_samples, ), for example using ravel().\n",
      "  y = column_or_1d(y, warn=True)\n",
      "/Users/pranithagaddam/anaconda3/lib/python3.9/site-packages/sklearn/utils/validation.py:993: DataConversionWarning: A column-vector y was passed when a 1d array was expected. Please change the shape of y to (n_samples, ), for example using ravel().\n",
      "  y = column_or_1d(y, warn=True)\n",
      "/Users/pranithagaddam/anaconda3/lib/python3.9/site-packages/sklearn/utils/validation.py:993: DataConversionWarning: A column-vector y was passed when a 1d array was expected. Please change the shape of y to (n_samples, ), for example using ravel().\n",
      "  y = column_or_1d(y, warn=True)\n",
      "/Users/pranithagaddam/anaconda3/lib/python3.9/site-packages/sklearn/utils/validation.py:993: DataConversionWarning: A column-vector y was passed when a 1d array was expected. Please change the shape of y to (n_samples, ), for example using ravel().\n",
      "  y = column_or_1d(y, warn=True)\n",
      "/Users/pranithagaddam/anaconda3/lib/python3.9/site-packages/sklearn/utils/validation.py:993: DataConversionWarning: A column-vector y was passed when a 1d array was expected. Please change the shape of y to (n_samples, ), for example using ravel().\n",
      "  y = column_or_1d(y, warn=True)\n",
      "/Users/pranithagaddam/anaconda3/lib/python3.9/site-packages/sklearn/utils/validation.py:993: DataConversionWarning: A column-vector y was passed when a 1d array was expected. Please change the shape of y to (n_samples, ), for example using ravel().\n",
      "  y = column_or_1d(y, warn=True)\n",
      "/Users/pranithagaddam/anaconda3/lib/python3.9/site-packages/sklearn/utils/validation.py:993: DataConversionWarning: A column-vector y was passed when a 1d array was expected. Please change the shape of y to (n_samples, ), for example using ravel().\n",
      "  y = column_or_1d(y, warn=True)\n",
      "/Users/pranithagaddam/anaconda3/lib/python3.9/site-packages/sklearn/utils/validation.py:993: DataConversionWarning: A column-vector y was passed when a 1d array was expected. Please change the shape of y to (n_samples, ), for example using ravel().\n",
      "  y = column_or_1d(y, warn=True)\n",
      "/Users/pranithagaddam/anaconda3/lib/python3.9/site-packages/sklearn/utils/validation.py:993: DataConversionWarning: A column-vector y was passed when a 1d array was expected. Please change the shape of y to (n_samples, ), for example using ravel().\n",
      "  y = column_or_1d(y, warn=True)\n",
      "/Users/pranithagaddam/anaconda3/lib/python3.9/site-packages/sklearn/utils/validation.py:993: DataConversionWarning: A column-vector y was passed when a 1d array was expected. Please change the shape of y to (n_samples, ), for example using ravel().\n",
      "  y = column_or_1d(y, warn=True)\n",
      "/Users/pranithagaddam/anaconda3/lib/python3.9/site-packages/sklearn/utils/validation.py:993: DataConversionWarning: A column-vector y was passed when a 1d array was expected. Please change the shape of y to (n_samples, ), for example using ravel().\n",
      "  y = column_or_1d(y, warn=True)\n",
      "/Users/pranithagaddam/anaconda3/lib/python3.9/site-packages/sklearn/utils/validation.py:993: DataConversionWarning: A column-vector y was passed when a 1d array was expected. Please change the shape of y to (n_samples, ), for example using ravel().\n",
      "  y = column_or_1d(y, warn=True)\n",
      "/Users/pranithagaddam/anaconda3/lib/python3.9/site-packages/sklearn/utils/validation.py:993: DataConversionWarning: A column-vector y was passed when a 1d array was expected. Please change the shape of y to (n_samples, ), for example using ravel().\n",
      "  y = column_or_1d(y, warn=True)\n",
      "/Users/pranithagaddam/anaconda3/lib/python3.9/site-packages/sklearn/utils/validation.py:993: DataConversionWarning: A column-vector y was passed when a 1d array was expected. Please change the shape of y to (n_samples, ), for example using ravel().\n",
      "  y = column_or_1d(y, warn=True)\n",
      "/Users/pranithagaddam/anaconda3/lib/python3.9/site-packages/sklearn/utils/validation.py:993: DataConversionWarning: A column-vector y was passed when a 1d array was expected. Please change the shape of y to (n_samples, ), for example using ravel().\n",
      "  y = column_or_1d(y, warn=True)\n",
      "/Users/pranithagaddam/anaconda3/lib/python3.9/site-packages/sklearn/utils/validation.py:993: DataConversionWarning: A column-vector y was passed when a 1d array was expected. Please change the shape of y to (n_samples, ), for example using ravel().\n",
      "  y = column_or_1d(y, warn=True)\n",
      "/Users/pranithagaddam/anaconda3/lib/python3.9/site-packages/sklearn/utils/validation.py:993: DataConversionWarning: A column-vector y was passed when a 1d array was expected. Please change the shape of y to (n_samples, ), for example using ravel().\n",
      "  y = column_or_1d(y, warn=True)\n",
      "/Users/pranithagaddam/anaconda3/lib/python3.9/site-packages/sklearn/utils/validation.py:993: DataConversionWarning: A column-vector y was passed when a 1d array was expected. Please change the shape of y to (n_samples, ), for example using ravel().\n",
      "  y = column_or_1d(y, warn=True)\n",
      "/Users/pranithagaddam/anaconda3/lib/python3.9/site-packages/sklearn/utils/validation.py:993: DataConversionWarning: A column-vector y was passed when a 1d array was expected. Please change the shape of y to (n_samples, ), for example using ravel().\n",
      "  y = column_or_1d(y, warn=True)\n",
      "/Users/pranithagaddam/anaconda3/lib/python3.9/site-packages/sklearn/utils/validation.py:993: DataConversionWarning: A column-vector y was passed when a 1d array was expected. Please change the shape of y to (n_samples, ), for example using ravel().\n",
      "  y = column_or_1d(y, warn=True)\n",
      "/Users/pranithagaddam/anaconda3/lib/python3.9/site-packages/sklearn/utils/validation.py:993: DataConversionWarning: A column-vector y was passed when a 1d array was expected. Please change the shape of y to (n_samples, ), for example using ravel().\n",
      "  y = column_or_1d(y, warn=True)\n",
      "/Users/pranithagaddam/anaconda3/lib/python3.9/site-packages/sklearn/utils/validation.py:993: DataConversionWarning: A column-vector y was passed when a 1d array was expected. Please change the shape of y to (n_samples, ), for example using ravel().\n",
      "  y = column_or_1d(y, warn=True)\n",
      "/Users/pranithagaddam/anaconda3/lib/python3.9/site-packages/sklearn/utils/validation.py:993: DataConversionWarning: A column-vector y was passed when a 1d array was expected. Please change the shape of y to (n_samples, ), for example using ravel().\n",
      "  y = column_or_1d(y, warn=True)\n",
      "/Users/pranithagaddam/anaconda3/lib/python3.9/site-packages/sklearn/utils/validation.py:993: DataConversionWarning: A column-vector y was passed when a 1d array was expected. Please change the shape of y to (n_samples, ), for example using ravel().\n",
      "  y = column_or_1d(y, warn=True)\n",
      "/Users/pranithagaddam/anaconda3/lib/python3.9/site-packages/sklearn/utils/validation.py:993: DataConversionWarning: A column-vector y was passed when a 1d array was expected. Please change the shape of y to (n_samples, ), for example using ravel().\n",
      "  y = column_or_1d(y, warn=True)\n",
      "/Users/pranithagaddam/anaconda3/lib/python3.9/site-packages/sklearn/utils/validation.py:993: DataConversionWarning: A column-vector y was passed when a 1d array was expected. Please change the shape of y to (n_samples, ), for example using ravel().\n",
      "  y = column_or_1d(y, warn=True)\n",
      "/Users/pranithagaddam/anaconda3/lib/python3.9/site-packages/sklearn/utils/validation.py:993: DataConversionWarning: A column-vector y was passed when a 1d array was expected. Please change the shape of y to (n_samples, ), for example using ravel().\n",
      "  y = column_or_1d(y, warn=True)\n"
     ]
    },
    {
     "name": "stderr",
     "output_type": "stream",
     "text": [
      "/Users/pranithagaddam/anaconda3/lib/python3.9/site-packages/sklearn/utils/validation.py:993: DataConversionWarning: A column-vector y was passed when a 1d array was expected. Please change the shape of y to (n_samples, ), for example using ravel().\n",
      "  y = column_or_1d(y, warn=True)\n",
      "/Users/pranithagaddam/anaconda3/lib/python3.9/site-packages/sklearn/utils/validation.py:993: DataConversionWarning: A column-vector y was passed when a 1d array was expected. Please change the shape of y to (n_samples, ), for example using ravel().\n",
      "  y = column_or_1d(y, warn=True)\n",
      "/Users/pranithagaddam/anaconda3/lib/python3.9/site-packages/sklearn/utils/validation.py:993: DataConversionWarning: A column-vector y was passed when a 1d array was expected. Please change the shape of y to (n_samples, ), for example using ravel().\n",
      "  y = column_or_1d(y, warn=True)\n",
      "/Users/pranithagaddam/anaconda3/lib/python3.9/site-packages/sklearn/utils/validation.py:993: DataConversionWarning: A column-vector y was passed when a 1d array was expected. Please change the shape of y to (n_samples, ), for example using ravel().\n",
      "  y = column_or_1d(y, warn=True)\n",
      "/Users/pranithagaddam/anaconda3/lib/python3.9/site-packages/sklearn/utils/validation.py:993: DataConversionWarning: A column-vector y was passed when a 1d array was expected. Please change the shape of y to (n_samples, ), for example using ravel().\n",
      "  y = column_or_1d(y, warn=True)\n",
      "/Users/pranithagaddam/anaconda3/lib/python3.9/site-packages/sklearn/utils/validation.py:993: DataConversionWarning: A column-vector y was passed when a 1d array was expected. Please change the shape of y to (n_samples, ), for example using ravel().\n",
      "  y = column_or_1d(y, warn=True)\n",
      "/Users/pranithagaddam/anaconda3/lib/python3.9/site-packages/sklearn/utils/validation.py:993: DataConversionWarning: A column-vector y was passed when a 1d array was expected. Please change the shape of y to (n_samples, ), for example using ravel().\n",
      "  y = column_or_1d(y, warn=True)\n",
      "/Users/pranithagaddam/anaconda3/lib/python3.9/site-packages/sklearn/utils/validation.py:993: DataConversionWarning: A column-vector y was passed when a 1d array was expected. Please change the shape of y to (n_samples, ), for example using ravel().\n",
      "  y = column_or_1d(y, warn=True)\n",
      "/Users/pranithagaddam/anaconda3/lib/python3.9/site-packages/sklearn/utils/validation.py:993: DataConversionWarning: A column-vector y was passed when a 1d array was expected. Please change the shape of y to (n_samples, ), for example using ravel().\n",
      "  y = column_or_1d(y, warn=True)\n",
      "/Users/pranithagaddam/anaconda3/lib/python3.9/site-packages/sklearn/utils/validation.py:993: DataConversionWarning: A column-vector y was passed when a 1d array was expected. Please change the shape of y to (n_samples, ), for example using ravel().\n",
      "  y = column_or_1d(y, warn=True)\n",
      "/Users/pranithagaddam/anaconda3/lib/python3.9/site-packages/sklearn/utils/validation.py:993: DataConversionWarning: A column-vector y was passed when a 1d array was expected. Please change the shape of y to (n_samples, ), for example using ravel().\n",
      "  y = column_or_1d(y, warn=True)\n",
      "/Users/pranithagaddam/anaconda3/lib/python3.9/site-packages/sklearn/utils/validation.py:993: DataConversionWarning: A column-vector y was passed when a 1d array was expected. Please change the shape of y to (n_samples, ), for example using ravel().\n",
      "  y = column_or_1d(y, warn=True)\n",
      "/Users/pranithagaddam/anaconda3/lib/python3.9/site-packages/sklearn/utils/validation.py:993: DataConversionWarning: A column-vector y was passed when a 1d array was expected. Please change the shape of y to (n_samples, ), for example using ravel().\n",
      "  y = column_or_1d(y, warn=True)\n",
      "/Users/pranithagaddam/anaconda3/lib/python3.9/site-packages/sklearn/utils/validation.py:993: DataConversionWarning: A column-vector y was passed when a 1d array was expected. Please change the shape of y to (n_samples, ), for example using ravel().\n",
      "  y = column_or_1d(y, warn=True)\n",
      "/Users/pranithagaddam/anaconda3/lib/python3.9/site-packages/sklearn/utils/validation.py:993: DataConversionWarning: A column-vector y was passed when a 1d array was expected. Please change the shape of y to (n_samples, ), for example using ravel().\n",
      "  y = column_or_1d(y, warn=True)\n",
      "/Users/pranithagaddam/anaconda3/lib/python3.9/site-packages/sklearn/utils/validation.py:993: DataConversionWarning: A column-vector y was passed when a 1d array was expected. Please change the shape of y to (n_samples, ), for example using ravel().\n",
      "  y = column_or_1d(y, warn=True)\n",
      "/Users/pranithagaddam/anaconda3/lib/python3.9/site-packages/sklearn/utils/validation.py:993: DataConversionWarning: A column-vector y was passed when a 1d array was expected. Please change the shape of y to (n_samples, ), for example using ravel().\n",
      "  y = column_or_1d(y, warn=True)\n",
      "/Users/pranithagaddam/anaconda3/lib/python3.9/site-packages/sklearn/utils/validation.py:993: DataConversionWarning: A column-vector y was passed when a 1d array was expected. Please change the shape of y to (n_samples, ), for example using ravel().\n",
      "  y = column_or_1d(y, warn=True)\n",
      "/Users/pranithagaddam/anaconda3/lib/python3.9/site-packages/sklearn/utils/validation.py:993: DataConversionWarning: A column-vector y was passed when a 1d array was expected. Please change the shape of y to (n_samples, ), for example using ravel().\n",
      "  y = column_or_1d(y, warn=True)\n",
      "/Users/pranithagaddam/anaconda3/lib/python3.9/site-packages/sklearn/utils/validation.py:993: DataConversionWarning: A column-vector y was passed when a 1d array was expected. Please change the shape of y to (n_samples, ), for example using ravel().\n",
      "  y = column_or_1d(y, warn=True)\n",
      "/Users/pranithagaddam/anaconda3/lib/python3.9/site-packages/sklearn/utils/validation.py:993: DataConversionWarning: A column-vector y was passed when a 1d array was expected. Please change the shape of y to (n_samples, ), for example using ravel().\n",
      "  y = column_or_1d(y, warn=True)\n",
      "/Users/pranithagaddam/anaconda3/lib/python3.9/site-packages/sklearn/utils/validation.py:993: DataConversionWarning: A column-vector y was passed when a 1d array was expected. Please change the shape of y to (n_samples, ), for example using ravel().\n",
      "  y = column_or_1d(y, warn=True)\n",
      "/Users/pranithagaddam/anaconda3/lib/python3.9/site-packages/sklearn/utils/validation.py:993: DataConversionWarning: A column-vector y was passed when a 1d array was expected. Please change the shape of y to (n_samples, ), for example using ravel().\n",
      "  y = column_or_1d(y, warn=True)\n",
      "/Users/pranithagaddam/anaconda3/lib/python3.9/site-packages/sklearn/utils/validation.py:993: DataConversionWarning: A column-vector y was passed when a 1d array was expected. Please change the shape of y to (n_samples, ), for example using ravel().\n",
      "  y = column_or_1d(y, warn=True)\n",
      "/Users/pranithagaddam/anaconda3/lib/python3.9/site-packages/sklearn/utils/validation.py:993: DataConversionWarning: A column-vector y was passed when a 1d array was expected. Please change the shape of y to (n_samples, ), for example using ravel().\n",
      "  y = column_or_1d(y, warn=True)\n",
      "/Users/pranithagaddam/anaconda3/lib/python3.9/site-packages/sklearn/utils/validation.py:993: DataConversionWarning: A column-vector y was passed when a 1d array was expected. Please change the shape of y to (n_samples, ), for example using ravel().\n",
      "  y = column_or_1d(y, warn=True)\n",
      "/Users/pranithagaddam/anaconda3/lib/python3.9/site-packages/sklearn/utils/validation.py:993: DataConversionWarning: A column-vector y was passed when a 1d array was expected. Please change the shape of y to (n_samples, ), for example using ravel().\n",
      "  y = column_or_1d(y, warn=True)\n",
      "/Users/pranithagaddam/anaconda3/lib/python3.9/site-packages/sklearn/utils/validation.py:993: DataConversionWarning: A column-vector y was passed when a 1d array was expected. Please change the shape of y to (n_samples, ), for example using ravel().\n",
      "  y = column_or_1d(y, warn=True)\n",
      "/Users/pranithagaddam/anaconda3/lib/python3.9/site-packages/sklearn/utils/validation.py:993: DataConversionWarning: A column-vector y was passed when a 1d array was expected. Please change the shape of y to (n_samples, ), for example using ravel().\n",
      "  y = column_or_1d(y, warn=True)\n",
      "/Users/pranithagaddam/anaconda3/lib/python3.9/site-packages/sklearn/utils/validation.py:993: DataConversionWarning: A column-vector y was passed when a 1d array was expected. Please change the shape of y to (n_samples, ), for example using ravel().\n",
      "  y = column_or_1d(y, warn=True)\n",
      "/Users/pranithagaddam/anaconda3/lib/python3.9/site-packages/sklearn/utils/validation.py:993: DataConversionWarning: A column-vector y was passed when a 1d array was expected. Please change the shape of y to (n_samples, ), for example using ravel().\n",
      "  y = column_or_1d(y, warn=True)\n",
      "/Users/pranithagaddam/anaconda3/lib/python3.9/site-packages/sklearn/utils/validation.py:993: DataConversionWarning: A column-vector y was passed when a 1d array was expected. Please change the shape of y to (n_samples, ), for example using ravel().\n",
      "  y = column_or_1d(y, warn=True)\n",
      "/Users/pranithagaddam/anaconda3/lib/python3.9/site-packages/sklearn/utils/validation.py:993: DataConversionWarning: A column-vector y was passed when a 1d array was expected. Please change the shape of y to (n_samples, ), for example using ravel().\n",
      "  y = column_or_1d(y, warn=True)\n",
      "/Users/pranithagaddam/anaconda3/lib/python3.9/site-packages/sklearn/utils/validation.py:993: DataConversionWarning: A column-vector y was passed when a 1d array was expected. Please change the shape of y to (n_samples, ), for example using ravel().\n",
      "  y = column_or_1d(y, warn=True)\n",
      "/Users/pranithagaddam/anaconda3/lib/python3.9/site-packages/sklearn/utils/validation.py:993: DataConversionWarning: A column-vector y was passed when a 1d array was expected. Please change the shape of y to (n_samples, ), for example using ravel().\n",
      "  y = column_or_1d(y, warn=True)\n",
      "/Users/pranithagaddam/anaconda3/lib/python3.9/site-packages/sklearn/utils/validation.py:993: DataConversionWarning: A column-vector y was passed when a 1d array was expected. Please change the shape of y to (n_samples, ), for example using ravel().\n",
      "  y = column_or_1d(y, warn=True)\n",
      "/Users/pranithagaddam/anaconda3/lib/python3.9/site-packages/sklearn/utils/validation.py:993: DataConversionWarning: A column-vector y was passed when a 1d array was expected. Please change the shape of y to (n_samples, ), for example using ravel().\n",
      "  y = column_or_1d(y, warn=True)\n",
      "/Users/pranithagaddam/anaconda3/lib/python3.9/site-packages/sklearn/utils/validation.py:993: DataConversionWarning: A column-vector y was passed when a 1d array was expected. Please change the shape of y to (n_samples, ), for example using ravel().\n",
      "  y = column_or_1d(y, warn=True)\n",
      "/Users/pranithagaddam/anaconda3/lib/python3.9/site-packages/sklearn/utils/validation.py:993: DataConversionWarning: A column-vector y was passed when a 1d array was expected. Please change the shape of y to (n_samples, ), for example using ravel().\n",
      "  y = column_or_1d(y, warn=True)\n",
      "/Users/pranithagaddam/anaconda3/lib/python3.9/site-packages/sklearn/utils/validation.py:993: DataConversionWarning: A column-vector y was passed when a 1d array was expected. Please change the shape of y to (n_samples, ), for example using ravel().\n",
      "  y = column_or_1d(y, warn=True)\n",
      "/Users/pranithagaddam/anaconda3/lib/python3.9/site-packages/sklearn/utils/validation.py:993: DataConversionWarning: A column-vector y was passed when a 1d array was expected. Please change the shape of y to (n_samples, ), for example using ravel().\n",
      "  y = column_or_1d(y, warn=True)\n",
      "/Users/pranithagaddam/anaconda3/lib/python3.9/site-packages/sklearn/utils/validation.py:993: DataConversionWarning: A column-vector y was passed when a 1d array was expected. Please change the shape of y to (n_samples, ), for example using ravel().\n",
      "  y = column_or_1d(y, warn=True)\n",
      "/Users/pranithagaddam/anaconda3/lib/python3.9/site-packages/sklearn/utils/validation.py:993: DataConversionWarning: A column-vector y was passed when a 1d array was expected. Please change the shape of y to (n_samples, ), for example using ravel().\n",
      "  y = column_or_1d(y, warn=True)\n",
      "/Users/pranithagaddam/anaconda3/lib/python3.9/site-packages/sklearn/utils/validation.py:993: DataConversionWarning: A column-vector y was passed when a 1d array was expected. Please change the shape of y to (n_samples, ), for example using ravel().\n",
      "  y = column_or_1d(y, warn=True)\n",
      "/Users/pranithagaddam/anaconda3/lib/python3.9/site-packages/sklearn/utils/validation.py:993: DataConversionWarning: A column-vector y was passed when a 1d array was expected. Please change the shape of y to (n_samples, ), for example using ravel().\n",
      "  y = column_or_1d(y, warn=True)\n",
      "/Users/pranithagaddam/anaconda3/lib/python3.9/site-packages/sklearn/utils/validation.py:993: DataConversionWarning: A column-vector y was passed when a 1d array was expected. Please change the shape of y to (n_samples, ), for example using ravel().\n",
      "  y = column_or_1d(y, warn=True)\n",
      "/Users/pranithagaddam/anaconda3/lib/python3.9/site-packages/sklearn/utils/validation.py:993: DataConversionWarning: A column-vector y was passed when a 1d array was expected. Please change the shape of y to (n_samples, ), for example using ravel().\n",
      "  y = column_or_1d(y, warn=True)\n",
      "/Users/pranithagaddam/anaconda3/lib/python3.9/site-packages/sklearn/utils/validation.py:993: DataConversionWarning: A column-vector y was passed when a 1d array was expected. Please change the shape of y to (n_samples, ), for example using ravel().\n",
      "  y = column_or_1d(y, warn=True)\n",
      "/Users/pranithagaddam/anaconda3/lib/python3.9/site-packages/sklearn/utils/validation.py:993: DataConversionWarning: A column-vector y was passed when a 1d array was expected. Please change the shape of y to (n_samples, ), for example using ravel().\n",
      "  y = column_or_1d(y, warn=True)\n",
      "/Users/pranithagaddam/anaconda3/lib/python3.9/site-packages/sklearn/utils/validation.py:993: DataConversionWarning: A column-vector y was passed when a 1d array was expected. Please change the shape of y to (n_samples, ), for example using ravel().\n",
      "  y = column_or_1d(y, warn=True)\n",
      "/Users/pranithagaddam/anaconda3/lib/python3.9/site-packages/sklearn/utils/validation.py:993: DataConversionWarning: A column-vector y was passed when a 1d array was expected. Please change the shape of y to (n_samples, ), for example using ravel().\n",
      "  y = column_or_1d(y, warn=True)\n",
      "/Users/pranithagaddam/anaconda3/lib/python3.9/site-packages/sklearn/utils/validation.py:993: DataConversionWarning: A column-vector y was passed when a 1d array was expected. Please change the shape of y to (n_samples, ), for example using ravel().\n",
      "  y = column_or_1d(y, warn=True)\n",
      "/Users/pranithagaddam/anaconda3/lib/python3.9/site-packages/sklearn/utils/validation.py:993: DataConversionWarning: A column-vector y was passed when a 1d array was expected. Please change the shape of y to (n_samples, ), for example using ravel().\n",
      "  y = column_or_1d(y, warn=True)\n",
      "/Users/pranithagaddam/anaconda3/lib/python3.9/site-packages/sklearn/utils/validation.py:993: DataConversionWarning: A column-vector y was passed when a 1d array was expected. Please change the shape of y to (n_samples, ), for example using ravel().\n",
      "  y = column_or_1d(y, warn=True)\n",
      "/Users/pranithagaddam/anaconda3/lib/python3.9/site-packages/sklearn/utils/validation.py:993: DataConversionWarning: A column-vector y was passed when a 1d array was expected. Please change the shape of y to (n_samples, ), for example using ravel().\n",
      "  y = column_or_1d(y, warn=True)\n",
      "/Users/pranithagaddam/anaconda3/lib/python3.9/site-packages/sklearn/utils/validation.py:993: DataConversionWarning: A column-vector y was passed when a 1d array was expected. Please change the shape of y to (n_samples, ), for example using ravel().\n",
      "  y = column_or_1d(y, warn=True)\n",
      "/Users/pranithagaddam/anaconda3/lib/python3.9/site-packages/sklearn/utils/validation.py:993: DataConversionWarning: A column-vector y was passed when a 1d array was expected. Please change the shape of y to (n_samples, ), for example using ravel().\n",
      "  y = column_or_1d(y, warn=True)\n",
      "/Users/pranithagaddam/anaconda3/lib/python3.9/site-packages/sklearn/utils/validation.py:993: DataConversionWarning: A column-vector y was passed when a 1d array was expected. Please change the shape of y to (n_samples, ), for example using ravel().\n",
      "  y = column_or_1d(y, warn=True)\n",
      "/Users/pranithagaddam/anaconda3/lib/python3.9/site-packages/sklearn/utils/validation.py:993: DataConversionWarning: A column-vector y was passed when a 1d array was expected. Please change the shape of y to (n_samples, ), for example using ravel().\n",
      "  y = column_or_1d(y, warn=True)\n"
     ]
    },
    {
     "name": "stderr",
     "output_type": "stream",
     "text": [
      "/Users/pranithagaddam/anaconda3/lib/python3.9/site-packages/sklearn/utils/validation.py:993: DataConversionWarning: A column-vector y was passed when a 1d array was expected. Please change the shape of y to (n_samples, ), for example using ravel().\n",
      "  y = column_or_1d(y, warn=True)\n",
      "/Users/pranithagaddam/anaconda3/lib/python3.9/site-packages/sklearn/utils/validation.py:993: DataConversionWarning: A column-vector y was passed when a 1d array was expected. Please change the shape of y to (n_samples, ), for example using ravel().\n",
      "  y = column_or_1d(y, warn=True)\n",
      "/Users/pranithagaddam/anaconda3/lib/python3.9/site-packages/sklearn/utils/validation.py:993: DataConversionWarning: A column-vector y was passed when a 1d array was expected. Please change the shape of y to (n_samples, ), for example using ravel().\n",
      "  y = column_or_1d(y, warn=True)\n",
      "/Users/pranithagaddam/anaconda3/lib/python3.9/site-packages/sklearn/utils/validation.py:993: DataConversionWarning: A column-vector y was passed when a 1d array was expected. Please change the shape of y to (n_samples, ), for example using ravel().\n",
      "  y = column_or_1d(y, warn=True)\n",
      "/Users/pranithagaddam/anaconda3/lib/python3.9/site-packages/sklearn/utils/validation.py:993: DataConversionWarning: A column-vector y was passed when a 1d array was expected. Please change the shape of y to (n_samples, ), for example using ravel().\n",
      "  y = column_or_1d(y, warn=True)\n",
      "/Users/pranithagaddam/anaconda3/lib/python3.9/site-packages/sklearn/utils/validation.py:993: DataConversionWarning: A column-vector y was passed when a 1d array was expected. Please change the shape of y to (n_samples, ), for example using ravel().\n",
      "  y = column_or_1d(y, warn=True)\n",
      "/Users/pranithagaddam/anaconda3/lib/python3.9/site-packages/sklearn/utils/validation.py:993: DataConversionWarning: A column-vector y was passed when a 1d array was expected. Please change the shape of y to (n_samples, ), for example using ravel().\n",
      "  y = column_or_1d(y, warn=True)\n",
      "/Users/pranithagaddam/anaconda3/lib/python3.9/site-packages/sklearn/utils/validation.py:993: DataConversionWarning: A column-vector y was passed when a 1d array was expected. Please change the shape of y to (n_samples, ), for example using ravel().\n",
      "  y = column_or_1d(y, warn=True)\n",
      "/Users/pranithagaddam/anaconda3/lib/python3.9/site-packages/sklearn/utils/validation.py:993: DataConversionWarning: A column-vector y was passed when a 1d array was expected. Please change the shape of y to (n_samples, ), for example using ravel().\n",
      "  y = column_or_1d(y, warn=True)\n",
      "/Users/pranithagaddam/anaconda3/lib/python3.9/site-packages/sklearn/utils/validation.py:993: DataConversionWarning: A column-vector y was passed when a 1d array was expected. Please change the shape of y to (n_samples, ), for example using ravel().\n",
      "  y = column_or_1d(y, warn=True)\n",
      "/Users/pranithagaddam/anaconda3/lib/python3.9/site-packages/sklearn/utils/validation.py:993: DataConversionWarning: A column-vector y was passed when a 1d array was expected. Please change the shape of y to (n_samples, ), for example using ravel().\n",
      "  y = column_or_1d(y, warn=True)\n",
      "/Users/pranithagaddam/anaconda3/lib/python3.9/site-packages/sklearn/utils/validation.py:993: DataConversionWarning: A column-vector y was passed when a 1d array was expected. Please change the shape of y to (n_samples, ), for example using ravel().\n",
      "  y = column_or_1d(y, warn=True)\n",
      "/Users/pranithagaddam/anaconda3/lib/python3.9/site-packages/sklearn/utils/validation.py:993: DataConversionWarning: A column-vector y was passed when a 1d array was expected. Please change the shape of y to (n_samples, ), for example using ravel().\n",
      "  y = column_or_1d(y, warn=True)\n",
      "/Users/pranithagaddam/anaconda3/lib/python3.9/site-packages/sklearn/utils/validation.py:993: DataConversionWarning: A column-vector y was passed when a 1d array was expected. Please change the shape of y to (n_samples, ), for example using ravel().\n",
      "  y = column_or_1d(y, warn=True)\n",
      "/Users/pranithagaddam/anaconda3/lib/python3.9/site-packages/sklearn/utils/validation.py:993: DataConversionWarning: A column-vector y was passed when a 1d array was expected. Please change the shape of y to (n_samples, ), for example using ravel().\n",
      "  y = column_or_1d(y, warn=True)\n",
      "/Users/pranithagaddam/anaconda3/lib/python3.9/site-packages/sklearn/utils/validation.py:993: DataConversionWarning: A column-vector y was passed when a 1d array was expected. Please change the shape of y to (n_samples, ), for example using ravel().\n",
      "  y = column_or_1d(y, warn=True)\n",
      "/Users/pranithagaddam/anaconda3/lib/python3.9/site-packages/sklearn/utils/validation.py:993: DataConversionWarning: A column-vector y was passed when a 1d array was expected. Please change the shape of y to (n_samples, ), for example using ravel().\n",
      "  y = column_or_1d(y, warn=True)\n",
      "/Users/pranithagaddam/anaconda3/lib/python3.9/site-packages/sklearn/utils/validation.py:993: DataConversionWarning: A column-vector y was passed when a 1d array was expected. Please change the shape of y to (n_samples, ), for example using ravel().\n",
      "  y = column_or_1d(y, warn=True)\n",
      "/Users/pranithagaddam/anaconda3/lib/python3.9/site-packages/sklearn/utils/validation.py:993: DataConversionWarning: A column-vector y was passed when a 1d array was expected. Please change the shape of y to (n_samples, ), for example using ravel().\n",
      "  y = column_or_1d(y, warn=True)\n",
      "/Users/pranithagaddam/anaconda3/lib/python3.9/site-packages/sklearn/utils/validation.py:993: DataConversionWarning: A column-vector y was passed when a 1d array was expected. Please change the shape of y to (n_samples, ), for example using ravel().\n",
      "  y = column_or_1d(y, warn=True)\n",
      "/Users/pranithagaddam/anaconda3/lib/python3.9/site-packages/sklearn/utils/validation.py:993: DataConversionWarning: A column-vector y was passed when a 1d array was expected. Please change the shape of y to (n_samples, ), for example using ravel().\n",
      "  y = column_or_1d(y, warn=True)\n",
      "/Users/pranithagaddam/anaconda3/lib/python3.9/site-packages/sklearn/utils/validation.py:993: DataConversionWarning: A column-vector y was passed when a 1d array was expected. Please change the shape of y to (n_samples, ), for example using ravel().\n",
      "  y = column_or_1d(y, warn=True)\n",
      "/Users/pranithagaddam/anaconda3/lib/python3.9/site-packages/sklearn/utils/validation.py:993: DataConversionWarning: A column-vector y was passed when a 1d array was expected. Please change the shape of y to (n_samples, ), for example using ravel().\n",
      "  y = column_or_1d(y, warn=True)\n",
      "/Users/pranithagaddam/anaconda3/lib/python3.9/site-packages/sklearn/utils/validation.py:993: DataConversionWarning: A column-vector y was passed when a 1d array was expected. Please change the shape of y to (n_samples, ), for example using ravel().\n",
      "  y = column_or_1d(y, warn=True)\n",
      "/Users/pranithagaddam/anaconda3/lib/python3.9/site-packages/sklearn/utils/validation.py:993: DataConversionWarning: A column-vector y was passed when a 1d array was expected. Please change the shape of y to (n_samples, ), for example using ravel().\n",
      "  y = column_or_1d(y, warn=True)\n",
      "/Users/pranithagaddam/anaconda3/lib/python3.9/site-packages/sklearn/utils/validation.py:993: DataConversionWarning: A column-vector y was passed when a 1d array was expected. Please change the shape of y to (n_samples, ), for example using ravel().\n",
      "  y = column_or_1d(y, warn=True)\n",
      "/Users/pranithagaddam/anaconda3/lib/python3.9/site-packages/sklearn/utils/validation.py:993: DataConversionWarning: A column-vector y was passed when a 1d array was expected. Please change the shape of y to (n_samples, ), for example using ravel().\n",
      "  y = column_or_1d(y, warn=True)\n",
      "/Users/pranithagaddam/anaconda3/lib/python3.9/site-packages/sklearn/utils/validation.py:993: DataConversionWarning: A column-vector y was passed when a 1d array was expected. Please change the shape of y to (n_samples, ), for example using ravel().\n",
      "  y = column_or_1d(y, warn=True)\n",
      "/Users/pranithagaddam/anaconda3/lib/python3.9/site-packages/sklearn/utils/validation.py:993: DataConversionWarning: A column-vector y was passed when a 1d array was expected. Please change the shape of y to (n_samples, ), for example using ravel().\n",
      "  y = column_or_1d(y, warn=True)\n",
      "/Users/pranithagaddam/anaconda3/lib/python3.9/site-packages/sklearn/utils/validation.py:993: DataConversionWarning: A column-vector y was passed when a 1d array was expected. Please change the shape of y to (n_samples, ), for example using ravel().\n",
      "  y = column_or_1d(y, warn=True)\n"
     ]
    },
    {
     "name": "stderr",
     "output_type": "stream",
     "text": [
      "/Users/pranithagaddam/anaconda3/lib/python3.9/site-packages/sklearn/utils/validation.py:993: DataConversionWarning: A column-vector y was passed when a 1d array was expected. Please change the shape of y to (n_samples, ), for example using ravel().\n",
      "  y = column_or_1d(y, warn=True)\n",
      "/Users/pranithagaddam/anaconda3/lib/python3.9/site-packages/sklearn/utils/validation.py:993: DataConversionWarning: A column-vector y was passed when a 1d array was expected. Please change the shape of y to (n_samples, ), for example using ravel().\n",
      "  y = column_or_1d(y, warn=True)\n",
      "/Users/pranithagaddam/anaconda3/lib/python3.9/site-packages/sklearn/utils/validation.py:993: DataConversionWarning: A column-vector y was passed when a 1d array was expected. Please change the shape of y to (n_samples, ), for example using ravel().\n",
      "  y = column_or_1d(y, warn=True)\n",
      "/Users/pranithagaddam/anaconda3/lib/python3.9/site-packages/sklearn/utils/validation.py:993: DataConversionWarning: A column-vector y was passed when a 1d array was expected. Please change the shape of y to (n_samples, ), for example using ravel().\n",
      "  y = column_or_1d(y, warn=True)\n",
      "/Users/pranithagaddam/anaconda3/lib/python3.9/site-packages/sklearn/utils/validation.py:993: DataConversionWarning: A column-vector y was passed when a 1d array was expected. Please change the shape of y to (n_samples, ), for example using ravel().\n",
      "  y = column_or_1d(y, warn=True)\n",
      "/Users/pranithagaddam/anaconda3/lib/python3.9/site-packages/sklearn/utils/validation.py:993: DataConversionWarning: A column-vector y was passed when a 1d array was expected. Please change the shape of y to (n_samples, ), for example using ravel().\n",
      "  y = column_or_1d(y, warn=True)\n",
      "/Users/pranithagaddam/anaconda3/lib/python3.9/site-packages/sklearn/utils/validation.py:993: DataConversionWarning: A column-vector y was passed when a 1d array was expected. Please change the shape of y to (n_samples, ), for example using ravel().\n",
      "  y = column_or_1d(y, warn=True)\n",
      "/Users/pranithagaddam/anaconda3/lib/python3.9/site-packages/sklearn/utils/validation.py:993: DataConversionWarning: A column-vector y was passed when a 1d array was expected. Please change the shape of y to (n_samples, ), for example using ravel().\n",
      "  y = column_or_1d(y, warn=True)\n",
      "/Users/pranithagaddam/anaconda3/lib/python3.9/site-packages/sklearn/utils/validation.py:993: DataConversionWarning: A column-vector y was passed when a 1d array was expected. Please change the shape of y to (n_samples, ), for example using ravel().\n",
      "  y = column_or_1d(y, warn=True)\n",
      "/Users/pranithagaddam/anaconda3/lib/python3.9/site-packages/sklearn/utils/validation.py:993: DataConversionWarning: A column-vector y was passed when a 1d array was expected. Please change the shape of y to (n_samples, ), for example using ravel().\n",
      "  y = column_or_1d(y, warn=True)\n",
      "/Users/pranithagaddam/anaconda3/lib/python3.9/site-packages/sklearn/utils/validation.py:993: DataConversionWarning: A column-vector y was passed when a 1d array was expected. Please change the shape of y to (n_samples, ), for example using ravel().\n",
      "  y = column_or_1d(y, warn=True)\n",
      "/Users/pranithagaddam/anaconda3/lib/python3.9/site-packages/sklearn/utils/validation.py:993: DataConversionWarning: A column-vector y was passed when a 1d array was expected. Please change the shape of y to (n_samples, ), for example using ravel().\n",
      "  y = column_or_1d(y, warn=True)\n",
      "/Users/pranithagaddam/anaconda3/lib/python3.9/site-packages/sklearn/utils/validation.py:993: DataConversionWarning: A column-vector y was passed when a 1d array was expected. Please change the shape of y to (n_samples, ), for example using ravel().\n",
      "  y = column_or_1d(y, warn=True)\n",
      "/Users/pranithagaddam/anaconda3/lib/python3.9/site-packages/sklearn/utils/validation.py:993: DataConversionWarning: A column-vector y was passed when a 1d array was expected. Please change the shape of y to (n_samples, ), for example using ravel().\n",
      "  y = column_or_1d(y, warn=True)\n",
      "/Users/pranithagaddam/anaconda3/lib/python3.9/site-packages/sklearn/utils/validation.py:993: DataConversionWarning: A column-vector y was passed when a 1d array was expected. Please change the shape of y to (n_samples, ), for example using ravel().\n",
      "  y = column_or_1d(y, warn=True)\n",
      "/Users/pranithagaddam/anaconda3/lib/python3.9/site-packages/sklearn/utils/validation.py:993: DataConversionWarning: A column-vector y was passed when a 1d array was expected. Please change the shape of y to (n_samples, ), for example using ravel().\n",
      "  y = column_or_1d(y, warn=True)\n",
      "/Users/pranithagaddam/anaconda3/lib/python3.9/site-packages/sklearn/utils/validation.py:993: DataConversionWarning: A column-vector y was passed when a 1d array was expected. Please change the shape of y to (n_samples, ), for example using ravel().\n",
      "  y = column_or_1d(y, warn=True)\n",
      "/Users/pranithagaddam/anaconda3/lib/python3.9/site-packages/sklearn/utils/validation.py:993: DataConversionWarning: A column-vector y was passed when a 1d array was expected. Please change the shape of y to (n_samples, ), for example using ravel().\n",
      "  y = column_or_1d(y, warn=True)\n",
      "/Users/pranithagaddam/anaconda3/lib/python3.9/site-packages/sklearn/utils/validation.py:993: DataConversionWarning: A column-vector y was passed when a 1d array was expected. Please change the shape of y to (n_samples, ), for example using ravel().\n",
      "  y = column_or_1d(y, warn=True)\n",
      "/Users/pranithagaddam/anaconda3/lib/python3.9/site-packages/sklearn/utils/validation.py:993: DataConversionWarning: A column-vector y was passed when a 1d array was expected. Please change the shape of y to (n_samples, ), for example using ravel().\n",
      "  y = column_or_1d(y, warn=True)\n",
      "/Users/pranithagaddam/anaconda3/lib/python3.9/site-packages/sklearn/utils/validation.py:993: DataConversionWarning: A column-vector y was passed when a 1d array was expected. Please change the shape of y to (n_samples, ), for example using ravel().\n",
      "  y = column_or_1d(y, warn=True)\n",
      "/Users/pranithagaddam/anaconda3/lib/python3.9/site-packages/sklearn/utils/validation.py:993: DataConversionWarning: A column-vector y was passed when a 1d array was expected. Please change the shape of y to (n_samples, ), for example using ravel().\n",
      "  y = column_or_1d(y, warn=True)\n",
      "/Users/pranithagaddam/anaconda3/lib/python3.9/site-packages/sklearn/utils/validation.py:993: DataConversionWarning: A column-vector y was passed when a 1d array was expected. Please change the shape of y to (n_samples, ), for example using ravel().\n",
      "  y = column_or_1d(y, warn=True)\n",
      "/Users/pranithagaddam/anaconda3/lib/python3.9/site-packages/sklearn/utils/validation.py:993: DataConversionWarning: A column-vector y was passed when a 1d array was expected. Please change the shape of y to (n_samples, ), for example using ravel().\n",
      "  y = column_or_1d(y, warn=True)\n",
      "/Users/pranithagaddam/anaconda3/lib/python3.9/site-packages/sklearn/utils/validation.py:993: DataConversionWarning: A column-vector y was passed when a 1d array was expected. Please change the shape of y to (n_samples, ), for example using ravel().\n",
      "  y = column_or_1d(y, warn=True)\n",
      "/Users/pranithagaddam/anaconda3/lib/python3.9/site-packages/sklearn/utils/validation.py:993: DataConversionWarning: A column-vector y was passed when a 1d array was expected. Please change the shape of y to (n_samples, ), for example using ravel().\n",
      "  y = column_or_1d(y, warn=True)\n",
      "/Users/pranithagaddam/anaconda3/lib/python3.9/site-packages/sklearn/utils/validation.py:993: DataConversionWarning: A column-vector y was passed when a 1d array was expected. Please change the shape of y to (n_samples, ), for example using ravel().\n",
      "  y = column_or_1d(y, warn=True)\n",
      "/Users/pranithagaddam/anaconda3/lib/python3.9/site-packages/sklearn/utils/validation.py:993: DataConversionWarning: A column-vector y was passed when a 1d array was expected. Please change the shape of y to (n_samples, ), for example using ravel().\n",
      "  y = column_or_1d(y, warn=True)\n",
      "/Users/pranithagaddam/anaconda3/lib/python3.9/site-packages/sklearn/utils/validation.py:993: DataConversionWarning: A column-vector y was passed when a 1d array was expected. Please change the shape of y to (n_samples, ), for example using ravel().\n",
      "  y = column_or_1d(y, warn=True)\n",
      "/Users/pranithagaddam/anaconda3/lib/python3.9/site-packages/sklearn/utils/validation.py:993: DataConversionWarning: A column-vector y was passed when a 1d array was expected. Please change the shape of y to (n_samples, ), for example using ravel().\n",
      "  y = column_or_1d(y, warn=True)\n",
      "/Users/pranithagaddam/anaconda3/lib/python3.9/site-packages/sklearn/utils/validation.py:993: DataConversionWarning: A column-vector y was passed when a 1d array was expected. Please change the shape of y to (n_samples, ), for example using ravel().\n",
      "  y = column_or_1d(y, warn=True)\n"
     ]
    },
    {
     "name": "stderr",
     "output_type": "stream",
     "text": [
      "/Users/pranithagaddam/anaconda3/lib/python3.9/site-packages/sklearn/utils/validation.py:993: DataConversionWarning: A column-vector y was passed when a 1d array was expected. Please change the shape of y to (n_samples, ), for example using ravel().\n",
      "  y = column_or_1d(y, warn=True)\n",
      "/Users/pranithagaddam/anaconda3/lib/python3.9/site-packages/sklearn/utils/validation.py:993: DataConversionWarning: A column-vector y was passed when a 1d array was expected. Please change the shape of y to (n_samples, ), for example using ravel().\n",
      "  y = column_or_1d(y, warn=True)\n",
      "/Users/pranithagaddam/anaconda3/lib/python3.9/site-packages/sklearn/utils/validation.py:993: DataConversionWarning: A column-vector y was passed when a 1d array was expected. Please change the shape of y to (n_samples, ), for example using ravel().\n",
      "  y = column_or_1d(y, warn=True)\n",
      "/Users/pranithagaddam/anaconda3/lib/python3.9/site-packages/sklearn/utils/validation.py:993: DataConversionWarning: A column-vector y was passed when a 1d array was expected. Please change the shape of y to (n_samples, ), for example using ravel().\n",
      "  y = column_or_1d(y, warn=True)\n",
      "/Users/pranithagaddam/anaconda3/lib/python3.9/site-packages/sklearn/utils/validation.py:993: DataConversionWarning: A column-vector y was passed when a 1d array was expected. Please change the shape of y to (n_samples, ), for example using ravel().\n",
      "  y = column_or_1d(y, warn=True)\n",
      "/Users/pranithagaddam/anaconda3/lib/python3.9/site-packages/sklearn/utils/validation.py:993: DataConversionWarning: A column-vector y was passed when a 1d array was expected. Please change the shape of y to (n_samples, ), for example using ravel().\n",
      "  y = column_or_1d(y, warn=True)\n",
      "/Users/pranithagaddam/anaconda3/lib/python3.9/site-packages/sklearn/utils/validation.py:993: DataConversionWarning: A column-vector y was passed when a 1d array was expected. Please change the shape of y to (n_samples, ), for example using ravel().\n",
      "  y = column_or_1d(y, warn=True)\n",
      "/Users/pranithagaddam/anaconda3/lib/python3.9/site-packages/sklearn/utils/validation.py:993: DataConversionWarning: A column-vector y was passed when a 1d array was expected. Please change the shape of y to (n_samples, ), for example using ravel().\n",
      "  y = column_or_1d(y, warn=True)\n",
      "/Users/pranithagaddam/anaconda3/lib/python3.9/site-packages/sklearn/utils/validation.py:993: DataConversionWarning: A column-vector y was passed when a 1d array was expected. Please change the shape of y to (n_samples, ), for example using ravel().\n",
      "  y = column_or_1d(y, warn=True)\n",
      "/Users/pranithagaddam/anaconda3/lib/python3.9/site-packages/sklearn/utils/validation.py:993: DataConversionWarning: A column-vector y was passed when a 1d array was expected. Please change the shape of y to (n_samples, ), for example using ravel().\n",
      "  y = column_or_1d(y, warn=True)\n",
      "/Users/pranithagaddam/anaconda3/lib/python3.9/site-packages/sklearn/utils/validation.py:993: DataConversionWarning: A column-vector y was passed when a 1d array was expected. Please change the shape of y to (n_samples, ), for example using ravel().\n",
      "  y = column_or_1d(y, warn=True)\n",
      "/Users/pranithagaddam/anaconda3/lib/python3.9/site-packages/sklearn/utils/validation.py:993: DataConversionWarning: A column-vector y was passed when a 1d array was expected. Please change the shape of y to (n_samples, ), for example using ravel().\n",
      "  y = column_or_1d(y, warn=True)\n",
      "/Users/pranithagaddam/anaconda3/lib/python3.9/site-packages/sklearn/utils/validation.py:993: DataConversionWarning: A column-vector y was passed when a 1d array was expected. Please change the shape of y to (n_samples, ), for example using ravel().\n",
      "  y = column_or_1d(y, warn=True)\n",
      "/Users/pranithagaddam/anaconda3/lib/python3.9/site-packages/sklearn/utils/validation.py:993: DataConversionWarning: A column-vector y was passed when a 1d array was expected. Please change the shape of y to (n_samples, ), for example using ravel().\n",
      "  y = column_or_1d(y, warn=True)\n",
      "/Users/pranithagaddam/anaconda3/lib/python3.9/site-packages/sklearn/utils/validation.py:993: DataConversionWarning: A column-vector y was passed when a 1d array was expected. Please change the shape of y to (n_samples, ), for example using ravel().\n",
      "  y = column_or_1d(y, warn=True)\n",
      "/Users/pranithagaddam/anaconda3/lib/python3.9/site-packages/sklearn/utils/validation.py:993: DataConversionWarning: A column-vector y was passed when a 1d array was expected. Please change the shape of y to (n_samples, ), for example using ravel().\n",
      "  y = column_or_1d(y, warn=True)\n",
      "/Users/pranithagaddam/anaconda3/lib/python3.9/site-packages/sklearn/utils/validation.py:993: DataConversionWarning: A column-vector y was passed when a 1d array was expected. Please change the shape of y to (n_samples, ), for example using ravel().\n",
      "  y = column_or_1d(y, warn=True)\n",
      "/Users/pranithagaddam/anaconda3/lib/python3.9/site-packages/sklearn/utils/validation.py:993: DataConversionWarning: A column-vector y was passed when a 1d array was expected. Please change the shape of y to (n_samples, ), for example using ravel().\n",
      "  y = column_or_1d(y, warn=True)\n",
      "/Users/pranithagaddam/anaconda3/lib/python3.9/site-packages/sklearn/utils/validation.py:993: DataConversionWarning: A column-vector y was passed when a 1d array was expected. Please change the shape of y to (n_samples, ), for example using ravel().\n",
      "  y = column_or_1d(y, warn=True)\n",
      "/Users/pranithagaddam/anaconda3/lib/python3.9/site-packages/sklearn/utils/validation.py:993: DataConversionWarning: A column-vector y was passed when a 1d array was expected. Please change the shape of y to (n_samples, ), for example using ravel().\n",
      "  y = column_or_1d(y, warn=True)\n",
      "/Users/pranithagaddam/anaconda3/lib/python3.9/site-packages/sklearn/utils/validation.py:993: DataConversionWarning: A column-vector y was passed when a 1d array was expected. Please change the shape of y to (n_samples, ), for example using ravel().\n",
      "  y = column_or_1d(y, warn=True)\n",
      "/Users/pranithagaddam/anaconda3/lib/python3.9/site-packages/sklearn/utils/validation.py:993: DataConversionWarning: A column-vector y was passed when a 1d array was expected. Please change the shape of y to (n_samples, ), for example using ravel().\n",
      "  y = column_or_1d(y, warn=True)\n",
      "/Users/pranithagaddam/anaconda3/lib/python3.9/site-packages/sklearn/utils/validation.py:993: DataConversionWarning: A column-vector y was passed when a 1d array was expected. Please change the shape of y to (n_samples, ), for example using ravel().\n",
      "  y = column_or_1d(y, warn=True)\n",
      "/Users/pranithagaddam/anaconda3/lib/python3.9/site-packages/sklearn/utils/validation.py:993: DataConversionWarning: A column-vector y was passed when a 1d array was expected. Please change the shape of y to (n_samples, ), for example using ravel().\n",
      "  y = column_or_1d(y, warn=True)\n",
      "/Users/pranithagaddam/anaconda3/lib/python3.9/site-packages/sklearn/utils/validation.py:993: DataConversionWarning: A column-vector y was passed when a 1d array was expected. Please change the shape of y to (n_samples, ), for example using ravel().\n",
      "  y = column_or_1d(y, warn=True)\n",
      "/Users/pranithagaddam/anaconda3/lib/python3.9/site-packages/sklearn/utils/validation.py:993: DataConversionWarning: A column-vector y was passed when a 1d array was expected. Please change the shape of y to (n_samples, ), for example using ravel().\n",
      "  y = column_or_1d(y, warn=True)\n",
      "/Users/pranithagaddam/anaconda3/lib/python3.9/site-packages/sklearn/utils/validation.py:993: DataConversionWarning: A column-vector y was passed when a 1d array was expected. Please change the shape of y to (n_samples, ), for example using ravel().\n",
      "  y = column_or_1d(y, warn=True)\n",
      "/Users/pranithagaddam/anaconda3/lib/python3.9/site-packages/sklearn/utils/validation.py:993: DataConversionWarning: A column-vector y was passed when a 1d array was expected. Please change the shape of y to (n_samples, ), for example using ravel().\n",
      "  y = column_or_1d(y, warn=True)\n",
      "/Users/pranithagaddam/anaconda3/lib/python3.9/site-packages/sklearn/utils/validation.py:993: DataConversionWarning: A column-vector y was passed when a 1d array was expected. Please change the shape of y to (n_samples, ), for example using ravel().\n",
      "  y = column_or_1d(y, warn=True)\n",
      "/Users/pranithagaddam/anaconda3/lib/python3.9/site-packages/sklearn/utils/validation.py:993: DataConversionWarning: A column-vector y was passed when a 1d array was expected. Please change the shape of y to (n_samples, ), for example using ravel().\n",
      "  y = column_or_1d(y, warn=True)\n",
      "/Users/pranithagaddam/anaconda3/lib/python3.9/site-packages/sklearn/utils/validation.py:993: DataConversionWarning: A column-vector y was passed when a 1d array was expected. Please change the shape of y to (n_samples, ), for example using ravel().\n",
      "  y = column_or_1d(y, warn=True)\n",
      "/Users/pranithagaddam/anaconda3/lib/python3.9/site-packages/sklearn/utils/validation.py:993: DataConversionWarning: A column-vector y was passed when a 1d array was expected. Please change the shape of y to (n_samples, ), for example using ravel().\n",
      "  y = column_or_1d(y, warn=True)\n"
     ]
    },
    {
     "name": "stderr",
     "output_type": "stream",
     "text": [
      "/Users/pranithagaddam/anaconda3/lib/python3.9/site-packages/sklearn/utils/validation.py:993: DataConversionWarning: A column-vector y was passed when a 1d array was expected. Please change the shape of y to (n_samples, ), for example using ravel().\n",
      "  y = column_or_1d(y, warn=True)\n",
      "/Users/pranithagaddam/anaconda3/lib/python3.9/site-packages/sklearn/utils/validation.py:993: DataConversionWarning: A column-vector y was passed when a 1d array was expected. Please change the shape of y to (n_samples, ), for example using ravel().\n",
      "  y = column_or_1d(y, warn=True)\n",
      "/Users/pranithagaddam/anaconda3/lib/python3.9/site-packages/sklearn/utils/validation.py:993: DataConversionWarning: A column-vector y was passed when a 1d array was expected. Please change the shape of y to (n_samples, ), for example using ravel().\n",
      "  y = column_or_1d(y, warn=True)\n",
      "/Users/pranithagaddam/anaconda3/lib/python3.9/site-packages/sklearn/utils/validation.py:993: DataConversionWarning: A column-vector y was passed when a 1d array was expected. Please change the shape of y to (n_samples, ), for example using ravel().\n",
      "  y = column_or_1d(y, warn=True)\n",
      "/Users/pranithagaddam/anaconda3/lib/python3.9/site-packages/sklearn/utils/validation.py:993: DataConversionWarning: A column-vector y was passed when a 1d array was expected. Please change the shape of y to (n_samples, ), for example using ravel().\n",
      "  y = column_or_1d(y, warn=True)\n",
      "/Users/pranithagaddam/anaconda3/lib/python3.9/site-packages/sklearn/utils/validation.py:993: DataConversionWarning: A column-vector y was passed when a 1d array was expected. Please change the shape of y to (n_samples, ), for example using ravel().\n",
      "  y = column_or_1d(y, warn=True)\n",
      "/Users/pranithagaddam/anaconda3/lib/python3.9/site-packages/sklearn/utils/validation.py:993: DataConversionWarning: A column-vector y was passed when a 1d array was expected. Please change the shape of y to (n_samples, ), for example using ravel().\n",
      "  y = column_or_1d(y, warn=True)\n",
      "/Users/pranithagaddam/anaconda3/lib/python3.9/site-packages/sklearn/utils/validation.py:993: DataConversionWarning: A column-vector y was passed when a 1d array was expected. Please change the shape of y to (n_samples, ), for example using ravel().\n",
      "  y = column_or_1d(y, warn=True)\n",
      "/Users/pranithagaddam/anaconda3/lib/python3.9/site-packages/sklearn/utils/validation.py:993: DataConversionWarning: A column-vector y was passed when a 1d array was expected. Please change the shape of y to (n_samples, ), for example using ravel().\n",
      "  y = column_or_1d(y, warn=True)\n",
      "/Users/pranithagaddam/anaconda3/lib/python3.9/site-packages/sklearn/utils/validation.py:993: DataConversionWarning: A column-vector y was passed when a 1d array was expected. Please change the shape of y to (n_samples, ), for example using ravel().\n",
      "  y = column_or_1d(y, warn=True)\n",
      "/Users/pranithagaddam/anaconda3/lib/python3.9/site-packages/sklearn/utils/validation.py:993: DataConversionWarning: A column-vector y was passed when a 1d array was expected. Please change the shape of y to (n_samples, ), for example using ravel().\n",
      "  y = column_or_1d(y, warn=True)\n",
      "/Users/pranithagaddam/anaconda3/lib/python3.9/site-packages/sklearn/utils/validation.py:993: DataConversionWarning: A column-vector y was passed when a 1d array was expected. Please change the shape of y to (n_samples, ), for example using ravel().\n",
      "  y = column_or_1d(y, warn=True)\n",
      "/Users/pranithagaddam/anaconda3/lib/python3.9/site-packages/sklearn/utils/validation.py:993: DataConversionWarning: A column-vector y was passed when a 1d array was expected. Please change the shape of y to (n_samples, ), for example using ravel().\n",
      "  y = column_or_1d(y, warn=True)\n",
      "/Users/pranithagaddam/anaconda3/lib/python3.9/site-packages/sklearn/utils/validation.py:993: DataConversionWarning: A column-vector y was passed when a 1d array was expected. Please change the shape of y to (n_samples, ), for example using ravel().\n",
      "  y = column_or_1d(y, warn=True)\n",
      "/Users/pranithagaddam/anaconda3/lib/python3.9/site-packages/sklearn/utils/validation.py:993: DataConversionWarning: A column-vector y was passed when a 1d array was expected. Please change the shape of y to (n_samples, ), for example using ravel().\n",
      "  y = column_or_1d(y, warn=True)\n",
      "/Users/pranithagaddam/anaconda3/lib/python3.9/site-packages/sklearn/utils/validation.py:993: DataConversionWarning: A column-vector y was passed when a 1d array was expected. Please change the shape of y to (n_samples, ), for example using ravel().\n",
      "  y = column_or_1d(y, warn=True)\n",
      "/Users/pranithagaddam/anaconda3/lib/python3.9/site-packages/sklearn/utils/validation.py:993: DataConversionWarning: A column-vector y was passed when a 1d array was expected. Please change the shape of y to (n_samples, ), for example using ravel().\n",
      "  y = column_or_1d(y, warn=True)\n",
      "/Users/pranithagaddam/anaconda3/lib/python3.9/site-packages/sklearn/utils/validation.py:993: DataConversionWarning: A column-vector y was passed when a 1d array was expected. Please change the shape of y to (n_samples, ), for example using ravel().\n",
      "  y = column_or_1d(y, warn=True)\n",
      "/Users/pranithagaddam/anaconda3/lib/python3.9/site-packages/sklearn/utils/validation.py:993: DataConversionWarning: A column-vector y was passed when a 1d array was expected. Please change the shape of y to (n_samples, ), for example using ravel().\n",
      "  y = column_or_1d(y, warn=True)\n",
      "/Users/pranithagaddam/anaconda3/lib/python3.9/site-packages/sklearn/utils/validation.py:993: DataConversionWarning: A column-vector y was passed when a 1d array was expected. Please change the shape of y to (n_samples, ), for example using ravel().\n",
      "  y = column_or_1d(y, warn=True)\n",
      "/Users/pranithagaddam/anaconda3/lib/python3.9/site-packages/sklearn/utils/validation.py:993: DataConversionWarning: A column-vector y was passed when a 1d array was expected. Please change the shape of y to (n_samples, ), for example using ravel().\n",
      "  y = column_or_1d(y, warn=True)\n",
      "/Users/pranithagaddam/anaconda3/lib/python3.9/site-packages/sklearn/utils/validation.py:993: DataConversionWarning: A column-vector y was passed when a 1d array was expected. Please change the shape of y to (n_samples, ), for example using ravel().\n",
      "  y = column_or_1d(y, warn=True)\n",
      "/Users/pranithagaddam/anaconda3/lib/python3.9/site-packages/sklearn/utils/validation.py:993: DataConversionWarning: A column-vector y was passed when a 1d array was expected. Please change the shape of y to (n_samples, ), for example using ravel().\n",
      "  y = column_or_1d(y, warn=True)\n",
      "/Users/pranithagaddam/anaconda3/lib/python3.9/site-packages/sklearn/utils/validation.py:993: DataConversionWarning: A column-vector y was passed when a 1d array was expected. Please change the shape of y to (n_samples, ), for example using ravel().\n",
      "  y = column_or_1d(y, warn=True)\n",
      "/Users/pranithagaddam/anaconda3/lib/python3.9/site-packages/sklearn/utils/validation.py:993: DataConversionWarning: A column-vector y was passed when a 1d array was expected. Please change the shape of y to (n_samples, ), for example using ravel().\n",
      "  y = column_or_1d(y, warn=True)\n",
      "/Users/pranithagaddam/anaconda3/lib/python3.9/site-packages/sklearn/utils/validation.py:993: DataConversionWarning: A column-vector y was passed when a 1d array was expected. Please change the shape of y to (n_samples, ), for example using ravel().\n",
      "  y = column_or_1d(y, warn=True)\n",
      "/Users/pranithagaddam/anaconda3/lib/python3.9/site-packages/sklearn/utils/validation.py:993: DataConversionWarning: A column-vector y was passed when a 1d array was expected. Please change the shape of y to (n_samples, ), for example using ravel().\n",
      "  y = column_or_1d(y, warn=True)\n",
      "/Users/pranithagaddam/anaconda3/lib/python3.9/site-packages/sklearn/utils/validation.py:993: DataConversionWarning: A column-vector y was passed when a 1d array was expected. Please change the shape of y to (n_samples, ), for example using ravel().\n",
      "  y = column_or_1d(y, warn=True)\n",
      "/Users/pranithagaddam/anaconda3/lib/python3.9/site-packages/sklearn/utils/validation.py:993: DataConversionWarning: A column-vector y was passed when a 1d array was expected. Please change the shape of y to (n_samples, ), for example using ravel().\n",
      "  y = column_or_1d(y, warn=True)\n",
      "/Users/pranithagaddam/anaconda3/lib/python3.9/site-packages/sklearn/utils/validation.py:993: DataConversionWarning: A column-vector y was passed when a 1d array was expected. Please change the shape of y to (n_samples, ), for example using ravel().\n",
      "  y = column_or_1d(y, warn=True)\n",
      "/Users/pranithagaddam/anaconda3/lib/python3.9/site-packages/sklearn/utils/validation.py:993: DataConversionWarning: A column-vector y was passed when a 1d array was expected. Please change the shape of y to (n_samples, ), for example using ravel().\n",
      "  y = column_or_1d(y, warn=True)\n",
      "/Users/pranithagaddam/anaconda3/lib/python3.9/site-packages/sklearn/utils/validation.py:993: DataConversionWarning: A column-vector y was passed when a 1d array was expected. Please change the shape of y to (n_samples, ), for example using ravel().\n",
      "  y = column_or_1d(y, warn=True)\n"
     ]
    },
    {
     "name": "stderr",
     "output_type": "stream",
     "text": [
      "/Users/pranithagaddam/anaconda3/lib/python3.9/site-packages/sklearn/utils/validation.py:993: DataConversionWarning: A column-vector y was passed when a 1d array was expected. Please change the shape of y to (n_samples, ), for example using ravel().\n",
      "  y = column_or_1d(y, warn=True)\n",
      "/Users/pranithagaddam/anaconda3/lib/python3.9/site-packages/sklearn/utils/validation.py:993: DataConversionWarning: A column-vector y was passed when a 1d array was expected. Please change the shape of y to (n_samples, ), for example using ravel().\n",
      "  y = column_or_1d(y, warn=True)\n",
      "/Users/pranithagaddam/anaconda3/lib/python3.9/site-packages/sklearn/utils/validation.py:993: DataConversionWarning: A column-vector y was passed when a 1d array was expected. Please change the shape of y to (n_samples, ), for example using ravel().\n",
      "  y = column_or_1d(y, warn=True)\n",
      "/Users/pranithagaddam/anaconda3/lib/python3.9/site-packages/sklearn/utils/validation.py:993: DataConversionWarning: A column-vector y was passed when a 1d array was expected. Please change the shape of y to (n_samples, ), for example using ravel().\n",
      "  y = column_or_1d(y, warn=True)\n",
      "/Users/pranithagaddam/anaconda3/lib/python3.9/site-packages/sklearn/utils/validation.py:993: DataConversionWarning: A column-vector y was passed when a 1d array was expected. Please change the shape of y to (n_samples, ), for example using ravel().\n",
      "  y = column_or_1d(y, warn=True)\n",
      "/Users/pranithagaddam/anaconda3/lib/python3.9/site-packages/sklearn/utils/validation.py:993: DataConversionWarning: A column-vector y was passed when a 1d array was expected. Please change the shape of y to (n_samples, ), for example using ravel().\n",
      "  y = column_or_1d(y, warn=True)\n",
      "/Users/pranithagaddam/anaconda3/lib/python3.9/site-packages/sklearn/utils/validation.py:993: DataConversionWarning: A column-vector y was passed when a 1d array was expected. Please change the shape of y to (n_samples, ), for example using ravel().\n",
      "  y = column_or_1d(y, warn=True)\n",
      "/Users/pranithagaddam/anaconda3/lib/python3.9/site-packages/sklearn/utils/validation.py:993: DataConversionWarning: A column-vector y was passed when a 1d array was expected. Please change the shape of y to (n_samples, ), for example using ravel().\n",
      "  y = column_or_1d(y, warn=True)\n",
      "/Users/pranithagaddam/anaconda3/lib/python3.9/site-packages/sklearn/utils/validation.py:993: DataConversionWarning: A column-vector y was passed when a 1d array was expected. Please change the shape of y to (n_samples, ), for example using ravel().\n",
      "  y = column_or_1d(y, warn=True)\n",
      "/Users/pranithagaddam/anaconda3/lib/python3.9/site-packages/sklearn/utils/validation.py:993: DataConversionWarning: A column-vector y was passed when a 1d array was expected. Please change the shape of y to (n_samples, ), for example using ravel().\n",
      "  y = column_or_1d(y, warn=True)\n",
      "/Users/pranithagaddam/anaconda3/lib/python3.9/site-packages/sklearn/utils/validation.py:993: DataConversionWarning: A column-vector y was passed when a 1d array was expected. Please change the shape of y to (n_samples, ), for example using ravel().\n",
      "  y = column_or_1d(y, warn=True)\n",
      "/Users/pranithagaddam/anaconda3/lib/python3.9/site-packages/sklearn/utils/validation.py:993: DataConversionWarning: A column-vector y was passed when a 1d array was expected. Please change the shape of y to (n_samples, ), for example using ravel().\n",
      "  y = column_or_1d(y, warn=True)\n",
      "/Users/pranithagaddam/anaconda3/lib/python3.9/site-packages/sklearn/utils/validation.py:993: DataConversionWarning: A column-vector y was passed when a 1d array was expected. Please change the shape of y to (n_samples, ), for example using ravel().\n",
      "  y = column_or_1d(y, warn=True)\n",
      "/Users/pranithagaddam/anaconda3/lib/python3.9/site-packages/sklearn/utils/validation.py:993: DataConversionWarning: A column-vector y was passed when a 1d array was expected. Please change the shape of y to (n_samples, ), for example using ravel().\n",
      "  y = column_or_1d(y, warn=True)\n",
      "/Users/pranithagaddam/anaconda3/lib/python3.9/site-packages/sklearn/utils/validation.py:993: DataConversionWarning: A column-vector y was passed when a 1d array was expected. Please change the shape of y to (n_samples, ), for example using ravel().\n",
      "  y = column_or_1d(y, warn=True)\n",
      "/Users/pranithagaddam/anaconda3/lib/python3.9/site-packages/sklearn/utils/validation.py:993: DataConversionWarning: A column-vector y was passed when a 1d array was expected. Please change the shape of y to (n_samples, ), for example using ravel().\n",
      "  y = column_or_1d(y, warn=True)\n",
      "/Users/pranithagaddam/anaconda3/lib/python3.9/site-packages/sklearn/utils/validation.py:993: DataConversionWarning: A column-vector y was passed when a 1d array was expected. Please change the shape of y to (n_samples, ), for example using ravel().\n",
      "  y = column_or_1d(y, warn=True)\n",
      "/Users/pranithagaddam/anaconda3/lib/python3.9/site-packages/sklearn/utils/validation.py:993: DataConversionWarning: A column-vector y was passed when a 1d array was expected. Please change the shape of y to (n_samples, ), for example using ravel().\n",
      "  y = column_or_1d(y, warn=True)\n",
      "/Users/pranithagaddam/anaconda3/lib/python3.9/site-packages/sklearn/utils/validation.py:993: DataConversionWarning: A column-vector y was passed when a 1d array was expected. Please change the shape of y to (n_samples, ), for example using ravel().\n",
      "  y = column_or_1d(y, warn=True)\n",
      "/Users/pranithagaddam/anaconda3/lib/python3.9/site-packages/sklearn/utils/validation.py:993: DataConversionWarning: A column-vector y was passed when a 1d array was expected. Please change the shape of y to (n_samples, ), for example using ravel().\n",
      "  y = column_or_1d(y, warn=True)\n",
      "/Users/pranithagaddam/anaconda3/lib/python3.9/site-packages/sklearn/utils/validation.py:993: DataConversionWarning: A column-vector y was passed when a 1d array was expected. Please change the shape of y to (n_samples, ), for example using ravel().\n",
      "  y = column_or_1d(y, warn=True)\n",
      "/Users/pranithagaddam/anaconda3/lib/python3.9/site-packages/sklearn/utils/validation.py:993: DataConversionWarning: A column-vector y was passed when a 1d array was expected. Please change the shape of y to (n_samples, ), for example using ravel().\n",
      "  y = column_or_1d(y, warn=True)\n",
      "/Users/pranithagaddam/anaconda3/lib/python3.9/site-packages/sklearn/utils/validation.py:993: DataConversionWarning: A column-vector y was passed when a 1d array was expected. Please change the shape of y to (n_samples, ), for example using ravel().\n",
      "  y = column_or_1d(y, warn=True)\n",
      "/Users/pranithagaddam/anaconda3/lib/python3.9/site-packages/sklearn/utils/validation.py:993: DataConversionWarning: A column-vector y was passed when a 1d array was expected. Please change the shape of y to (n_samples, ), for example using ravel().\n",
      "  y = column_or_1d(y, warn=True)\n",
      "/Users/pranithagaddam/anaconda3/lib/python3.9/site-packages/sklearn/utils/validation.py:993: DataConversionWarning: A column-vector y was passed when a 1d array was expected. Please change the shape of y to (n_samples, ), for example using ravel().\n",
      "  y = column_or_1d(y, warn=True)\n",
      "/Users/pranithagaddam/anaconda3/lib/python3.9/site-packages/sklearn/utils/validation.py:993: DataConversionWarning: A column-vector y was passed when a 1d array was expected. Please change the shape of y to (n_samples, ), for example using ravel().\n",
      "  y = column_or_1d(y, warn=True)\n",
      "/Users/pranithagaddam/anaconda3/lib/python3.9/site-packages/sklearn/utils/validation.py:993: DataConversionWarning: A column-vector y was passed when a 1d array was expected. Please change the shape of y to (n_samples, ), for example using ravel().\n",
      "  y = column_or_1d(y, warn=True)\n",
      "/Users/pranithagaddam/anaconda3/lib/python3.9/site-packages/sklearn/utils/validation.py:993: DataConversionWarning: A column-vector y was passed when a 1d array was expected. Please change the shape of y to (n_samples, ), for example using ravel().\n",
      "  y = column_or_1d(y, warn=True)\n",
      "/Users/pranithagaddam/anaconda3/lib/python3.9/site-packages/sklearn/utils/validation.py:993: DataConversionWarning: A column-vector y was passed when a 1d array was expected. Please change the shape of y to (n_samples, ), for example using ravel().\n",
      "  y = column_or_1d(y, warn=True)\n",
      "/Users/pranithagaddam/anaconda3/lib/python3.9/site-packages/sklearn/utils/validation.py:993: DataConversionWarning: A column-vector y was passed when a 1d array was expected. Please change the shape of y to (n_samples, ), for example using ravel().\n",
      "  y = column_or_1d(y, warn=True)\n",
      "/Users/pranithagaddam/anaconda3/lib/python3.9/site-packages/sklearn/utils/validation.py:993: DataConversionWarning: A column-vector y was passed when a 1d array was expected. Please change the shape of y to (n_samples, ), for example using ravel().\n",
      "  y = column_or_1d(y, warn=True)\n",
      "/Users/pranithagaddam/anaconda3/lib/python3.9/site-packages/sklearn/utils/validation.py:993: DataConversionWarning: A column-vector y was passed when a 1d array was expected. Please change the shape of y to (n_samples, ), for example using ravel().\n",
      "  y = column_or_1d(y, warn=True)\n"
     ]
    },
    {
     "name": "stderr",
     "output_type": "stream",
     "text": [
      "/Users/pranithagaddam/anaconda3/lib/python3.9/site-packages/sklearn/utils/validation.py:993: DataConversionWarning: A column-vector y was passed when a 1d array was expected. Please change the shape of y to (n_samples, ), for example using ravel().\n",
      "  y = column_or_1d(y, warn=True)\n",
      "/Users/pranithagaddam/anaconda3/lib/python3.9/site-packages/sklearn/utils/validation.py:993: DataConversionWarning: A column-vector y was passed when a 1d array was expected. Please change the shape of y to (n_samples, ), for example using ravel().\n",
      "  y = column_or_1d(y, warn=True)\n",
      "/Users/pranithagaddam/anaconda3/lib/python3.9/site-packages/sklearn/utils/validation.py:993: DataConversionWarning: A column-vector y was passed when a 1d array was expected. Please change the shape of y to (n_samples, ), for example using ravel().\n",
      "  y = column_or_1d(y, warn=True)\n",
      "/Users/pranithagaddam/anaconda3/lib/python3.9/site-packages/sklearn/utils/validation.py:993: DataConversionWarning: A column-vector y was passed when a 1d array was expected. Please change the shape of y to (n_samples, ), for example using ravel().\n",
      "  y = column_or_1d(y, warn=True)\n",
      "/Users/pranithagaddam/anaconda3/lib/python3.9/site-packages/sklearn/utils/validation.py:993: DataConversionWarning: A column-vector y was passed when a 1d array was expected. Please change the shape of y to (n_samples, ), for example using ravel().\n",
      "  y = column_or_1d(y, warn=True)\n",
      "/Users/pranithagaddam/anaconda3/lib/python3.9/site-packages/sklearn/utils/validation.py:993: DataConversionWarning: A column-vector y was passed when a 1d array was expected. Please change the shape of y to (n_samples, ), for example using ravel().\n",
      "  y = column_or_1d(y, warn=True)\n",
      "/Users/pranithagaddam/anaconda3/lib/python3.9/site-packages/sklearn/utils/validation.py:993: DataConversionWarning: A column-vector y was passed when a 1d array was expected. Please change the shape of y to (n_samples, ), for example using ravel().\n",
      "  y = column_or_1d(y, warn=True)\n",
      "/Users/pranithagaddam/anaconda3/lib/python3.9/site-packages/sklearn/utils/validation.py:993: DataConversionWarning: A column-vector y was passed when a 1d array was expected. Please change the shape of y to (n_samples, ), for example using ravel().\n",
      "  y = column_or_1d(y, warn=True)\n"
     ]
    },
    {
     "data": {
      "text/plain": [
       "GridSearchCV(cv=10, estimator=SVR(),\n",
       "             param_grid={'C': [3],\n",
       "                         'gamma': [0.00195, 0.00781, 0.03125, 0.03703, 0.5],\n",
       "                         'kernel': ['rbf']})"
      ]
     },
     "execution_count": 104,
     "metadata": {},
     "output_type": "execute_result"
    }
   ],
   "source": [
    "#cv - 10 folds\n",
    "gridSVR1 = GridSearchCV(SVR(),param_grid,refit=True,verbose=0,cv=10)\n",
    "gridSVR1.fit(scaler.fit_transform(X_train),scaler.fit_transform(y_train))\n",
    "\n",
    "\n",
    "gridSVR2 = GridSearchCV(SVR(),param_grid,refit=True,verbose=0,cv=10)\n",
    "gridSVR2.fit(scaler.fit_transform(train_x),scaler.fit_transform(train_y))\n",
    "\n",
    "\n",
    "gridSVR3 = GridSearchCV(SVR(),param_grid,refit=True,verbose=0,cv=10)\n",
    "gridSVR3.fit(scaler.fit_transform(training_x),scaler.fit_transform(training_y))\n",
    "\n",
    "\n",
    "gridSVR4 = GridSearchCV(SVR(),param_grid,refit=True,verbose=0,cv=10)\n",
    "gridSVR4.fit(scaler.fit_transform(t_x),scaler.fit_transform(t_y))\n",
    "\n",
    "\n",
    "gridSVR5 = GridSearchCV(SVR(),param_grid,refit=True,verbose=0,cv=10)\n",
    "gridSVR5.fit(scaler.fit_transform(Xtrain),scaler.fit_transform(ytrain))"
   ]
  },
  {
   "cell_type": "code",
   "execution_count": 105,
   "id": "260ee6ac",
   "metadata": {},
   "outputs": [
    {
     "name": "stdout",
     "output_type": "stream",
     "text": [
      "Best parameters obtained via Grid Search: {'C': 3, 'gamma': 0.5, 'kernel': 'rbf'}\n",
      "Best parameters obtained via Grid Search: {'C': 3, 'gamma': 0.00195, 'kernel': 'rbf'}\n",
      "Best parameters obtained via Grid Search: {'C': 3, 'gamma': 0.03703, 'kernel': 'rbf'}\n",
      "Best parameters obtained via Grid Search: {'C': 3, 'gamma': 0.00195, 'kernel': 'rbf'}\n",
      "Best parameters obtained via Grid Search: {'C': 3, 'gamma': 0.03703, 'kernel': 'rbf'}\n"
     ]
    }
   ],
   "source": [
    "print(\"Best parameters obtained via Grid Search:\",gridSVR1.best_params_)\n",
    "print(\"Best parameters obtained via Grid Search:\",gridSVR2.best_params_)\n",
    "print(\"Best parameters obtained via Grid Search:\",gridSVR3.best_params_)\n",
    "print(\"Best parameters obtained via Grid Search:\",gridSVR4.best_params_)\n",
    "print(\"Best parameters obtained via Grid Search:\",gridSVR5.best_params_)"
   ]
  },
  {
   "cell_type": "code",
   "execution_count": 106,
   "id": "7ebaec41",
   "metadata": {},
   "outputs": [
    {
     "name": "stderr",
     "output_type": "stream",
     "text": [
      "/Users/pranithagaddam/anaconda3/lib/python3.9/site-packages/sklearn/base.py:443: UserWarning: X has feature names, but SVR was fitted without feature names\n",
      "  warnings.warn(\n",
      "/Users/pranithagaddam/anaconda3/lib/python3.9/site-packages/sklearn/base.py:443: UserWarning: X has feature names, but SVR was fitted without feature names\n",
      "  warnings.warn(\n",
      "/Users/pranithagaddam/anaconda3/lib/python3.9/site-packages/sklearn/base.py:443: UserWarning: X has feature names, but SVR was fitted without feature names\n",
      "  warnings.warn(\n",
      "/Users/pranithagaddam/anaconda3/lib/python3.9/site-packages/sklearn/base.py:443: UserWarning: X has feature names, but SVR was fitted without feature names\n",
      "  warnings.warn(\n",
      "/Users/pranithagaddam/anaconda3/lib/python3.9/site-packages/sklearn/base.py:443: UserWarning: X has feature names, but SVR was fitted without feature names\n",
      "  warnings.warn(\n"
     ]
    }
   ],
   "source": [
    "t=gridSVR1.predict(X_test)\n",
    "h=gridSVR2.predict(test_x)\n",
    "a=gridSVR3.predict(testing_x)\n",
    "n=gridSVR4.predict(te_x)\n",
    "k=gridSVR5.predict(Xtest)"
   ]
  },
  {
   "cell_type": "code",
   "execution_count": 107,
   "id": "d82d1258",
   "metadata": {},
   "outputs": [
    {
     "name": "stdout",
     "output_type": "stream",
     "text": [
      "RMSE score for Support Vector Regression - Naive: 0.8096083673131442\n",
      "RMSE score for Support Vector Regression - STFWI: 1.316712275723676\n",
      "RMSE score for Support Vector Regression - STM: 0.6240823270545119\n",
      "RMSE score for Support Vector Regression - FWI: 1.3639775393689544\n",
      "RMSE score for Support Vector Regression - M: 0.6199556074579262\n"
     ]
    }
   ],
   "source": [
    "print(\"RMSE score for Support Vector Regression - Naive:\",np.sqrt(np.mean((y_test-t)**2)))\n",
    "print(\"RMSE score for Support Vector Regression - STFWI:\",np.sqrt(np.mean((test_y-h)**2)))\n",
    "print(\"RMSE score for Support Vector Regression - STM:\",np.sqrt(np.mean((testing_y-a)**2)))\n",
    "print(\"RMSE score for Support Vector Regression - FWI:\",np.sqrt(np.mean((te_y-n)**2)))\n",
    "print(\"RMSE score for Support Vector Regression - M:\",np.sqrt(np.mean((ytest-k)**2)))"
   ]
  },
  {
   "cell_type": "code",
   "execution_count": 108,
   "id": "9085ad2c",
   "metadata": {},
   "outputs": [
    {
     "name": "stdout",
     "output_type": "stream",
     "text": [
      "80.96083673131443\n",
      "131.6712275723676\n",
      "62.4082327054512\n",
      "136.39775393689544\n",
      "61.99556074579262\n"
     ]
    }
   ],
   "source": [
    "print(np.sqrt(np.mean((y_test-t)**2))*100)\n",
    "print(np.sqrt(np.mean((y_test-h)**2))*100)\n",
    "print(np.sqrt(np.mean((y_test-a)**2))*100)\n",
    "print(np.sqrt(np.mean((y_test-n)**2))*100)\n",
    "print(np.sqrt(np.mean((y_test-k)**2))*100)"
   ]
  },
  {
   "cell_type": "code",
   "execution_count": 109,
   "id": "e9256ca7",
   "metadata": {},
   "outputs": [
    {
     "data": {
      "text/plain": [
       "<matplotlib.collections.PathCollection at 0x7f88e1528790>"
      ]
     },
     "execution_count": 109,
     "metadata": {},
     "output_type": "execute_result"
    },
    {
     "data": {
      "image/png": "[encoded data removed]",
      "text/plain": [
       "<Figure size 432x288 with 1 Axes>"
      ]
     },
     "metadata": {
      "needs_background": "light"
     },
     "output_type": "display_data"
    }
   ],
   "source": [
    "plt.xlabel(\"Actual Area burned\")\n",
    "plt.ylabel(\"Error\")\n",
    "plt.grid(True)\n",
    "plt.scatter(10**(y_test),10**(t)-10**(y_test))"
   ]
  },
  {
   "cell_type": "code",
   "execution_count": 110,
   "id": "a86f8515",
   "metadata": {},
   "outputs": [
    {
     "data": {
      "text/plain": [
       "(array([  1.,   0.,   0.,   0.,   0.,   0.,   0.,   0.,   0.,   0.,   0.,\n",
       "          0.,   0.,   0.,   0.,   0.,   0.,   0.,   0.,   0.,   0.,   0.,\n",
       "          0.,   0.,   0.,   0.,   0.,   0.,   0.,   0.,   0.,   0.,   0.,\n",
       "          0.,   0.,   0.,   0.,   1.,   0.,   0.,   1.,   1.,   1.,   0.,\n",
       "          0.,   1.,   1.,   5.,  11., 184.]),\n",
       " array([-1.09093219e+03, -1.06911539e+03, -1.04729859e+03, -1.02548179e+03,\n",
       "        -1.00366499e+03, -9.81848188e+02, -9.60031388e+02, -9.38214588e+02,\n",
       "        -9.16397788e+02, -8.94580988e+02, -8.72764188e+02, -8.50947388e+02,\n",
       "        -8.29130588e+02, -8.07313788e+02, -7.85496988e+02, -7.63680188e+02,\n",
       "        -7.41863388e+02, -7.20046588e+02, -6.98229788e+02, -6.76412988e+02,\n",
       "        -6.54596188e+02, -6.32779388e+02, -6.10962588e+02, -5.89145788e+02,\n",
       "        -5.67328988e+02, -5.45512188e+02, -5.23695388e+02, -5.01878588e+02,\n",
       "        -4.80061788e+02, -4.58244988e+02, -4.36428188e+02, -4.14611388e+02,\n",
       "        -3.92794588e+02, -3.70977788e+02, -3.49160988e+02, -3.27344188e+02,\n",
       "        -3.05527388e+02, -2.83710588e+02, -2.61893788e+02, -2.40076988e+02,\n",
       "        -2.18260188e+02, -1.96443388e+02, -1.74626588e+02, -1.52809788e+02,\n",
       "        -1.30992988e+02, -1.09176188e+02, -8.73593882e+01, -6.55425882e+01,\n",
       "        -4.37257882e+01, -2.19089882e+01, -9.21882490e-02]),\n",
       " <BarContainer object of 50 artists>)"
      ]
     },
     "execution_count": 110,
     "metadata": {},
     "output_type": "execute_result"
    },
    {
     "data": {
      "image/png": "[encoded data removed]",
      "text/plain": [
       "<Figure size 432x288 with 1 Axes>"
      ]
     },
     "metadata": {
      "needs_background": "light"
     },
     "output_type": "display_data"
    }
   ],
   "source": [
    "plt.title(\"Histogram depicting prediction errors\\n\",fontsize=18)\n",
    "plt.xlabel(\"Prediction error ($)\",fontsize=15)\n",
    "plt.grid(True)\n",
    "plt.hist(10**(t.reshape(t.size,))-10**(y_test),bins=50)"
   ]
  },
  {
   "cell_type": "code",
   "execution_count": 111,
   "id": "024d99f7",
   "metadata": {},
   "outputs": [
    {
     "data": {
      "text/plain": [
       "[<matplotlib.lines.Line2D at 0x7f88d2b00be0>]"
      ]
     },
     "execution_count": 111,
     "metadata": {},
     "output_type": "execute_result"
    },
    {
     "data": {
      "image/png": "[encoded data removed]",
      "text/plain": [
       "<Figure size 432x432 with 1 Axes>"
      ]
     },
     "metadata": {
      "needs_background": "light"
     },
     "output_type": "display_data"
    }
   ],
   "source": [
    "recSVR=[]\n",
    "for i in range(tol_max):\n",
    "    recSVR.append(rec(t,y_test,i))\n",
    "\n",
    "plt.figure(figsize=(6,6))\n",
    "plt.title(\"REC curve for  Support Vector Regressor\\n\",fontsize=16)\n",
    "plt.xlabel(\"Absolute error (tolerance) for prediction ($)\")\n",
    "plt.ylabel(\"Percentage of accurate prediction\")\n",
    "plt.xticks([i*5 for i in range(tol_max+1)])\n",
    "plt.ylim(-10,100)\n",
    "plt.yticks([i*20 for i in range(6)])\n",
    "plt.grid(True)\n",
    "plt.plot(range(tol_max),recSVR)"
   ]
  },
  {
   "cell_type": "markdown",
   "id": "1ed99fae",
   "metadata": {},
   "source": [
    "### Decision Tree Regressor"
   ]
  },
  {
   "cell_type": "code",
   "execution_count": 112,
   "id": "142e0562",
   "metadata": {},
   "outputs": [],
   "source": [
    "from sklearn.tree import DecisionTreeRegressor"
   ]
  },
  {
   "cell_type": "code",
   "execution_count": 113,
   "id": "c930e93c",
   "metadata": {},
   "outputs": [
    {
     "data": {
      "text/plain": [
       "DecisionTreeRegressor(max_depth=10, min_samples_leaf=2, min_samples_split=4,\n",
       "                      min_weight_fraction_leaf=0.01)"
      ]
     },
     "execution_count": 113,
     "metadata": {},
     "output_type": "execute_result"
    }
   ],
   "source": [
    "tree1 = DecisionTreeRegressor(max_depth=10,criterion='squared_error',min_samples_split =4,min_samples_leaf=2,min_weight_fraction_leaf=0.01)\n",
    "tree1.fit(scaler.fit_transform(X_train),scaler.fit_transform(y_train))\n",
    "\n",
    "tree2 = DecisionTreeRegressor(max_depth=10,criterion='squared_error',min_samples_split =4,min_samples_leaf=2,min_weight_fraction_leaf=0.01)\n",
    "tree2.fit(scaler.fit_transform(train_x),scaler.fit_transform(train_y))\n",
    "\n",
    "tree3 = DecisionTreeRegressor(max_depth=10,criterion='squared_error',min_samples_split =4,min_samples_leaf=2,min_weight_fraction_leaf=0.01)\n",
    "tree3.fit(scaler.fit_transform(training_x),scaler.fit_transform(training_y))\n",
    "\n",
    "tree4 = DecisionTreeRegressor(max_depth=10,criterion='squared_error',min_samples_split =4,min_samples_leaf=2,min_weight_fraction_leaf=0.01)\n",
    "tree4.fit(scaler.fit_transform(t_x),scaler.fit_transform(t_y))\n",
    "\n",
    "tree5 = DecisionTreeRegressor(max_depth=10,criterion='squared_error',min_samples_split =4,min_samples_leaf=2,min_weight_fraction_leaf=0.01)\n",
    "tree5.fit(scaler.fit_transform(Xtrain),scaler.fit_transform(ytrain))"
   ]
  },
  {
   "cell_type": "code",
   "execution_count": 114,
   "id": "42827e13",
   "metadata": {},
   "outputs": [
    {
     "name": "stderr",
     "output_type": "stream",
     "text": [
      "/Users/pranithagaddam/anaconda3/lib/python3.9/site-packages/sklearn/base.py:443: UserWarning: X has feature names, but DecisionTreeRegressor was fitted without feature names\n",
      "  warnings.warn(\n",
      "/Users/pranithagaddam/anaconda3/lib/python3.9/site-packages/sklearn/base.py:443: UserWarning: X has feature names, but DecisionTreeRegressor was fitted without feature names\n",
      "  warnings.warn(\n",
      "/Users/pranithagaddam/anaconda3/lib/python3.9/site-packages/sklearn/base.py:443: UserWarning: X has feature names, but DecisionTreeRegressor was fitted without feature names\n",
      "  warnings.warn(\n",
      "/Users/pranithagaddam/anaconda3/lib/python3.9/site-packages/sklearn/base.py:443: UserWarning: X has feature names, but DecisionTreeRegressor was fitted without feature names\n",
      "  warnings.warn(\n",
      "/Users/pranithagaddam/anaconda3/lib/python3.9/site-packages/sklearn/base.py:443: UserWarning: X has feature names, but DecisionTreeRegressor was fitted without feature names\n",
      "  warnings.warn(\n"
     ]
    }
   ],
   "source": [
    "t=tree1.predict(X_test)\n",
    "o=tree2.predict(test_x)\n",
    "p=tree3.predict(testing_x)\n",
    "i=tree4.predict(te_x)\n",
    "c=tree5.predict(Xtest)"
   ]
  },
  {
   "cell_type": "code",
   "execution_count": 115,
   "id": "88262637",
   "metadata": {},
   "outputs": [
    {
     "name": "stdout",
     "output_type": "stream",
     "text": [
      "RMSE for Decision Tree - Naive: 1.2130292814177965\n",
      "RMSE for Decision Tree - STFWI: 1.1280666402649218\n",
      "RMSE for Decision Tree - STM: 0.7718397372667477\n",
      "RMSE for Decision Tree - FWI: 0.6712262468871099\n",
      "RMSE for Decision Tree - M: 0.7718397372667477\n"
     ]
    }
   ],
   "source": [
    "print(\"RMSE for Decision Tree - Naive:\",np.sqrt(np.mean((y_test-t)**2)))\n",
    "print(\"RMSE for Decision Tree - STFWI:\",np.sqrt(np.mean((test_y-o)**2)))\n",
    "print(\"RMSE for Decision Tree - STM:\",np.sqrt(np.mean((testing_y-p)**2)))\n",
    "print(\"RMSE for Decision Tree - FWI:\",np.sqrt(np.mean((te_y-i)**2)))\n",
    "print(\"RMSE for Decision Tree - M:\",np.sqrt(np.mean((ytest-c)**2)))"
   ]
  },
  {
   "cell_type": "markdown",
   "id": "3620a9d8",
   "metadata": {},
   "source": [
    "### Inverse of Logarithmic output"
   ]
  },
  {
   "cell_type": "code",
   "execution_count": 116,
   "id": "0dab12cc",
   "metadata": {},
   "outputs": [
    {
     "name": "stdout",
     "output_type": "stream",
     "text": [
      "121.30292814177966\n",
      "112.80666402649217\n",
      "77.18397372667476\n",
      "67.12262468871099\n",
      "77.18397372667476\n"
     ]
    }
   ],
   "source": [
    "print(np.sqrt(np.mean((y_test-t)**2))*100)\n",
    "print(np.sqrt(np.mean((y_test-o)**2))*100)\n",
    "print(np.sqrt(np.mean((y_test-p)**2))*100)\n",
    "print(np.sqrt(np.mean((y_test-i)**2))*100)\n",
    "print(np.sqrt(np.mean((y_test-c)**2))*100)"
   ]
  },
  {
   "cell_type": "code",
   "execution_count": 117,
   "id": "4cc0df43",
   "metadata": {},
   "outputs": [
    {
     "data": {
      "text/plain": [
       "<matplotlib.collections.PathCollection at 0x7f88e13acd00>"
      ]
     },
     "execution_count": 117,
     "metadata": {},
     "output_type": "execute_result"
    },
    {
     "data": {
      "image/png": "[encoded data removed]",
      "text/plain": [
       "<Figure size 432x288 with 1 Axes>"
      ]
     },
     "metadata": {
      "needs_background": "light"
     },
     "output_type": "display_data"
    }
   ],
   "source": [
    "plt.xlabel(\"Actual area burned\")\n",
    "plt.ylabel(\"Error\")\n",
    "plt.grid(True)\n",
    "plt.scatter(10**(y_test),10**(t)-10**(y_test))"
   ]
  },
  {
   "cell_type": "code",
   "execution_count": 118,
   "id": "6d8b12a0",
   "metadata": {},
   "outputs": [
    {
     "data": {
      "text/plain": [
       "(array([  1.,   0.,   0.,   0.,   0.,   0.,   0.,   0.,   0.,   0.,   0.,\n",
       "          0.,   0.,   0.,   0.,   0.,   0.,   0.,   0.,   0.,   0.,   0.,\n",
       "          0.,   0.,   0.,   0.,   0.,   0.,   0.,   0.,   0.,   0.,   0.,\n",
       "          0.,   0.,   0.,   0.,   1.,   0.,   0.,   1.,   1.,   1.,   0.,\n",
       "          0.,   1.,   1.,   5.,  11., 184.]),\n",
       " array([-1058.22392264, -1036.40712264, -1014.59032264,  -992.77352264,\n",
       "         -970.95672264,  -949.13992264,  -927.32312264,  -905.50632264,\n",
       "         -883.68952264,  -861.87272264,  -840.05592264,  -818.23912264,\n",
       "         -796.42232264,  -774.60552264,  -752.78872264,  -730.97192264,\n",
       "         -709.15512264,  -687.33832264,  -665.52152264,  -643.70472264,\n",
       "         -621.88792264,  -600.07112264,  -578.25432264,  -556.43752264,\n",
       "         -534.62072264,  -512.80392264,  -490.98712264,  -469.17032264,\n",
       "         -447.35352264,  -425.53672264,  -403.71992264,  -381.90312264,\n",
       "         -360.08632264,  -338.26952264,  -316.45272264,  -294.63592264,\n",
       "         -272.81912264,  -251.00232264,  -229.18552264,  -207.36872264,\n",
       "         -185.55192264,  -163.73512264,  -141.91832264,  -120.10152264,\n",
       "          -98.28472264,   -76.46792264,   -54.65112264,   -32.83432264,\n",
       "          -11.01752264,    10.79927736,    32.61607736]),\n",
       " <BarContainer object of 50 artists>)"
      ]
     },
     "execution_count": 118,
     "metadata": {},
     "output_type": "execute_result"
    },
    {
     "data": {
      "image/png": "[encoded data removed]",
      "text/plain": [
       "<Figure size 432x288 with 1 Axes>"
      ]
     },
     "metadata": {
      "needs_background": "light"
     },
     "output_type": "display_data"
    }
   ],
   "source": [
    "plt.title(\"Histogram for prediction errors\\n\",fontsize=17)\n",
    "plt.xlabel(\"Prediction error ($)\",fontsize=15)\n",
    "plt.grid(True)\n",
    "plt.hist(10**(t.reshape(t.size,))-10**(y_test),bins=50)"
   ]
  },
  {
   "cell_type": "markdown",
   "id": "01bfd4b3",
   "metadata": {},
   "source": [
    "### Random Forest Regressor"
   ]
  },
  {
   "cell_type": "code",
   "execution_count": 160,
   "id": "686f04ae",
   "metadata": {},
   "outputs": [],
   "source": [
    "from sklearn.ensemble import RandomForestRegressor"
   ]
  },
  {
   "cell_type": "code",
   "execution_count": 161,
   "id": "ea6b43ef",
   "metadata": {},
   "outputs": [
    {
     "name": "stderr",
     "output_type": "stream",
     "text": [
      "/var/folders/j0/q9zz5mhj0t92pnl_m13g270w0000gn/T/ipykernel_1980/3856972957.py:2: DataConversionWarning: A column-vector y was passed when a 1d array was expected. Please change the shape of y to (n_samples,), for example using ravel().\n",
      "  RF1.fit(scaler.fit_transform(X_train),scaler.fit_transform(y_train))\n",
      "/var/folders/j0/q9zz5mhj0t92pnl_m13g270w0000gn/T/ipykernel_1980/3856972957.py:5: DataConversionWarning: A column-vector y was passed when a 1d array was expected. Please change the shape of y to (n_samples,), for example using ravel().\n",
      "  RF2.fit(scaler.fit_transform(train_x),scaler.fit_transform(train_y))\n",
      "/var/folders/j0/q9zz5mhj0t92pnl_m13g270w0000gn/T/ipykernel_1980/3856972957.py:8: DataConversionWarning: A column-vector y was passed when a 1d array was expected. Please change the shape of y to (n_samples,), for example using ravel().\n",
      "  RF3.fit(scaler.fit_transform(training_x),scaler.fit_transform(training_y))\n",
      "/var/folders/j0/q9zz5mhj0t92pnl_m13g270w0000gn/T/ipykernel_1980/3856972957.py:11: DataConversionWarning: A column-vector y was passed when a 1d array was expected. Please change the shape of y to (n_samples,), for example using ravel().\n",
      "  RF4.fit(scaler.fit_transform(t_x),scaler.fit_transform(t_y))\n",
      "/var/folders/j0/q9zz5mhj0t92pnl_m13g270w0000gn/T/ipykernel_1980/3856972957.py:14: DataConversionWarning: A column-vector y was passed when a 1d array was expected. Please change the shape of y to (n_samples,), for example using ravel().\n",
      "  RF5.fit(scaler.fit_transform(Xtrain),scaler.fit_transform(ytrain))\n"
     ]
    },
    {
     "data": {
      "text/plain": [
       "RandomForestRegressor(max_depth=10, min_samples_leaf=2, min_samples_split=4,\n",
       "                      min_weight_fraction_leaf=0.01, n_estimators=500,\n",
       "                      random_state=42)"
      ]
     },
     "execution_count": 161,
     "metadata": {},
     "output_type": "execute_result"
    }
   ],
   "source": [
    "RF1 = RandomForestRegressor(n_estimators=500,max_depth=10,criterion='squared_error',min_samples_split = 4,min_samples_leaf=2,min_weight_fraction_leaf=0.01, random_state = 42)\n",
    "RF1.fit(scaler.fit_transform(X_train),scaler.fit_transform(y_train))\n",
    "\n",
    "RF2 = RandomForestRegressor(n_estimators=500,max_depth=10,criterion='squared_error',min_samples_split =4,min_samples_leaf=2,min_weight_fraction_leaf=0.01,random_state = 42)\n",
    "RF2.fit(scaler.fit_transform(train_x),scaler.fit_transform(train_y))\n",
    "\n",
    "RF3 = RandomForestRegressor(n_estimators=500,max_depth=10,criterion='squared_error',min_samples_split =4,min_samples_leaf=2,min_weight_fraction_leaf=0.01,random_state = 42)\n",
    "RF3.fit(scaler.fit_transform(training_x),scaler.fit_transform(training_y))\n",
    "\n",
    "RF4 = RandomForestRegressor(n_estimators=500,max_depth=10,criterion='squared_error',min_samples_split =4,min_samples_leaf=2,min_weight_fraction_leaf=0.01,random_state = 42)\n",
    "RF4.fit(scaler.fit_transform(t_x),scaler.fit_transform(t_y))\n",
    "\n",
    "RF5 = RandomForestRegressor(n_estimators=500,max_depth=10,criterion='squared_error',min_samples_split =4,min_samples_leaf=2,min_weight_fraction_leaf=0.01,random_state = 42)\n",
    "RF5.fit(scaler.fit_transform(Xtrain),scaler.fit_transform(ytrain))"
   ]
  },
  {
   "cell_type": "code",
   "execution_count": 162,
   "id": "de05ae0e",
   "metadata": {},
   "outputs": [
    {
     "name": "stderr",
     "output_type": "stream",
     "text": [
      "/Users/pranithagaddam/anaconda3/lib/python3.9/site-packages/sklearn/base.py:443: UserWarning: X has feature names, but RandomForestRegressor was fitted without feature names\n",
      "  warnings.warn(\n",
      "/Users/pranithagaddam/anaconda3/lib/python3.9/site-packages/sklearn/base.py:443: UserWarning: X has feature names, but RandomForestRegressor was fitted without feature names\n",
      "  warnings.warn(\n",
      "/Users/pranithagaddam/anaconda3/lib/python3.9/site-packages/sklearn/base.py:443: UserWarning: X has feature names, but RandomForestRegressor was fitted without feature names\n",
      "  warnings.warn(\n",
      "/Users/pranithagaddam/anaconda3/lib/python3.9/site-packages/sklearn/base.py:443: UserWarning: X has feature names, but RandomForestRegressor was fitted without feature names\n",
      "  warnings.warn(\n",
      "/Users/pranithagaddam/anaconda3/lib/python3.9/site-packages/sklearn/base.py:443: UserWarning: X has feature names, but RandomForestRegressor was fitted without feature names\n",
      "  warnings.warn(\n"
     ]
    }
   ],
   "source": [
    "t=RF1.predict(X_test)\n",
    "u=RF2.predict(test_x)\n",
    "p=RF3.predict(testing_x)\n",
    "l=RF4.predict(te_x)\n",
    "e=RF5.predict(Xtest)"
   ]
  },
  {
   "cell_type": "code",
   "execution_count": 163,
   "id": "b8e21986",
   "metadata": {},
   "outputs": [
    {
     "name": "stdout",
     "output_type": "stream",
     "text": [
      "RMSE for Random Forest- Naive: 0.7980490939318606\n",
      "RMSE for Random Forest- STFWI: 0.6285962210040941\n",
      "RMSE for Random Forest - STM: 0.6641304154514024\n",
      "RMSE for Random Forest - FWI: 0.6173778309615823\n",
      "RMSE for Random Forest - M: 0.6364977503303905\n"
     ]
    }
   ],
   "source": [
    "rmse_for1=np.sqrt(np.mean((y_test-t)**2))\n",
    "print(\"RMSE for Random Forest- Naive:\",rmse_for1)\n",
    "\n",
    "rmse_for2=np.sqrt(np.mean((test_y-u)**2))\n",
    "print(\"RMSE for Random Forest- STFWI:\",rmse_for2)\n",
    "\n",
    "rmse_for3=np.sqrt(np.mean((testing_y-p)**2))\n",
    "print(\"RMSE for Random Forest - STM:\",rmse_for3)\n",
    "\n",
    "rmse_for4=np.sqrt(np.mean((te_y-l)**2))\n",
    "print(\"RMSE for Random Forest - FWI:\",rmse_for4)\n",
    "\n",
    "rmse_for5=np.sqrt(np.mean((ytest-e)**2))\n",
    "print(\"RMSE for Random Forest - M:\",rmse_for5)"
   ]
  },
  {
   "cell_type": "markdown",
   "id": "afec7a7e",
   "metadata": {},
   "source": [
    "### Inverse Logarithmic output"
   ]
  },
  {
   "cell_type": "code",
   "execution_count": 170,
   "id": "75a5e116",
   "metadata": {},
   "outputs": [
    {
     "name": "stdout",
     "output_type": "stream",
     "text": [
      "79.80490939318607\n",
      "62.85962210040941\n",
      "66.41304154514025\n",
      "61.737783096158225\n",
      "63.64977503303905\n"
     ]
    }
   ],
   "source": [
    "print(rmse_for1*100)\n",
    "print(rmse_for2*100)\n",
    "print(rmse_for3*100)\n",
    "print(rmse_for4*100)\n",
    "print(rmse_for5*100)"
   ]
  },
  {
   "cell_type": "code",
   "execution_count": 164,
   "id": "aa3a5805",
   "metadata": {},
   "outputs": [
    {
     "data": {
      "text/plain": [
       "<matplotlib.collections.PathCollection at 0x7f88e1487970>"
      ]
     },
     "execution_count": 164,
     "metadata": {},
     "output_type": "execute_result"
    },
    {
     "data": {
      "image/png": "[encoded data removed]",
      "text/plain": [
       "<Figure size 432x288 with 1 Axes>"
      ]
     },
     "metadata": {
      "needs_background": "light"
     },
     "output_type": "display_data"
    }
   ],
   "source": [
    "plt.xlabel(\"Actual Area burned\")\n",
    "plt.ylabel(\"Error\")\n",
    "plt.grid(True)\n",
    "plt.scatter(10**(y_test),10**(t)-10**(y_test))"
   ]
  },
  {
   "cell_type": "code",
   "execution_count": 165,
   "id": "a0da6cbb",
   "metadata": {},
   "outputs": [
    {
     "data": {
      "text/plain": [
       "(array([  1.,   0.,   0.,   0.,   0.,   0.,   0.,   0.,   0.,   0.,   0.,\n",
       "          0.,   0.,   0.,   0.,   0.,   0.,   0.,   0.,   0.,   0.,   0.,\n",
       "          0.,   0.,   0.,   0.,   0.,   0.,   0.,   0.,   0.,   0.,   0.,\n",
       "          0.,   0.,   0.,   0.,   1.,   0.,   0.,   1.,   1.,   1.,   0.,\n",
       "          0.,   1.,   1.,   5.,  11., 184.]),\n",
       " array([-1082.39638331, -1060.55534982, -1038.71431632, -1016.87328283,\n",
       "         -995.03224933,  -973.19121584,  -951.35018235,  -929.50914885,\n",
       "         -907.66811536,  -885.82708186,  -863.98604837,  -842.14501487,\n",
       "         -820.30398138,  -798.46294788,  -776.62191439,  -754.78088089,\n",
       "         -732.9398474 ,  -711.0988139 ,  -689.25778041,  -667.41674692,\n",
       "         -645.57571342,  -623.73467993,  -601.89364643,  -580.05261294,\n",
       "         -558.21157944,  -536.37054595,  -514.52951245,  -492.68847896,\n",
       "         -470.84744546,  -449.00641197,  -427.16537848,  -405.32434498,\n",
       "         -383.48331149,  -361.64227799,  -339.8012445 ,  -317.960211  ,\n",
       "         -296.11917751,  -274.27814401,  -252.43711052,  -230.59607702,\n",
       "         -208.75504353,  -186.91401003,  -165.07297654,  -143.23194305,\n",
       "         -121.39090955,   -99.54987606,   -77.70884256,   -55.86780907,\n",
       "          -34.02677557,   -12.18574208,     9.65529142]),\n",
       " <BarContainer object of 50 artists>)"
      ]
     },
     "execution_count": 165,
     "metadata": {},
     "output_type": "execute_result"
    },
    {
     "data": {
      "image/png": "[encoded data removed]",
      "text/plain": [
       "<Figure size 432x288 with 1 Axes>"
      ]
     },
     "metadata": {
      "needs_background": "light"
     },
     "output_type": "display_data"
    }
   ],
   "source": [
    "plt.title(\"Histogram for prediction errors\\n\",fontsize=16)\n",
    "plt.xlabel(\"Prediction error ($)\",fontsize=14)\n",
    "plt.grid(True)\n",
    "plt.hist(10**(t.reshape(t.size,))-10**(y_test),bins=50)"
   ]
  },
  {
   "cell_type": "code",
   "execution_count": 166,
   "id": "bac9bb94",
   "metadata": {},
   "outputs": [
    {
     "data": {
      "text/plain": [
       "[<matplotlib.lines.Line2D at 0x7f88e19fedc0>]"
      ]
     },
     "execution_count": 166,
     "metadata": {},
     "output_type": "execute_result"
    },
    {
     "data": {
      "image/png": "[encoded data removed]",
      "text/plain": [
       "<Figure size 360x360 with 1 Axes>"
      ]
     },
     "metadata": {
      "needs_background": "light"
     },
     "output_type": "display_data"
    }
   ],
   "source": [
    "recRF=[]\n",
    "for i in range(tol_max):\n",
    "    recRF.append(rec(t,y_test,i))\n",
    "\n",
    "plt.figure(figsize=(5,5))\n",
    "plt.title(\"REC curve for the Random Forest\\n\",fontsize=16)\n",
    "plt.xlabel(\"Absolute error (tolerance) in prediction ($)\")\n",
    "plt.ylabel(\"Percentage of accurate prediction\")\n",
    "plt.xticks([i for i in range(0,tol_max+1,5)])\n",
    "plt.ylim(-10,100)\n",
    "plt.yticks([i*20 for i in range(6)])\n",
    "plt.grid(True)\n",
    "plt.plot(range(tol_max),recRF)"
   ]
  },
  {
   "cell_type": "markdown",
   "id": "d94a5610",
   "metadata": {},
   "source": [
    "### Deep network (using Keras package (TensorFlow backend))"
   ]
  },
  {
   "cell_type": "markdown",
   "id": "2a864a40",
   "metadata": {},
   "source": [
    "Description - I tried installing TensorFlow package in this environment, however, when I run the below code  it comes up as a dead kernel. I therefore, uninstalled and reinstalled my Anaconda Navigator and Python version - 3.9.1. \n",
    "\n",
    "After installing the new version, I created a new environment named tensorflow to install the tensorflow packages and the keras package, however, when I open the Jupyter notebook(tensorflow), i am able to install keras and tensorflow package but not other various packages such as matplotlib.pyplot or sklearn.model_selection. \n",
    "\n",
    "Additionally, I tried running the below code in Google collab which works fine since it is on Cloud, however, I am not able to upload my dataset and run the neural network on the dataset. \n",
    "\n",
    "From my experience, downloading tensorflow package, my kernel was not supporting it, thus, I couldn't get the required RMSE result for Neural Network. Although, I have still provided the REC curve for Deep Neural Network to compare against other models. \n",
    "\n",
    "If possible, when you download this .ipynb file,  if you have tensorflow package in your anaconda environment, you can see the RMSE results. \n",
    "\n",
    "### Therefore I have used the Multilayer Perceptron Regressor to get the predicted results"
   ]
  },
  {
   "cell_type": "code",
   "execution_count": 167,
   "id": "51c13484",
   "metadata": {},
   "outputs": [],
   "source": [
    "#from keras.models import Sequential\n",
    "#import keras.optimizers as opti\n",
    "#from keras.layers import Dense, Activation,Dropout\n",
    "#pip install keras\n",
    "#pip install tensorflow"
   ]
  },
  {
   "cell_type": "code",
   "execution_count": null,
   "id": "dccb1d20",
   "metadata": {},
   "outputs": [],
   "source": [
    "#nn_model = Sequential()\n",
    "\n",
    "#nn_model.add(Dense(100, input_dim=12))\n",
    "\n",
    "#nn_model.add(Activation('logistic'))\n",
    "\n",
    "#nn_model.add(Dropout(0.3))\n",
    "\n",
    "#nn_model.add(Dense(100))\n",
    "\n",
    "#nn_model.add(Dropout(0.3))\n",
    "\n",
    "#nn_model.add(Activation('logistic'))\n",
    "\n",
    "#nn_model.add(Dense(50))\n",
    "#nn_model.add(Activation('logistic'))\n",
    "#nn_model.add(Dense(1))\n",
    "#nn_model.summary()"
   ]
  },
  {
   "cell_type": "code",
   "execution_count": null,
   "id": "3eef1f90",
   "metadata": {},
   "outputs": [],
   "source": [
    "#learning_r=0.001\n",
    "#optimizer = opti.RMSprop(lr=learning_r)\n",
    "#nn_model.compile(optimizer=optimizer,loss='mse')"
   ]
  },
  {
   "cell_type": "code",
   "execution_count": null,
   "id": "1b43bf97",
   "metadata": {},
   "outputs": [],
   "source": [
    "#dataset=X_train\n",
    "#target = y_train\n",
    "#nn_model.fit(dataset, target, epochs=100, batch_size=10,verbose=0)"
   ]
  },
  {
   "cell_type": "markdown",
   "id": "5dd9ef43",
   "metadata": {},
   "source": [
    "### Multilayer Perceptron Regressor"
   ]
  },
  {
   "cell_type": "code",
   "execution_count": 194,
   "id": "01e0cb59",
   "metadata": {},
   "outputs": [
    {
     "name": "stderr",
     "output_type": "stream",
     "text": [
      "/Users/pranithagaddam/anaconda3/lib/python3.9/site-packages/sklearn/neural_network/_multilayer_perceptron.py:1599: DataConversionWarning: A column-vector y was passed when a 1d array was expected. Please change the shape of y to (n_samples, ), for example using ravel().\n",
      "  y = column_or_1d(y, warn=True)\n",
      "/Users/pranithagaddam/anaconda3/lib/python3.9/site-packages/sklearn/neural_network/_multilayer_perceptron.py:549: ConvergenceWarning: lbfgs failed to converge (status=1):\n",
      "STOP: TOTAL NO. of ITERATIONS REACHED LIMIT.\n",
      "\n",
      "Increase the number of iterations (max_iter) or scale the data as shown in:\n",
      "    https://scikit-learn.org/stable/modules/preprocessing.html\n",
      "  self.n_iter_ = _check_optimize_result(\"lbfgs\", opt_res, self.max_iter)\n",
      "/Users/pranithagaddam/anaconda3/lib/python3.9/site-packages/sklearn/neural_network/_multilayer_perceptron.py:1599: DataConversionWarning: A column-vector y was passed when a 1d array was expected. Please change the shape of y to (n_samples, ), for example using ravel().\n",
      "  y = column_or_1d(y, warn=True)\n",
      "/Users/pranithagaddam/anaconda3/lib/python3.9/site-packages/sklearn/neural_network/_multilayer_perceptron.py:549: ConvergenceWarning: lbfgs failed to converge (status=1):\n",
      "STOP: TOTAL NO. of ITERATIONS REACHED LIMIT.\n",
      "\n",
      "Increase the number of iterations (max_iter) or scale the data as shown in:\n",
      "    https://scikit-learn.org/stable/modules/preprocessing.html\n",
      "  self.n_iter_ = _check_optimize_result(\"lbfgs\", opt_res, self.max_iter)\n",
      "/Users/pranithagaddam/anaconda3/lib/python3.9/site-packages/sklearn/neural_network/_multilayer_perceptron.py:1599: DataConversionWarning: A column-vector y was passed when a 1d array was expected. Please change the shape of y to (n_samples, ), for example using ravel().\n",
      "  y = column_or_1d(y, warn=True)\n",
      "/Users/pranithagaddam/anaconda3/lib/python3.9/site-packages/sklearn/neural_network/_multilayer_perceptron.py:549: ConvergenceWarning: lbfgs failed to converge (status=1):\n",
      "STOP: TOTAL NO. of ITERATIONS REACHED LIMIT.\n",
      "\n",
      "Increase the number of iterations (max_iter) or scale the data as shown in:\n",
      "    https://scikit-learn.org/stable/modules/preprocessing.html\n",
      "  self.n_iter_ = _check_optimize_result(\"lbfgs\", opt_res, self.max_iter)\n",
      "/Users/pranithagaddam/anaconda3/lib/python3.9/site-packages/sklearn/neural_network/_multilayer_perceptron.py:1599: DataConversionWarning: A column-vector y was passed when a 1d array was expected. Please change the shape of y to (n_samples, ), for example using ravel().\n",
      "  y = column_or_1d(y, warn=True)\n",
      "/Users/pranithagaddam/anaconda3/lib/python3.9/site-packages/sklearn/neural_network/_multilayer_perceptron.py:549: ConvergenceWarning: lbfgs failed to converge (status=1):\n",
      "STOP: TOTAL NO. of ITERATIONS REACHED LIMIT.\n",
      "\n",
      "Increase the number of iterations (max_iter) or scale the data as shown in:\n",
      "    https://scikit-learn.org/stable/modules/preprocessing.html\n",
      "  self.n_iter_ = _check_optimize_result(\"lbfgs\", opt_res, self.max_iter)\n",
      "/Users/pranithagaddam/anaconda3/lib/python3.9/site-packages/sklearn/neural_network/_multilayer_perceptron.py:1599: DataConversionWarning: A column-vector y was passed when a 1d array was expected. Please change the shape of y to (n_samples, ), for example using ravel().\n",
      "  y = column_or_1d(y, warn=True)\n",
      "/Users/pranithagaddam/anaconda3/lib/python3.9/site-packages/sklearn/neural_network/_multilayer_perceptron.py:549: ConvergenceWarning: lbfgs failed to converge (status=1):\n",
      "STOP: TOTAL NO. of ITERATIONS REACHED LIMIT.\n",
      "\n",
      "Increase the number of iterations (max_iter) or scale the data as shown in:\n",
      "    https://scikit-learn.org/stable/modules/preprocessing.html\n",
      "  self.n_iter_ = _check_optimize_result(\"lbfgs\", opt_res, self.max_iter)\n"
     ]
    },
    {
     "data": {
      "text/plain": [
       "MLPRegressor(activation='logistic', hidden_layer_sizes=4, solver='lbfgs')"
      ]
     },
     "execution_count": 194,
     "metadata": {},
     "output_type": "execute_result"
    }
   ],
   "source": [
    "from sklearn.neural_network import MLPRegressor\n",
    "\n",
    "nn_model1 = MLPRegressor(hidden_layer_sizes=4, activation='logistic', solver='lbfgs',learning_rate='constant', learning_rate_init=0.001,max_iter=200)\n",
    "nn_model1.fit(scaler.fit_transform(X_train),scaler.fit_transform(y_train))\n",
    "\n",
    "nn_model2 = MLPRegressor(hidden_layer_sizes=4, activation='logistic', solver='lbfgs',learning_rate='constant', learning_rate_init=0.001,max_iter=200)\n",
    "nn_model2.fit(scaler.fit_transform(train_x),scaler.fit_transform(train_y))\n",
    "\n",
    "nn_model3 = MLPRegressor(hidden_layer_sizes=4, activation='logistic', solver='lbfgs',learning_rate='constant', learning_rate_init=0.001,max_iter=200)\n",
    "nn_model3.fit(scaler.fit_transform(training_x),scaler.fit_transform(training_y))\n",
    "\n",
    "nn_model4 = MLPRegressor(hidden_layer_sizes=4, activation='logistic', solver='lbfgs',learning_rate='constant', learning_rate_init=0.001,max_iter=200)\n",
    "nn_model4.fit(scaler.fit_transform(t_x),scaler.fit_transform(t_y))\n",
    "\n",
    "nn_model5 = MLPRegressor(hidden_layer_sizes=4, activation='logistic', solver='lbfgs',learning_rate='constant', learning_rate_init=0.001,max_iter=200)\n",
    "nn_model5.fit(scaler.fit_transform(Xtrain),scaler.fit_transform(ytrain))\n"
   ]
  },
  {
   "cell_type": "code",
   "execution_count": 195,
   "id": "56eb15a4",
   "metadata": {},
   "outputs": [
    {
     "name": "stdout",
     "output_type": "stream",
     "text": [
      "RMSE for Neural Network: 0.7142272698624823\n",
      "RMSE for Neural Network: 1.0408860488642093\n",
      "RMSE for Neural Network: 0.8152545960143818\n",
      "RMSE for Neural Network: 1.2036225210616889\n",
      "RMSE for Neural Network: 1.3508105647193884\n"
     ]
    },
    {
     "name": "stderr",
     "output_type": "stream",
     "text": [
      "/Users/pranithagaddam/anaconda3/lib/python3.9/site-packages/sklearn/base.py:443: UserWarning: X has feature names, but MLPRegressor was fitted without feature names\n",
      "  warnings.warn(\n",
      "/Users/pranithagaddam/anaconda3/lib/python3.9/site-packages/sklearn/base.py:443: UserWarning: X has feature names, but MLPRegressor was fitted without feature names\n",
      "  warnings.warn(\n",
      "/Users/pranithagaddam/anaconda3/lib/python3.9/site-packages/sklearn/base.py:443: UserWarning: X has feature names, but MLPRegressor was fitted without feature names\n",
      "  warnings.warn(\n",
      "/Users/pranithagaddam/anaconda3/lib/python3.9/site-packages/sklearn/base.py:443: UserWarning: X has feature names, but MLPRegressor was fitted without feature names\n",
      "  warnings.warn(\n",
      "/Users/pranithagaddam/anaconda3/lib/python3.9/site-packages/sklearn/base.py:443: UserWarning: X has feature names, but MLPRegressor was fitted without feature names\n",
      "  warnings.warn(\n"
     ]
    }
   ],
   "source": [
    "t=nn_model1.predict(X_test)\n",
    "print(\"RMSE for Neural Network:\",np.sqrt(np.mean((y_test-t.reshape(t.size,))**2)))\n",
    "\n",
    "r=nn_model2.predict(test_x)\n",
    "print(\"RMSE for Neural Network:\",np.sqrt(np.mean((test_y-r.reshape(r.size,))**2)))\n",
    "\n",
    "\n",
    "a=nn_model3.predict(testing_x)\n",
    "print(\"RMSE for Neural Network:\",np.sqrt(np.mean((testing_y-a.reshape(a.size,))**2)))\n",
    "\n",
    "\n",
    "u=nn_model4.predict(te_x)\n",
    "print(\"RMSE for Neural Network:\",np.sqrt(np.mean((te_y-u.reshape(u.size,))**2)))\n",
    "\n",
    "\n",
    "b=nn_model5.predict(Xtest)\n",
    "print(\"RMSE for Neural Network:\",np.sqrt(np.mean((ytest-b.reshape(b.size,))**2)))\n"
   ]
  },
  {
   "cell_type": "code",
   "execution_count": 152,
   "id": "483584f0",
   "metadata": {},
   "outputs": [
    {
     "data": {
      "text/plain": [
       "<matplotlib.collections.PathCollection at 0x7f88d30eeaf0>"
      ]
     },
     "execution_count": 152,
     "metadata": {},
     "output_type": "execute_result"
    },
    {
     "data": {
      "image/png": "[encoded data removed]",
      "text/plain": [
       "<Figure size 432x288 with 1 Axes>"
      ]
     },
     "metadata": {
      "needs_background": "light"
     },
     "output_type": "display_data"
    }
   ],
   "source": [
    "plt.xlabel(\"Actual Area burned\")\n",
    "plt.ylabel(\"Error\")\n",
    "plt.grid(True)\n",
    "plt.scatter(10**(y_test),10**(t.reshape(t.size,))-10**(y_test))"
   ]
  },
  {
   "cell_type": "code",
   "execution_count": 173,
   "id": "138f9334",
   "metadata": {},
   "outputs": [
    {
     "data": {
      "text/plain": [
       "(array([  1.,   0.,   0.,   0.,   0.,   0.,   0.,   0.,   0.,   0.,   0.,\n",
       "          0.,   0.,   0.,   0.,   0.,   0.,   0.,   0.,   0.,   0.,   0.,\n",
       "          0.,   0.,   0.,   0.,   0.,   0.,   0.,   0.,   0.,   0.,   0.,\n",
       "          0.,   0.,   0.,   1.,   0.,   0.,   1.,   0.,   1.,   1.,   0.,\n",
       "          0.,   2.,   1.,   6.,  19., 174.]),\n",
       " array([-1091.71005992, -1069.68041129, -1047.65076267, -1025.62111404,\n",
       "        -1003.59146542,  -981.56181679,  -959.53216816,  -937.50251954,\n",
       "         -915.47287091,  -893.44322229,  -871.41357366,  -849.38392503,\n",
       "         -827.35427641,  -805.32462778,  -783.29497915,  -761.26533053,\n",
       "         -739.2356819 ,  -717.20603328,  -695.17638465,  -673.14673602,\n",
       "         -651.1170874 ,  -629.08743877,  -607.05779015,  -585.02814152,\n",
       "         -562.99849289,  -540.96884427,  -518.93919564,  -496.90954702,\n",
       "         -474.87989839,  -452.85024976,  -430.82060114,  -408.79095251,\n",
       "         -386.76130389,  -364.73165526,  -342.70200663,  -320.67235801,\n",
       "         -298.64270938,  -276.61306075,  -254.58341213,  -232.5537635 ,\n",
       "         -210.52411488,  -188.49446625,  -166.46481762,  -144.435169  ,\n",
       "         -122.40552037,  -100.37587175,   -78.34622312,   -56.31657449,\n",
       "          -34.28692587,   -12.25727724,     9.77237138]),\n",
       " <BarContainer object of 50 artists>)"
      ]
     },
     "execution_count": 173,
     "metadata": {},
     "output_type": "execute_result"
    },
    {
     "data": {
      "image/png": "[encoded data removed]",
      "text/plain": [
       "<Figure size 432x288 with 1 Axes>"
      ]
     },
     "metadata": {
      "needs_background": "light"
     },
     "output_type": "display_data"
    }
   ],
   "source": [
    "plt.title(\"Histogram for prediction errors\\n\",fontsize=18)\n",
    "plt.xlabel(\"Prediction error ($)\",fontsize=15)\n",
    "plt.grid(True)\n",
    "plt.hist(10**(t.reshape(t.size,))-10**(y_test),bins=50)"
   ]
  },
  {
   "cell_type": "code",
   "execution_count": 174,
   "id": "cb491444",
   "metadata": {},
   "outputs": [
    {
     "data": {
      "text/plain": [
       "[<matplotlib.lines.Line2D at 0x7f88b14963d0>]"
      ]
     },
     "execution_count": 174,
     "metadata": {},
     "output_type": "execute_result"
    },
    {
     "data": {
      "image/png": "[encoded data removed]",
      "text/plain": [
       "<Figure size 360x360 with 1 Axes>"
      ]
     },
     "metadata": {
      "needs_background": "light"
     },
     "output_type": "display_data"
    }
   ],
   "source": [
    "recNN=[]\n",
    "for i in range(tol_max):\n",
    "    recNN.append(rec(t,y_test,i))\n",
    "\n",
    "plt.figure(figsize=(5,5))\n",
    "plt.title(\"REC curve for Neural Network\\n\",fontsize=15)\n",
    "plt.xlabel(\"Absolute error (tolerance) in prediction ($)\")\n",
    "plt.ylabel(\"Percentage of accurate prediction\")\n",
    "plt.xticks([i for i in range(0,tol_max+1,5)])\n",
    "plt.ylim(-10,100)\n",
    "plt.yticks([i*20 for i in range(6)])\n",
    "plt.grid(True)\n",
    "plt.plot(range(tol_max),recNN)"
   ]
  },
  {
   "cell_type": "code",
   "execution_count": 175,
   "id": "8efe16fa",
   "metadata": {},
   "outputs": [
    {
     "data": {
      "text/plain": [
       "<matplotlib.legend.Legend at 0x7f88a02e3fd0>"
      ]
     },
     "execution_count": 175,
     "metadata": {},
     "output_type": "execute_result"
    },
    {
     "data": {
      "image/png": "[encoded data removed]",
      "text/plain": [
       "<Figure size 720x576 with 1 Axes>"
      ]
     },
     "metadata": {
      "needs_background": "light"
     },
     "output_type": "display_data"
    }
   ],
   "source": [
    "plt.figure(figsize=(10,8))\n",
    "plt.title(\"REC curve for all models\\n\",fontsize=21)\n",
    "plt.xlabel(\"Absolute error (tolerance) in prediction ($)\",fontsize=15)\n",
    "plt.ylabel(\"Percentage of accurate predictions\",fontsize=15)\n",
    "plt.xticks([i for i in range(0,tol_max+1,1)],fontsize=12)\n",
    "plt.ylim(-10,100)\n",
    "plt.xlim(-2,tol_max)\n",
    "plt.yticks([i*20 for i in range(6)],fontsize=17)\n",
    "plt.grid(True)\n",
    "plt.plot(range(tol_max),recSVR,'--',lw=3)\n",
    "plt.plot(range(tol_max),recRF,'o-',lw=3)\n",
    "plt.plot(range(tol_max),recNN,'k-',lw=3)\n",
    "plt.legend(['Support Vector Regressor','Random Forest','Neural Network'],fontsize=14)"
   ]
  },
  {
   "cell_type": "markdown",
   "id": "f4f84676",
   "metadata": {},
   "source": [
    "# Q-2 Novel ML model on all feature sets -  L2 Regularised linear regression"
   ]
  },
  {
   "cell_type": "code",
   "execution_count": 225,
   "id": "08b5ab06",
   "metadata": {},
   "outputs": [],
   "source": [
    "from sklearn.linear_model import LinearRegression\n",
    "import sklearn\n",
    "from sklearn import linear_model\n",
    "from numpy import mean\n",
    "from numpy import std\n",
    "from numpy import absolute\n",
    "from pandas import read_csv\n",
    "from sklearn.model_selection import cross_val_score\n",
    "from sklearn.model_selection import RepeatedKFold\n",
    "from sklearn.linear_model import Ridge"
   ]
  },
  {
   "cell_type": "code",
   "execution_count": 228,
   "id": "953eef8e",
   "metadata": {},
   "outputs": [
    {
     "name": "stderr",
     "output_type": "stream",
     "text": [
      "/Users/pranithagaddam/anaconda3/lib/python3.9/site-packages/sklearn/linear_model/_base.py:141: FutureWarning: 'normalize' was deprecated in version 1.0 and will be removed in 1.2.\n",
      "If you wish to scale the data, use Pipeline with a StandardScaler in a preprocessing stage. To reproduce the previous behavior:\n",
      "\n",
      "from sklearn.pipeline import make_pipeline\n",
      "\n",
      "model = make_pipeline(StandardScaler(with_mean=False), Ridge())\n",
      "\n",
      "If you wish to pass a sample_weight parameter, you need to pass it as a fit parameter to each step of the pipeline as follows:\n",
      "\n",
      "kwargs = {s[0] + '__sample_weight': sample_weight for s in model.steps}\n",
      "model.fit(X, y, **kwargs)\n",
      "\n",
      "Set parameter alpha to: original_alpha * n_samples. \n",
      "  warnings.warn(\n",
      "/Users/pranithagaddam/anaconda3/lib/python3.9/site-packages/sklearn/linear_model/_base.py:141: FutureWarning: 'normalize' was deprecated in version 1.0 and will be removed in 1.2.\n",
      "If you wish to scale the data, use Pipeline with a StandardScaler in a preprocessing stage. To reproduce the previous behavior:\n",
      "\n",
      "from sklearn.pipeline import make_pipeline\n",
      "\n",
      "model = make_pipeline(StandardScaler(with_mean=False), Ridge())\n",
      "\n",
      "If you wish to pass a sample_weight parameter, you need to pass it as a fit parameter to each step of the pipeline as follows:\n",
      "\n",
      "kwargs = {s[0] + '__sample_weight': sample_weight for s in model.steps}\n",
      "model.fit(X, y, **kwargs)\n",
      "\n",
      "Set parameter alpha to: original_alpha * n_samples. \n",
      "  warnings.warn(\n",
      "/Users/pranithagaddam/anaconda3/lib/python3.9/site-packages/sklearn/linear_model/_base.py:141: FutureWarning: 'normalize' was deprecated in version 1.0 and will be removed in 1.2.\n",
      "If you wish to scale the data, use Pipeline with a StandardScaler in a preprocessing stage. To reproduce the previous behavior:\n",
      "\n",
      "from sklearn.pipeline import make_pipeline\n",
      "\n",
      "model = make_pipeline(StandardScaler(with_mean=False), Ridge())\n",
      "\n",
      "If you wish to pass a sample_weight parameter, you need to pass it as a fit parameter to each step of the pipeline as follows:\n",
      "\n",
      "kwargs = {s[0] + '__sample_weight': sample_weight for s in model.steps}\n",
      "model.fit(X, y, **kwargs)\n",
      "\n",
      "Set parameter alpha to: original_alpha * n_samples. \n",
      "  warnings.warn(\n",
      "/Users/pranithagaddam/anaconda3/lib/python3.9/site-packages/sklearn/linear_model/_base.py:141: FutureWarning: 'normalize' was deprecated in version 1.0 and will be removed in 1.2.\n",
      "If you wish to scale the data, use Pipeline with a StandardScaler in a preprocessing stage. To reproduce the previous behavior:\n",
      "\n",
      "from sklearn.pipeline import make_pipeline\n",
      "\n",
      "model = make_pipeline(StandardScaler(with_mean=False), Ridge())\n",
      "\n",
      "If you wish to pass a sample_weight parameter, you need to pass it as a fit parameter to each step of the pipeline as follows:\n",
      "\n",
      "kwargs = {s[0] + '__sample_weight': sample_weight for s in model.steps}\n",
      "model.fit(X, y, **kwargs)\n",
      "\n",
      "Set parameter alpha to: original_alpha * n_samples. \n",
      "  warnings.warn(\n"
     ]
    },
    {
     "data": {
      "text/plain": [
       "Ridge(normalize=True)"
      ]
     },
     "execution_count": 228,
     "metadata": {},
     "output_type": "execute_result"
    }
   ],
   "source": [
    "#cv = RepeatedKFold(n_splits=10, n_repeats=3, random_state=1)\n",
    "\n",
    "ridgelr1 = Ridge(alpha=1.0)\n",
    "ridgelr1.fit(X_train,y_train)\n",
    "\n",
    "ridgelr2 = Ridge(alpha = 1.0,normalize=True)\n",
    "ridgelr2.fit(train_x,train_y)\n",
    "\n",
    "ridgelr3 = Ridge(alpha = 1.0,normalize=True)\n",
    "ridgelr3.fit(training_x,training_y)\n",
    "\n",
    "ridgelr4 = Ridge(alpha = 1.0,normalize=True)\n",
    "ridgelr4.fit(t_x,t_y)\n",
    "\n",
    "ridgelr5 = Ridge(alpha = 1.0,normalize=True)\n",
    "ridgelr5.fit(Xtrain,ytrain)\n"
   ]
  },
  {
   "cell_type": "code",
   "execution_count": 229,
   "id": "7348ab08",
   "metadata": {},
   "outputs": [
    {
     "data": {
      "text/plain": [
       "array([[0.48630692],\n",
       "       [0.52355251],\n",
       "       [0.46911986],\n",
       "       [0.49535925],\n",
       "       [0.50895545],\n",
       "       [0.46434119],\n",
       "       [0.47926292],\n",
       "       [0.48318654],\n",
       "       [0.48052637],\n",
       "       [0.47053118],\n",
       "       [0.49073063],\n",
       "       [0.4712412 ],\n",
       "       [0.46716054],\n",
       "       [0.48132333],\n",
       "       [0.51655029],\n",
       "       [0.45215383],\n",
       "       [0.46489084],\n",
       "       [0.4875801 ],\n",
       "       [0.49483813],\n",
       "       [0.50517862],\n",
       "       [0.48900311],\n",
       "       [0.49795267],\n",
       "       [0.50471961],\n",
       "       [0.50762559],\n",
       "       [0.5006004 ],\n",
       "       [0.48479391],\n",
       "       [0.46784283],\n",
       "       [0.47382988],\n",
       "       [0.4616442 ],\n",
       "       [0.45813235],\n",
       "       [0.52926676],\n",
       "       [0.49096519],\n",
       "       [0.46418002],\n",
       "       [0.48947876],\n",
       "       [0.49957565],\n",
       "       [0.50310823],\n",
       "       [0.45909614],\n",
       "       [0.49917157],\n",
       "       [0.48564877],\n",
       "       [0.46979248],\n",
       "       [0.48270615],\n",
       "       [0.50762559],\n",
       "       [0.45029525],\n",
       "       [0.47657752],\n",
       "       [0.47732846],\n",
       "       [0.49395095],\n",
       "       [0.45882041],\n",
       "       [0.53058043],\n",
       "       [0.49070684],\n",
       "       [0.49590553],\n",
       "       [0.49719981],\n",
       "       [0.49174876],\n",
       "       [0.49066473],\n",
       "       [0.4711094 ],\n",
       "       [0.5082981 ],\n",
       "       [0.51413491],\n",
       "       [0.44527899],\n",
       "       [0.47552147],\n",
       "       [0.45926259],\n",
       "       [0.47075079],\n",
       "       [0.44895033],\n",
       "       [0.49556889],\n",
       "       [0.49964954],\n",
       "       [0.4889887 ],\n",
       "       [0.47150396],\n",
       "       [0.46633842],\n",
       "       [0.47615809],\n",
       "       [0.46813159],\n",
       "       [0.48932707],\n",
       "       [0.49444113],\n",
       "       [0.48310515],\n",
       "       [0.46319619],\n",
       "       [0.49223725],\n",
       "       [0.45439116],\n",
       "       [0.45186032],\n",
       "       [0.49332465],\n",
       "       [0.5135282 ],\n",
       "       [0.49315484],\n",
       "       [0.49035098],\n",
       "       [0.47677196],\n",
       "       [0.48100411],\n",
       "       [0.4868064 ],\n",
       "       [0.49073063],\n",
       "       [0.47865295],\n",
       "       [0.46076176],\n",
       "       [0.427029  ],\n",
       "       [0.47507929],\n",
       "       [0.47516237],\n",
       "       [0.50344534],\n",
       "       [0.46978498],\n",
       "       [0.49150872],\n",
       "       [0.50746029],\n",
       "       [0.4705988 ],\n",
       "       [0.48637504],\n",
       "       [0.50941793],\n",
       "       [0.47085934],\n",
       "       [0.48319602],\n",
       "       [0.47282616],\n",
       "       [0.48416203],\n",
       "       [0.49494974],\n",
       "       [0.47106874],\n",
       "       [0.56981474],\n",
       "       [0.51136807],\n",
       "       [0.51619088],\n",
       "       [0.48895764],\n",
       "       [0.46114328],\n",
       "       [0.48588131],\n",
       "       [0.48500404],\n",
       "       [0.45377394],\n",
       "       [0.47561422],\n",
       "       [0.48175307],\n",
       "       [0.48413109],\n",
       "       [0.51201609],\n",
       "       [0.46036464],\n",
       "       [0.46726717],\n",
       "       [0.4668743 ],\n",
       "       [0.49497215],\n",
       "       [0.47296733],\n",
       "       [0.49261655],\n",
       "       [0.45696741],\n",
       "       [0.4839325 ],\n",
       "       [0.50520409],\n",
       "       [0.47014053],\n",
       "       [0.51928266],\n",
       "       [0.48686736],\n",
       "       [0.47182718],\n",
       "       [0.47201731],\n",
       "       [0.46460449],\n",
       "       [0.4934913 ],\n",
       "       [0.50344534],\n",
       "       [0.46774006],\n",
       "       [0.49463126],\n",
       "       [0.48565646],\n",
       "       [0.495835  ],\n",
       "       [0.52874343],\n",
       "       [0.49555423],\n",
       "       [0.50074746],\n",
       "       [0.49309896],\n",
       "       [0.48576003],\n",
       "       [0.50649225],\n",
       "       [0.44730673],\n",
       "       [0.49759441],\n",
       "       [0.51294534],\n",
       "       [0.46806298],\n",
       "       [0.48941064],\n",
       "       [0.4517761 ],\n",
       "       [0.48579793],\n",
       "       [0.46117655],\n",
       "       [0.49695473],\n",
       "       [0.50928139],\n",
       "       [0.48942812],\n",
       "       [0.49556889],\n",
       "       [0.49478803],\n",
       "       [0.52278685],\n",
       "       [0.49478551],\n",
       "       [0.47417078],\n",
       "       [0.46776473],\n",
       "       [0.48960256],\n",
       "       [0.50342889],\n",
       "       [0.4925435 ],\n",
       "       [0.46095502],\n",
       "       [0.47144334],\n",
       "       [0.50197271],\n",
       "       [0.49326794],\n",
       "       [0.49274227],\n",
       "       [0.47155934],\n",
       "       [0.48931908],\n",
       "       [0.50106055],\n",
       "       [0.47228209],\n",
       "       [0.4776143 ],\n",
       "       [0.46891941],\n",
       "       [0.49276059],\n",
       "       [0.48893722],\n",
       "       [0.49331108],\n",
       "       [0.50433409],\n",
       "       [0.50023626],\n",
       "       [0.48505479],\n",
       "       [0.50431584],\n",
       "       [0.48829314],\n",
       "       [0.50135051],\n",
       "       [0.45052094],\n",
       "       [0.48195215],\n",
       "       [0.48439197],\n",
       "       [0.47613534],\n",
       "       [0.48711275],\n",
       "       [0.47818332],\n",
       "       [0.51705584],\n",
       "       [0.46685628],\n",
       "       [0.51413491],\n",
       "       [0.48555789],\n",
       "       [0.494636  ],\n",
       "       [0.50598243],\n",
       "       [0.47096073],\n",
       "       [0.50516589],\n",
       "       [0.51755875],\n",
       "       [0.47267719],\n",
       "       [0.48541174],\n",
       "       [0.47740384],\n",
       "       [0.49504574],\n",
       "       [0.49718731],\n",
       "       [0.49450726],\n",
       "       [0.46908467],\n",
       "       [0.49797321],\n",
       "       [0.47530354],\n",
       "       [0.53121232],\n",
       "       [0.48358859],\n",
       "       [0.49930115]])"
      ]
     },
     "execution_count": 229,
     "metadata": {},
     "output_type": "execute_result"
    }
   ],
   "source": [
    "ridge_pred1 = ridgelr1.predict(X_test)\n",
    "ridge_pred1\n",
    "\n",
    "ridge_pred2 = ridgelr2.predict(test_x)\n",
    "ridge_pred2\n",
    "\n",
    "ridge_pred3 = ridgelr3.predict(testing_x)\n",
    "ridge_pred3\n",
    "\n",
    "ridge_pred4 = ridgelr4.predict(te_x)\n",
    "ridge_pred4\n",
    "\n",
    "ridge_pred5 = ridgelr5.predict(Xtest)\n",
    "ridge_pred5"
   ]
  },
  {
   "cell_type": "code",
   "execution_count": 230,
   "id": "65cc4f95",
   "metadata": {},
   "outputs": [
    {
     "data": {
      "text/plain": [
       "array([0.48630692, 0.52355251, 0.46911986, 0.49535925, 0.50895545,\n",
       "       0.46434119, 0.47926292, 0.48318654, 0.48052637, 0.47053118,\n",
       "       0.49073063, 0.4712412 , 0.46716054, 0.48132333, 0.51655029,\n",
       "       0.45215383, 0.46489084, 0.4875801 , 0.49483813, 0.50517862,\n",
       "       0.48900311, 0.49795267, 0.50471961, 0.50762559, 0.5006004 ,\n",
       "       0.48479391, 0.46784283, 0.47382988, 0.4616442 , 0.45813235,\n",
       "       0.52926676, 0.49096519, 0.46418002, 0.48947876, 0.49957565,\n",
       "       0.50310823, 0.45909614, 0.49917157, 0.48564877, 0.46979248,\n",
       "       0.48270615, 0.50762559, 0.45029525, 0.47657752, 0.47732846,\n",
       "       0.49395095, 0.45882041, 0.53058043, 0.49070684, 0.49590553,\n",
       "       0.49719981, 0.49174876, 0.49066473, 0.4711094 , 0.5082981 ,\n",
       "       0.51413491, 0.44527899, 0.47552147, 0.45926259, 0.47075079,\n",
       "       0.44895033, 0.49556889, 0.49964954, 0.4889887 , 0.47150396,\n",
       "       0.46633842, 0.47615809, 0.46813159, 0.48932707, 0.49444113,\n",
       "       0.48310515, 0.46319619, 0.49223725, 0.45439116, 0.45186032,\n",
       "       0.49332465, 0.5135282 , 0.49315484, 0.49035098, 0.47677196,\n",
       "       0.48100411, 0.4868064 , 0.49073063, 0.47865295, 0.46076176,\n",
       "       0.427029  , 0.47507929, 0.47516237, 0.50344534, 0.46978498,\n",
       "       0.49150872, 0.50746029, 0.4705988 , 0.48637504, 0.50941793,\n",
       "       0.47085934, 0.48319602, 0.47282616, 0.48416203, 0.49494974,\n",
       "       0.47106874, 0.56981474, 0.51136807, 0.51619088, 0.48895764,\n",
       "       0.46114328, 0.48588131, 0.48500404, 0.45377394, 0.47561422,\n",
       "       0.48175307, 0.48413109, 0.51201609, 0.46036464, 0.46726717,\n",
       "       0.4668743 , 0.49497215, 0.47296733, 0.49261655, 0.45696741,\n",
       "       0.4839325 , 0.50520409, 0.47014053, 0.51928266, 0.48686736,\n",
       "       0.47182718, 0.47201731, 0.46460449, 0.4934913 , 0.50344534,\n",
       "       0.46774006, 0.49463126, 0.48565646, 0.495835  , 0.52874343,\n",
       "       0.49555423, 0.50074746, 0.49309896, 0.48576003, 0.50649225,\n",
       "       0.44730673, 0.49759441, 0.51294534, 0.46806298, 0.48941064,\n",
       "       0.4517761 , 0.48579793, 0.46117655, 0.49695473, 0.50928139,\n",
       "       0.48942812, 0.49556889, 0.49478803, 0.52278685, 0.49478551,\n",
       "       0.47417078, 0.46776473, 0.48960256, 0.50342889, 0.4925435 ,\n",
       "       0.46095502, 0.47144334, 0.50197271, 0.49326794, 0.49274227,\n",
       "       0.47155934, 0.48931908, 0.50106055, 0.47228209, 0.4776143 ,\n",
       "       0.46891941, 0.49276059, 0.48893722, 0.49331108, 0.50433409,\n",
       "       0.50023626, 0.48505479, 0.50431584, 0.48829314, 0.50135051,\n",
       "       0.45052094, 0.48195215, 0.48439197, 0.47613534, 0.48711275,\n",
       "       0.47818332, 0.51705584, 0.46685628, 0.51413491, 0.48555789,\n",
       "       0.494636  , 0.50598243, 0.47096073, 0.50516589, 0.51755875,\n",
       "       0.47267719, 0.48541174, 0.47740384, 0.49504574, 0.49718731,\n",
       "       0.49450726, 0.46908467, 0.49797321, 0.47530354, 0.53121232,\n",
       "       0.48358859, 0.49930115])"
      ]
     },
     "execution_count": 230,
     "metadata": {},
     "output_type": "execute_result"
    }
   ],
   "source": [
    "#Since ridge_pred is an array - we need to use the ridge_pred.flatten() function to compare the actual versus predicted results. \n",
    "ridge_pred1 = ridge_pred1.flatten()\n",
    "ridge_pred1\n",
    "\n",
    "ridge_pred2 = ridge_pred2.flatten()\n",
    "ridge_pred2\n",
    "\n",
    "ridge_pred3 = ridge_pred3.flatten()\n",
    "ridge_pred3\n",
    "\n",
    "ridge_pred4 = ridge_pred4.flatten()\n",
    "ridge_pred4\n",
    "\n",
    "ridge_pred5 = ridge_pred5.flatten()\n",
    "ridge_pred5"
   ]
  },
  {
   "cell_type": "code",
   "execution_count": 231,
   "id": "3ddc9651",
   "metadata": {},
   "outputs": [
    {
     "name": "stdout",
     "output_type": "stream",
     "text": [
      "RMSE score for Ridge - Naive: 0.6219933017334118\n",
      "RMSE score for Ridge - STFWI: 0.618059442902002\n",
      "RMSE score for Ridge - STM: 0.6172556674286561\n",
      "RMSE score for Ridge - FWI: 0.6157064940988809\n",
      "RMSE score for Ridge - M: 0.6153993420859809\n"
     ]
    }
   ],
   "source": [
    "print(\"RMSE score for Ridge - Naive:\",np.sqrt(np.mean((y_test-ridge_pred1)**2)))\n",
    "print(\"RMSE score for Ridge - STFWI:\",np.sqrt(np.mean((test_y-ridge_pred2)**2)))\n",
    "print(\"RMSE score for Ridge - STM:\",np.sqrt(np.mean((testing_y-ridge_pred3)**2)))\n",
    "print(\"RMSE score for Ridge - FWI:\",np.sqrt(np.mean((te_y-ridge_pred4)**2)))\n",
    "print(\"RMSE score for Ridge - M:\",np.sqrt(np.mean((ytest-ridge_pred5)**2)))"
   ]
  },
  {
   "cell_type": "code",
   "execution_count": 232,
   "id": "fc809139",
   "metadata": {},
   "outputs": [
    {
     "data": {
      "text/plain": [
       "(array([  1.,   0.,   0.,   0.,   0.,   0.,   0.,   0.,   0.,   0.,   0.,\n",
       "          0.,   0.,   0.,   0.,   0.,   0.,   0.,   0.,   0.,   0.,   0.,\n",
       "          0.,   0.,   0.,   0.,   0.,   0.,   0.,   0.,   0.,   0.,   0.,\n",
       "          0.,   0.,   0.,   0.,   1.,   0.,   0.,   1.,   1.,   1.,   0.,\n",
       "          0.,   1.,   1.,   5.,  11., 184.]),\n",
       " array([-1087.64347098, -1065.81393998, -1043.98440898, -1022.15487798,\n",
       "        -1000.32534698,  -978.49581598,  -956.66628498,  -934.83675398,\n",
       "         -913.00722298,  -891.17769198,  -869.34816098,  -847.51862998,\n",
       "         -825.68909898,  -803.85956798,  -782.03003698,  -760.20050598,\n",
       "         -738.37097498,  -716.54144398,  -694.71191298,  -672.88238198,\n",
       "         -651.05285098,  -629.22331998,  -607.39378898,  -585.56425798,\n",
       "         -563.73472698,  -541.90519598,  -520.07566498,  -498.24613398,\n",
       "         -476.41660298,  -454.58707198,  -432.75754098,  -410.92800998,\n",
       "         -389.09847898,  -367.26894798,  -345.43941698,  -323.60988598,\n",
       "         -301.78035498,  -279.95082398,  -258.12129298,  -236.29176198,\n",
       "         -214.46223098,  -192.63269998,  -170.80316898,  -148.97363798,\n",
       "         -127.14410698,  -105.31457598,   -83.48504497,   -61.65551397,\n",
       "          -39.82598297,   -17.99645197,     3.83307903]),\n",
       " <BarContainer object of 50 artists>)"
      ]
     },
     "execution_count": 232,
     "metadata": {},
     "output_type": "execute_result"
    },
    {
     "data": {
      "image/png": "[encoded data removed]",
      "text/plain": [
       "<Figure size 432x288 with 1 Axes>"
      ]
     },
     "metadata": {
      "needs_background": "light"
     },
     "output_type": "display_data"
    }
   ],
   "source": [
    "plt.title(\"Histogram for prediction errors\\n\",fontsize=18)\n",
    "plt.xlabel(\"Prediction error ($)\",fontsize=15)\n",
    "plt.grid(True)\n",
    "plt.hist(10**(ridge_pred1.reshape(ridge_pred1.size,))-10**(y_test),bins=50)"
   ]
  },
  {
   "cell_type": "code",
   "execution_count": 233,
   "id": "8ab39c40",
   "metadata": {},
   "outputs": [
    {
     "data": {
      "text/plain": [
       "[<matplotlib.lines.Line2D at 0x7f8880148850>]"
      ]
     },
     "execution_count": 233,
     "metadata": {},
     "output_type": "execute_result"
    },
    {
     "data": {
      "image/png": "[encoded data removed]",
      "text/plain": [
       "<Figure size 360x360 with 1 Axes>"
      ]
     },
     "metadata": {
      "needs_background": "light"
     },
     "output_type": "display_data"
    }
   ],
   "source": [
    "recRidge=[]\n",
    "for i in range(tol_max):\n",
    "    recRidge.append(rec(ridge_pred1,y_test,i))\n",
    "\n",
    "plt.figure(figsize=(5,5))\n",
    "plt.title(\"REC curve for the Ridge Regression\\n\",fontsize=16)\n",
    "plt.xlabel(\"Absolute error (tolerance) in prediction ($)\")\n",
    "plt.ylabel(\"Percentage of accurate prediction\")\n",
    "plt.xticks([i for i in range(0,tol_max+1,5)])\n",
    "plt.ylim(-10,100)\n",
    "plt.yticks([i*20 for i in range(6)])\n",
    "plt.grid(True)\n",
    "plt.plot(range(tol_max),recRidge)"
   ]
  },
  {
   "cell_type": "code",
   "execution_count": null,
   "id": "fb2d51b0",
   "metadata": {},
   "outputs": [],
   "source": []
  },
  {
   "cell_type": "code",
   "execution_count": null,
   "id": "5297b102",
   "metadata": {},
   "outputs": [],
   "source": []
  }
 ],
 "metadata": {
  "kernelspec": {
   "display_name": "Python 3 (ipykernel)",
   "language": "python",
   "name": "python3"
  },
  "language_info": {
   "codemirror_mode": {
    "name": "ipython",
    "version": 3
   },
   "file_extension": ".py",
   "mimetype": "text/x-python",
   "name": "python",
   "nbconvert_exporter": "python",
   "pygments_lexer": "ipython3",
   "version": "3.11.3"
  }
 },
 "nbformat": 4,
 "nbformat_minor": 5
}
