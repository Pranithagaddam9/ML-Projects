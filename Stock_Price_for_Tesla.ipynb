{
  "cells": [
    {
      "cell_type": "markdown",
      "metadata": {
        "id": "SZwQc8iIYzhL"
      },
      "source": [
        "# MIS780 Advanced AI For Business - Assignment 2 - T2 2022\n",
        "\n",
        "## Example 3:  Recurrent Neural Network - Predicting Stock Prices for Tesla Inc."
      ]
    },
    {
      "cell_type": "markdown",
      "metadata": {
        "id": "LocH583hYzhR"
      },
      "source": [
        "**Student Name:** Pranitha Gaddam\n",
        "\n",
        "**Student ID:** 221183244"
      ]
    },
    {
      "cell_type": "markdown",
      "metadata": {
        "id": "QoBihZe6_Acd"
      },
      "source": [
        "## Table of Content\n",
        "   \n",
        "1. [Data Description](#cell_Preparation)\n",
        "\n",
        "2. [Data Preprocessing](#cell_Preprocessing)\n",
        "\n",
        "3. [Model Construction](#cell_model)\n",
        "\n",
        "4. [Model Execution](#cell_execution)\n",
        " \n",
        "5. [Experiments Report](#cell_report)\n",
        "\n"
      ]
    },
    {
      "cell_type": "markdown",
      "metadata": {
        "id": "rzo8kho_wzib"
      },
      "source": [
        "## Executive Summary"
      ]
    },
    {
      "cell_type": "markdown",
      "metadata": {
        "id": "_D-HpoG7w1YP"
      },
      "source": [
        "In this notebook,we will deal with predicting the stock price for the company\n",
        "Tesla Inc. Since, the future is unpredictable, no matter how good our analysis is, \n",
        "it is only as good as the information that is available right now. We cannot know for certain what will happen tomorrow, and we cannot predict all the contingencies. Moreover, stock prices are highly dynamic and have non-linear relationships and are dependent on many factors at the same time. However, AI in the stock market can help perform technical, fundamental analysis and recognize patterns better than humans. Which is why ,the purpose of this notebook is to analyse the capability of a neural network to solve this problem efficiently. Recurrent neural network has showcased a reasonable predictive capability of addressing these complex time series issues.The selected dataset has been acquired from Yahoo Finance from 2010-08-02 until 2022-09-02.In this instance, I have used the Date, Closing price, Adjusted Closing Price,High,Low prices and Volume of the stock that determine the Open price. I have implemented a multivariate model based on RNN architecture which applies a feedforward neural network to process sequences of inputs.The method applied is LSTM (Long short-term memory) as it is appropriate to classify, process and predict time series given time lags of unknown duration. It trains the model by using back-propagation in order to find the temporal dependencies and help in forecasting stock values for Tesla Inc. It is proven that deep learning algorithms have the ability to identify existing patterns and exploiting them by using a soft learning process.Additionally, multivariate prediction models are more efficient and faster to train and deploy in a business environment.For instance,Goldman Sachs, a renowned bank in USA, led a $72.5 million funding round to integrate AI models in its equities trading business so as to benefit from the stock market. \n",
        "I have proposed a 3-level methodology for conducting analysis. First, it involves data pre-processing in order to make the data multidimensional and suitable for RNN architecture. Next, we split the data into train and test sets to perform modelling on the training data. Finally, we make predictions using the models trained in the previous step on test data to analysze various error matrices. "
      ]
    },
    {
      "cell_type": "markdown",
      "metadata": {
        "id": "ufoVVdqtYzhU"
      },
      "source": [
        "<a id = \"cell_Preparation\"></a>\n",
        "## 1. Data Description"
      ]
    },
    {
      "cell_type": "markdown",
      "metadata": {
        "id": "njDKx1_JYzhU"
      },
      "source": [
        "The selected dataset has been retrieved from Yahoo Finance for RNN prediction dated from 2010-08-02 to 2022-09-02 (12 year historical prices). It has five variables which are High, Low, Close, Adjusted Close and Volume of the shares traded to predict the Open price. \n",
        "Open : The price of the stock when the market opens in the morning\n",
        "Close : The price of the stock when the market closes in the evening\n",
        "High : Highest price of the stock in the day \n",
        "Low : Lowest price of the stock traded during the day \n",
        "Adjusted Close : Stock's closing price amended after certain corporate actions\n",
        "Volume : Total unit of stocks traded during a particular day\n",
        "\n",
        "\n",
        "1.   Open : The price of the stock when the market opens in the morning\n",
        "2.   Close : The price of the stock when the market closes in the evening\n",
        "3.   High : Highest price of the stock in the day \n",
        "4.   Low : Lowest price of the stock traded during the day\n",
        "5.   Adjusted Close : Stock's closing price amended after certain corporate actions\n",
        "6.   Volume : Total unit of stocks traded during a particular day\n",
        "\n",
        "\n",
        "Open, High, Low, Close and Adjusted Close columns have float values, whereas Volume is an integer and Date is an object. The shape of the data is 3425 rows and 7 columns. This data would be used for further preprocessing by using various seaborn packages and matplotlib packages in order to visualise the relationships between the variables. Furthermore, there are no missing values in the dataset. "
      ]
    },
    {
      "cell_type": "code",
      "source": [
        "#mount drive to import the dataset\n",
        "from google.colab import drive\n",
        "drive.mount('/content/drive')"
      ],
      "metadata": {
        "colab": {
          "base_uri": "https://localhost:8080/"
        },
        "id": "mx1BNsf19LfA",
        "outputId": "85ca1e6d-5f79-4702-d557-d1bdc5f9b8ed"
      },
      "execution_count": null,
      "outputs": [
        {
          "output_type": "stream",
          "name": "stdout",
          "text": [
            "Drive already mounted at /content/drive; to attempt to forcibly remount, call drive.mount(\"/content/drive\", force_remount=True).\n"
          ]
        }
      ]
    },
    {
      "cell_type": "code",
      "source": [
        "#import the necessary packages\n",
        "import numpy as np \n",
        "from keras.models import Sequential \n",
        "from keras.layers import LSTM \n",
        "from keras.layers import Dense, Dropout \n",
        "import pandas as pd\n",
        "from matplotlib import pyplot as plt \n",
        "from sklearn.preprocessing import StandardScaler \n",
        "import seaborn as sns\n",
        "from datetime import datetime"
      ],
      "metadata": {
        "id": "AfBwAUP09LiF"
      },
      "execution_count": null,
      "outputs": []
    },
    {
      "cell_type": "code",
      "source": [
        "Tesla = pd.read_csv('/content/drive/MyDrive/MIS780/TSLA-2.csv')"
      ],
      "metadata": {
        "id": "vAdHzJg-9cgd"
      },
      "execution_count": null,
      "outputs": []
    },
    {
      "cell_type": "code",
      "source": [
        "Tesla.head(10)"
      ],
      "metadata": {
        "colab": {
          "base_uri": "https://localhost:8080/",
          "height": 362
        },
        "id": "XVKIcb6u9cjV",
        "outputId": "3eb8db80-ec2a-41e5-b77d-f65bd9e3d242"
      },
      "execution_count": null,
      "outputs": [
        {
          "output_type": "execute_result",
          "data": {
            "text/plain": [
              "         Date      Open      High       Low     Close  Adj Close    Volume\n",
              "0  2010-08-02  1.366667  1.398000  1.355333  1.394667   1.394667  10771500\n",
              "1  2010-08-03  1.400000  1.463333  1.388000  1.463333   1.463333  18457500\n",
              "2  2010-08-04  1.463333  1.478667  1.390000  1.417333   1.417333  13695000\n",
              "3  2010-08-05  1.436000  1.436667  1.336667  1.363333   1.363333  11943000\n",
              "4  2010-08-06  1.340000  1.344000  1.301333  1.306000   1.306000  11128500\n",
              "5  2010-08-09  1.326667  1.332000  1.296667  1.306667   1.306667  12190500\n",
              "6  2010-08-10  1.310000  1.310000  1.254667  1.268667   1.268667  19219500\n",
              "7  2010-08-11  1.246000  1.258667  1.190000  1.193333   1.193333  11964000\n",
              "8  2010-08-12  1.186667  1.193333  1.159333  1.173333   1.173333  10365000\n",
              "9  2010-08-13  1.212000  1.230000  1.177333  1.221333   1.221333   9510000"
            ],
            "text/html": [
              "\n",
              "  <div id=\"df-0163e4ee-8a7c-4931-90a2-d837e57d6578\">\n",
              "    <div class=\"colab-df-container\">\n",
              "      <div>\n",
              "<style scoped>\n",
              "    .dataframe tbody tr th:only-of-type {\n",
              "        vertical-align: middle;\n",
              "    }\n",
              "\n",
              "    .dataframe tbody tr th {\n",
              "        vertical-align: top;\n",
              "    }\n",
              "\n",
              "    .dataframe thead th {\n",
              "        text-align: right;\n",
              "    }\n",
              "</style>\n",
              "<table border=\"1\" class=\"dataframe\">\n",
              "  <thead>\n",
              "    <tr style=\"text-align: right;\">\n",
              "      <th></th>\n",
              "      <th>Date</th>\n",
              "      <th>Open</th>\n",
              "      <th>High</th>\n",
              "      <th>Low</th>\n",
              "      <th>Close</th>\n",
              "      <th>Adj Close</th>\n",
              "      <th>Volume</th>\n",
              "    </tr>\n",
              "  </thead>\n",
              "  <tbody>\n",
              "    <tr>\n",
              "      <th>0</th>\n",
              "      <td>2010-08-02</td>\n",
              "      <td>1.366667</td>\n",
              "      <td>1.398000</td>\n",
              "      <td>1.355333</td>\n",
              "      <td>1.394667</td>\n",
              "      <td>1.394667</td>\n",
              "      <td>10771500</td>\n",
              "    </tr>\n",
              "    <tr>\n",
              "      <th>1</th>\n",
              "      <td>2010-08-03</td>\n",
              "      <td>1.400000</td>\n",
              "      <td>1.463333</td>\n",
              "      <td>1.388000</td>\n",
              "      <td>1.463333</td>\n",
              "      <td>1.463333</td>\n",
              "      <td>18457500</td>\n",
              "    </tr>\n",
              "    <tr>\n",
              "      <th>2</th>\n",
              "      <td>2010-08-04</td>\n",
              "      <td>1.463333</td>\n",
              "      <td>1.478667</td>\n",
              "      <td>1.390000</td>\n",
              "      <td>1.417333</td>\n",
              "      <td>1.417333</td>\n",
              "      <td>13695000</td>\n",
              "    </tr>\n",
              "    <tr>\n",
              "      <th>3</th>\n",
              "      <td>2010-08-05</td>\n",
              "      <td>1.436000</td>\n",
              "      <td>1.436667</td>\n",
              "      <td>1.336667</td>\n",
              "      <td>1.363333</td>\n",
              "      <td>1.363333</td>\n",
              "      <td>11943000</td>\n",
              "    </tr>\n",
              "    <tr>\n",
              "      <th>4</th>\n",
              "      <td>2010-08-06</td>\n",
              "      <td>1.340000</td>\n",
              "      <td>1.344000</td>\n",
              "      <td>1.301333</td>\n",
              "      <td>1.306000</td>\n",
              "      <td>1.306000</td>\n",
              "      <td>11128500</td>\n",
              "    </tr>\n",
              "    <tr>\n",
              "      <th>5</th>\n",
              "      <td>2010-08-09</td>\n",
              "      <td>1.326667</td>\n",
              "      <td>1.332000</td>\n",
              "      <td>1.296667</td>\n",
              "      <td>1.306667</td>\n",
              "      <td>1.306667</td>\n",
              "      <td>12190500</td>\n",
              "    </tr>\n",
              "    <tr>\n",
              "      <th>6</th>\n",
              "      <td>2010-08-10</td>\n",
              "      <td>1.310000</td>\n",
              "      <td>1.310000</td>\n",
              "      <td>1.254667</td>\n",
              "      <td>1.268667</td>\n",
              "      <td>1.268667</td>\n",
              "      <td>19219500</td>\n",
              "    </tr>\n",
              "    <tr>\n",
              "      <th>7</th>\n",
              "      <td>2010-08-11</td>\n",
              "      <td>1.246000</td>\n",
              "      <td>1.258667</td>\n",
              "      <td>1.190000</td>\n",
              "      <td>1.193333</td>\n",
              "      <td>1.193333</td>\n",
              "      <td>11964000</td>\n",
              "    </tr>\n",
              "    <tr>\n",
              "      <th>8</th>\n",
              "      <td>2010-08-12</td>\n",
              "      <td>1.186667</td>\n",
              "      <td>1.193333</td>\n",
              "      <td>1.159333</td>\n",
              "      <td>1.173333</td>\n",
              "      <td>1.173333</td>\n",
              "      <td>10365000</td>\n",
              "    </tr>\n",
              "    <tr>\n",
              "      <th>9</th>\n",
              "      <td>2010-08-13</td>\n",
              "      <td>1.212000</td>\n",
              "      <td>1.230000</td>\n",
              "      <td>1.177333</td>\n",
              "      <td>1.221333</td>\n",
              "      <td>1.221333</td>\n",
              "      <td>9510000</td>\n",
              "    </tr>\n",
              "  </tbody>\n",
              "</table>\n",
              "</div>\n",
              "      <button class=\"colab-df-convert\" onclick=\"convertToInteractive('df-0163e4ee-8a7c-4931-90a2-d837e57d6578')\"\n",
              "              title=\"Convert this dataframe to an interactive table.\"\n",
              "              style=\"display:none;\">\n",
              "        \n",
              "  <svg xmlns=\"http://www.w3.org/2000/svg\" height=\"24px\"viewBox=\"0 0 24 24\"\n",
              "       width=\"24px\">\n",
              "    <path d=\"M0 0h24v24H0V0z\" fill=\"none\"/>\n",
              "    <path d=\"M18.56 5.44l.94 2.06.94-2.06 2.06-.94-2.06-.94-.94-2.06-.94 2.06-2.06.94zm-11 1L8.5 8.5l.94-2.06 2.06-.94-2.06-.94L8.5 2.5l-.94 2.06-2.06.94zm10 10l.94 2.06.94-2.06 2.06-.94-2.06-.94-.94-2.06-.94 2.06-2.06.94z\"/><path d=\"M17.41 7.96l-1.37-1.37c-.4-.4-.92-.59-1.43-.59-.52 0-1.04.2-1.43.59L10.3 9.45l-7.72 7.72c-.78.78-.78 2.05 0 2.83L4 21.41c.39.39.9.59 1.41.59.51 0 1.02-.2 1.41-.59l7.78-7.78 2.81-2.81c.8-.78.8-2.07 0-2.86zM5.41 20L4 18.59l7.72-7.72 1.47 1.35L5.41 20z\"/>\n",
              "  </svg>\n",
              "      </button>\n",
              "      \n",
              "  <style>\n",
              "    .colab-df-container {\n",
              "      display:flex;\n",
              "      flex-wrap:wrap;\n",
              "      gap: 12px;\n",
              "    }\n",
              "\n",
              "    .colab-df-convert {\n",
              "      background-color: #E8F0FE;\n",
              "      border: none;\n",
              "      border-radius: 50%;\n",
              "      cursor: pointer;\n",
              "      display: none;\n",
              "      fill: #1967D2;\n",
              "      height: 32px;\n",
              "      padding: 0 0 0 0;\n",
              "      width: 32px;\n",
              "    }\n",
              "\n",
              "    .colab-df-convert:hover {\n",
              "      background-color: #E2EBFA;\n",
              "      box-shadow: 0px 1px 2px rgba(60, 64, 67, 0.3), 0px 1px 3px 1px rgba(60, 64, 67, 0.15);\n",
              "      fill: #174EA6;\n",
              "    }\n",
              "\n",
              "    [theme=dark] .colab-df-convert {\n",
              "      background-color: #3B4455;\n",
              "      fill: #D2E3FC;\n",
              "    }\n",
              "\n",
              "    [theme=dark] .colab-df-convert:hover {\n",
              "      background-color: #434B5C;\n",
              "      box-shadow: 0px 1px 3px 1px rgba(0, 0, 0, 0.15);\n",
              "      filter: drop-shadow(0px 1px 2px rgba(0, 0, 0, 0.3));\n",
              "      fill: #FFFFFF;\n",
              "    }\n",
              "  </style>\n",
              "\n",
              "      <script>\n",
              "        const buttonEl =\n",
              "          document.querySelector('#df-0163e4ee-8a7c-4931-90a2-d837e57d6578 button.colab-df-convert');\n",
              "        buttonEl.style.display =\n",
              "          google.colab.kernel.accessAllowed ? 'block' : 'none';\n",
              "\n",
              "        async function convertToInteractive(key) {\n",
              "          const element = document.querySelector('#df-0163e4ee-8a7c-4931-90a2-d837e57d6578');\n",
              "          const dataTable =\n",
              "            await google.colab.kernel.invokeFunction('convertToInteractive',\n",
              "                                                     [key], {});\n",
              "          if (!dataTable) return;\n",
              "\n",
              "          const docLinkHtml = 'Like what you see? Visit the ' +\n",
              "            '<a target=\"_blank\" href=https://colab.research.google.com/notebooks/data_table.ipynb>data table notebook</a>'\n",
              "            + ' to learn more about interactive tables.';\n",
              "          element.innerHTML = '';\n",
              "          dataTable['output_type'] = 'display_data';\n",
              "          await google.colab.output.renderOutput(dataTable, element);\n",
              "          const docLink = document.createElement('div');\n",
              "          docLink.innerHTML = docLinkHtml;\n",
              "          element.appendChild(docLink);\n",
              "        }\n",
              "      </script>\n",
              "    </div>\n",
              "  </div>\n",
              "  "
            ]
          },
          "metadata": {},
          "execution_count": 29
        }
      ]
    },
    {
      "cell_type": "code",
      "source": [
        "Tesla.info()"
      ],
      "metadata": {
        "colab": {
          "base_uri": "https://localhost:8080/"
        },
        "id": "V6rg3AsgMn5M",
        "outputId": "082be367-780d-44a0-8c9e-b29dc535fa8f"
      },
      "execution_count": null,
      "outputs": [
        {
          "output_type": "stream",
          "name": "stdout",
          "text": [
            "<class 'pandas.core.frame.DataFrame'>\n",
            "RangeIndex: 3045 entries, 0 to 3044\n",
            "Data columns (total 7 columns):\n",
            " #   Column     Non-Null Count  Dtype  \n",
            "---  ------     --------------  -----  \n",
            " 0   Date       3045 non-null   object \n",
            " 1   Open       3045 non-null   float64\n",
            " 2   High       3045 non-null   float64\n",
            " 3   Low        3045 non-null   float64\n",
            " 4   Close      3045 non-null   float64\n",
            " 5   Adj Close  3045 non-null   float64\n",
            " 6   Volume     3045 non-null   int64  \n",
            "dtypes: float64(5), int64(1), object(1)\n",
            "memory usage: 166.6+ KB\n"
          ]
        }
      ]
    },
    {
      "cell_type": "code",
      "source": [
        "Tesla.describe()"
      ],
      "metadata": {
        "colab": {
          "base_uri": "https://localhost:8080/",
          "height": 300
        },
        "id": "a7dPhnoouW_A",
        "outputId": "ea6ab79f-dce7-45cb-fdc8-f0fba8844145"
      },
      "execution_count": null,
      "outputs": [
        {
          "output_type": "execute_result",
          "data": {
            "text/plain": [
              "              Open         High          Low        Close    Adj Close  \\\n",
              "count  3045.000000  3045.000000  3045.000000  3045.000000  3045.000000   \n",
              "mean     55.121257    56.355361    53.773551    55.096358    55.096358   \n",
              "std      93.322476    95.474544    90.896401    93.212331    93.212331   \n",
              "min       1.186667     1.193333     1.159333     1.173333     1.173333   \n",
              "25%       8.838000     8.998000     8.465333     8.660000     8.660000   \n",
              "50%      16.022667    16.265333    15.712667    16.041332    16.041332   \n",
              "75%      23.570000    23.899332    23.213333    23.518000    23.518000   \n",
              "max     411.470001   414.496674   405.666656   409.970001   409.970001   \n",
              "\n",
              "             Volume  \n",
              "count  3.045000e+03  \n",
              "mean   9.378067e+07  \n",
              "std    8.256072e+07  \n",
              "min    1.777500e+06  \n",
              "25%    4.177020e+07  \n",
              "50%    7.578150e+07  \n",
              "75%    1.176747e+08  \n",
              "max    9.140820e+08  "
            ],
            "text/html": [
              "\n",
              "  <div id=\"df-e7eefeb6-92ca-4002-a920-2b79f28fe59b\">\n",
              "    <div class=\"colab-df-container\">\n",
              "      <div>\n",
              "<style scoped>\n",
              "    .dataframe tbody tr th:only-of-type {\n",
              "        vertical-align: middle;\n",
              "    }\n",
              "\n",
              "    .dataframe tbody tr th {\n",
              "        vertical-align: top;\n",
              "    }\n",
              "\n",
              "    .dataframe thead th {\n",
              "        text-align: right;\n",
              "    }\n",
              "</style>\n",
              "<table border=\"1\" class=\"dataframe\">\n",
              "  <thead>\n",
              "    <tr style=\"text-align: right;\">\n",
              "      <th></th>\n",
              "      <th>Open</th>\n",
              "      <th>High</th>\n",
              "      <th>Low</th>\n",
              "      <th>Close</th>\n",
              "      <th>Adj Close</th>\n",
              "      <th>Volume</th>\n",
              "    </tr>\n",
              "  </thead>\n",
              "  <tbody>\n",
              "    <tr>\n",
              "      <th>count</th>\n",
              "      <td>3045.000000</td>\n",
              "      <td>3045.000000</td>\n",
              "      <td>3045.000000</td>\n",
              "      <td>3045.000000</td>\n",
              "      <td>3045.000000</td>\n",
              "      <td>3.045000e+03</td>\n",
              "    </tr>\n",
              "    <tr>\n",
              "      <th>mean</th>\n",
              "      <td>55.121257</td>\n",
              "      <td>56.355361</td>\n",
              "      <td>53.773551</td>\n",
              "      <td>55.096358</td>\n",
              "      <td>55.096358</td>\n",
              "      <td>9.378067e+07</td>\n",
              "    </tr>\n",
              "    <tr>\n",
              "      <th>std</th>\n",
              "      <td>93.322476</td>\n",
              "      <td>95.474544</td>\n",
              "      <td>90.896401</td>\n",
              "      <td>93.212331</td>\n",
              "      <td>93.212331</td>\n",
              "      <td>8.256072e+07</td>\n",
              "    </tr>\n",
              "    <tr>\n",
              "      <th>min</th>\n",
              "      <td>1.186667</td>\n",
              "      <td>1.193333</td>\n",
              "      <td>1.159333</td>\n",
              "      <td>1.173333</td>\n",
              "      <td>1.173333</td>\n",
              "      <td>1.777500e+06</td>\n",
              "    </tr>\n",
              "    <tr>\n",
              "      <th>25%</th>\n",
              "      <td>8.838000</td>\n",
              "      <td>8.998000</td>\n",
              "      <td>8.465333</td>\n",
              "      <td>8.660000</td>\n",
              "      <td>8.660000</td>\n",
              "      <td>4.177020e+07</td>\n",
              "    </tr>\n",
              "    <tr>\n",
              "      <th>50%</th>\n",
              "      <td>16.022667</td>\n",
              "      <td>16.265333</td>\n",
              "      <td>15.712667</td>\n",
              "      <td>16.041332</td>\n",
              "      <td>16.041332</td>\n",
              "      <td>7.578150e+07</td>\n",
              "    </tr>\n",
              "    <tr>\n",
              "      <th>75%</th>\n",
              "      <td>23.570000</td>\n",
              "      <td>23.899332</td>\n",
              "      <td>23.213333</td>\n",
              "      <td>23.518000</td>\n",
              "      <td>23.518000</td>\n",
              "      <td>1.176747e+08</td>\n",
              "    </tr>\n",
              "    <tr>\n",
              "      <th>max</th>\n",
              "      <td>411.470001</td>\n",
              "      <td>414.496674</td>\n",
              "      <td>405.666656</td>\n",
              "      <td>409.970001</td>\n",
              "      <td>409.970001</td>\n",
              "      <td>9.140820e+08</td>\n",
              "    </tr>\n",
              "  </tbody>\n",
              "</table>\n",
              "</div>\n",
              "      <button class=\"colab-df-convert\" onclick=\"convertToInteractive('df-e7eefeb6-92ca-4002-a920-2b79f28fe59b')\"\n",
              "              title=\"Convert this dataframe to an interactive table.\"\n",
              "              style=\"display:none;\">\n",
              "        \n",
              "  <svg xmlns=\"http://www.w3.org/2000/svg\" height=\"24px\"viewBox=\"0 0 24 24\"\n",
              "       width=\"24px\">\n",
              "    <path d=\"M0 0h24v24H0V0z\" fill=\"none\"/>\n",
              "    <path d=\"M18.56 5.44l.94 2.06.94-2.06 2.06-.94-2.06-.94-.94-2.06-.94 2.06-2.06.94zm-11 1L8.5 8.5l.94-2.06 2.06-.94-2.06-.94L8.5 2.5l-.94 2.06-2.06.94zm10 10l.94 2.06.94-2.06 2.06-.94-2.06-.94-.94-2.06-.94 2.06-2.06.94z\"/><path d=\"M17.41 7.96l-1.37-1.37c-.4-.4-.92-.59-1.43-.59-.52 0-1.04.2-1.43.59L10.3 9.45l-7.72 7.72c-.78.78-.78 2.05 0 2.83L4 21.41c.39.39.9.59 1.41.59.51 0 1.02-.2 1.41-.59l7.78-7.78 2.81-2.81c.8-.78.8-2.07 0-2.86zM5.41 20L4 18.59l7.72-7.72 1.47 1.35L5.41 20z\"/>\n",
              "  </svg>\n",
              "      </button>\n",
              "      \n",
              "  <style>\n",
              "    .colab-df-container {\n",
              "      display:flex;\n",
              "      flex-wrap:wrap;\n",
              "      gap: 12px;\n",
              "    }\n",
              "\n",
              "    .colab-df-convert {\n",
              "      background-color: #E8F0FE;\n",
              "      border: none;\n",
              "      border-radius: 50%;\n",
              "      cursor: pointer;\n",
              "      display: none;\n",
              "      fill: #1967D2;\n",
              "      height: 32px;\n",
              "      padding: 0 0 0 0;\n",
              "      width: 32px;\n",
              "    }\n",
              "\n",
              "    .colab-df-convert:hover {\n",
              "      background-color: #E2EBFA;\n",
              "      box-shadow: 0px 1px 2px rgba(60, 64, 67, 0.3), 0px 1px 3px 1px rgba(60, 64, 67, 0.15);\n",
              "      fill: #174EA6;\n",
              "    }\n",
              "\n",
              "    [theme=dark] .colab-df-convert {\n",
              "      background-color: #3B4455;\n",
              "      fill: #D2E3FC;\n",
              "    }\n",
              "\n",
              "    [theme=dark] .colab-df-convert:hover {\n",
              "      background-color: #434B5C;\n",
              "      box-shadow: 0px 1px 3px 1px rgba(0, 0, 0, 0.15);\n",
              "      filter: drop-shadow(0px 1px 2px rgba(0, 0, 0, 0.3));\n",
              "      fill: #FFFFFF;\n",
              "    }\n",
              "  </style>\n",
              "\n",
              "      <script>\n",
              "        const buttonEl =\n",
              "          document.querySelector('#df-e7eefeb6-92ca-4002-a920-2b79f28fe59b button.colab-df-convert');\n",
              "        buttonEl.style.display =\n",
              "          google.colab.kernel.accessAllowed ? 'block' : 'none';\n",
              "\n",
              "        async function convertToInteractive(key) {\n",
              "          const element = document.querySelector('#df-e7eefeb6-92ca-4002-a920-2b79f28fe59b');\n",
              "          const dataTable =\n",
              "            await google.colab.kernel.invokeFunction('convertToInteractive',\n",
              "                                                     [key], {});\n",
              "          if (!dataTable) return;\n",
              "\n",
              "          const docLinkHtml = 'Like what you see? Visit the ' +\n",
              "            '<a target=\"_blank\" href=https://colab.research.google.com/notebooks/data_table.ipynb>data table notebook</a>'\n",
              "            + ' to learn more about interactive tables.';\n",
              "          element.innerHTML = '';\n",
              "          dataTable['output_type'] = 'display_data';\n",
              "          await google.colab.output.renderOutput(dataTable, element);\n",
              "          const docLink = document.createElement('div');\n",
              "          docLink.innerHTML = docLinkHtml;\n",
              "          element.appendChild(docLink);\n",
              "        }\n",
              "      </script>\n",
              "    </div>\n",
              "  </div>\n",
              "  "
            ]
          },
          "metadata": {},
          "execution_count": 31
        }
      ]
    },
    {
      "cell_type": "code",
      "source": [
        "Tesla.shape"
      ],
      "metadata": {
        "colab": {
          "base_uri": "https://localhost:8080/"
        },
        "id": "RgepKO6SHKrt",
        "outputId": "687b2d39-45ac-4333-f1fd-050bd457c9e3"
      },
      "execution_count": null,
      "outputs": [
        {
          "output_type": "execute_result",
          "data": {
            "text/plain": [
              "(3045, 7)"
            ]
          },
          "metadata": {},
          "execution_count": 32
        }
      ]
    },
    {
      "cell_type": "code",
      "source": [
        "Tesla.isnull().sum()"
      ],
      "metadata": {
        "colab": {
          "base_uri": "https://localhost:8080/"
        },
        "id": "OURntIjaHZqU",
        "outputId": "e676805a-4261-4ad3-c52f-0d8266f28bfb"
      },
      "execution_count": null,
      "outputs": [
        {
          "output_type": "execute_result",
          "data": {
            "text/plain": [
              "Date         0\n",
              "Open         0\n",
              "High         0\n",
              "Low          0\n",
              "Close        0\n",
              "Adj Close    0\n",
              "Volume       0\n",
              "dtype: int64"
            ]
          },
          "metadata": {},
          "execution_count": 33
        }
      ]
    },
    {
      "cell_type": "markdown",
      "metadata": {
        "id": "nqPl5gh_YzhX"
      },
      "source": [
        "<a id = \"cell_Preprocessing\"></a>\n",
        "## 2. Data Preprocessing\n",
        "\n"
      ]
    },
    {
      "cell_type": "markdown",
      "source": [
        "Data preprocessing involves creating visualisations between the variables to detect patterns occuring over a period of time. Moreover, it is crucial to also standardise the data to make it fit for training inside the RNN architecture. "
      ],
      "metadata": {
        "id": "UIsX2KzgHhcQ"
      }
    },
    {
      "cell_type": "code",
      "source": [
        "data = Tesla.loc[:,[\"High\", \"Low\", \"Close\", \"Adj Close\"]].copy()"
      ],
      "metadata": {
        "id": "sau3gaMoF8li"
      },
      "execution_count": null,
      "outputs": []
    },
    {
      "cell_type": "markdown",
      "source": [
        "We use seaborn package to visualise the features that are going to predict the Open price. The package used is matplotlib.pyplot and the style use is seaborn."
      ],
      "metadata": {
        "id": "Mh_qvHDmfTE4"
      }
    },
    {
      "cell_type": "code",
      "source": [
        "data.plot(figsize=(25,8), fontsize = 18)\n",
        "plt.xlabel(\"Date\", fontsize = 20)\n",
        "plt.legend(fontsize = 20)\n",
        "plt.style.use(\"seaborn\")\n",
        "plt.show()"
      ],
      "metadata": {
        "colab": {
          "base_uri": "https://localhost:8080/",
          "height": 513
        },
        "id": "uTef8_vtHfjd",
        "outputId": "b634fa25-2efe-4ec1-fd21-ed6c76fa3916"
      },
      "execution_count": null,
      "outputs": [
        {
          "output_type": "display_data",
          "data": {
            "text/plain": [
              "<Figure size 1800x576 with 1 Axes>"
            ],
            "image/png": "[encoded data removed]"
          },
          "metadata": {
            "needs_background": "light"
          }
        }
      ]
    },
    {
      "cell_type": "markdown",
      "source": [
        "Trend Analysis : It is evident that the years leading upto the recent years, there has been a growth in the market valuation of the Tesla shares, the price ranging between  $1.3 and  1.39. It is more likely because the advent of AI in automotive industries that has influenced the company to proliferate and compound its revenue over time.Additionally, it could be due to management's decisions (Elon Musk and his executive team's decisions) that impacts the overall company standing. Moreover, we can see a lot of fluctuations in the trend due to the Covid period where market sales crashed in 2020 and 2021. The stock is seen to have significantly dropped, however, due to a quick overturn of events and a positive outlook as mentioned in the Tesla company financial reports, the stock price rose up again. The plot fails to convert the x-axis of Date to Datetime period, although, in further calculation the date will be split for plotting purposes."
      ],
      "metadata": {
        "id": "b1OnI2dLKlXP"
      }
    },
    {
      "cell_type": "code",
      "source": [
        "Vol = Tesla.loc[:,\"Volume\"].copy()"
      ],
      "metadata": {
        "id": "scEF20IOHgnZ"
      },
      "execution_count": null,
      "outputs": []
    },
    {
      "cell_type": "code",
      "execution_count": null,
      "metadata": {
        "id": "XEIvx87g2M-W",
        "colab": {
          "base_uri": "https://localhost:8080/",
          "height": 524
        },
        "outputId": "52cee7a7-fd1e-41d4-baab-ca2c605a3571"
      },
      "outputs": [
        {
          "output_type": "display_data",
          "data": {
            "text/plain": [
              "<Figure size 1800x576 with 1 Axes>"
            ],
            "image/png": "[encoded data removed]"
          },
          "metadata": {}
        }
      ],
      "source": [
        "Vol.plot(figsize=(25,8), fontsize = 18)\n",
        "plt.xlabel(\"Date\", fontsize = 20)\n",
        "plt.legend(fontsize = 20)\n",
        "plt.style.use(\"seaborn\")\n",
        "plt.show()"
      ]
    },
    {
      "cell_type": "code",
      "source": [
        "Tesla.head(10)"
      ],
      "metadata": {
        "colab": {
          "base_uri": "https://localhost:8080/",
          "height": 362
        },
        "id": "bgALYoEn_vhg",
        "outputId": "97c66965-f987-4137-cc04-be73279feab5"
      },
      "execution_count": null,
      "outputs": [
        {
          "output_type": "execute_result",
          "data": {
            "text/plain": [
              "         Date      Open      High       Low     Close  Adj Close    Volume\n",
              "0  2010-08-02  1.366667  1.398000  1.355333  1.394667   1.394667  10771500\n",
              "1  2010-08-03  1.400000  1.463333  1.388000  1.463333   1.463333  18457500\n",
              "2  2010-08-04  1.463333  1.478667  1.390000  1.417333   1.417333  13695000\n",
              "3  2010-08-05  1.436000  1.436667  1.336667  1.363333   1.363333  11943000\n",
              "4  2010-08-06  1.340000  1.344000  1.301333  1.306000   1.306000  11128500\n",
              "5  2010-08-09  1.326667  1.332000  1.296667  1.306667   1.306667  12190500\n",
              "6  2010-08-10  1.310000  1.310000  1.254667  1.268667   1.268667  19219500\n",
              "7  2010-08-11  1.246000  1.258667  1.190000  1.193333   1.193333  11964000\n",
              "8  2010-08-12  1.186667  1.193333  1.159333  1.173333   1.173333  10365000\n",
              "9  2010-08-13  1.212000  1.230000  1.177333  1.221333   1.221333   9510000"
            ],
            "text/html": [
              "\n",
              "  <div id=\"df-3b242e09-e229-4fd2-898f-1d0ab53934e6\">\n",
              "    <div class=\"colab-df-container\">\n",
              "      <div>\n",
              "<style scoped>\n",
              "    .dataframe tbody tr th:only-of-type {\n",
              "        vertical-align: middle;\n",
              "    }\n",
              "\n",
              "    .dataframe tbody tr th {\n",
              "        vertical-align: top;\n",
              "    }\n",
              "\n",
              "    .dataframe thead th {\n",
              "        text-align: right;\n",
              "    }\n",
              "</style>\n",
              "<table border=\"1\" class=\"dataframe\">\n",
              "  <thead>\n",
              "    <tr style=\"text-align: right;\">\n",
              "      <th></th>\n",
              "      <th>Date</th>\n",
              "      <th>Open</th>\n",
              "      <th>High</th>\n",
              "      <th>Low</th>\n",
              "      <th>Close</th>\n",
              "      <th>Adj Close</th>\n",
              "      <th>Volume</th>\n",
              "    </tr>\n",
              "  </thead>\n",
              "  <tbody>\n",
              "    <tr>\n",
              "      <th>0</th>\n",
              "      <td>2010-08-02</td>\n",
              "      <td>1.366667</td>\n",
              "      <td>1.398000</td>\n",
              "      <td>1.355333</td>\n",
              "      <td>1.394667</td>\n",
              "      <td>1.394667</td>\n",
              "      <td>10771500</td>\n",
              "    </tr>\n",
              "    <tr>\n",
              "      <th>1</th>\n",
              "      <td>2010-08-03</td>\n",
              "      <td>1.400000</td>\n",
              "      <td>1.463333</td>\n",
              "      <td>1.388000</td>\n",
              "      <td>1.463333</td>\n",
              "      <td>1.463333</td>\n",
              "      <td>18457500</td>\n",
              "    </tr>\n",
              "    <tr>\n",
              "      <th>2</th>\n",
              "      <td>2010-08-04</td>\n",
              "      <td>1.463333</td>\n",
              "      <td>1.478667</td>\n",
              "      <td>1.390000</td>\n",
              "      <td>1.417333</td>\n",
              "      <td>1.417333</td>\n",
              "      <td>13695000</td>\n",
              "    </tr>\n",
              "    <tr>\n",
              "      <th>3</th>\n",
              "      <td>2010-08-05</td>\n",
              "      <td>1.436000</td>\n",
              "      <td>1.436667</td>\n",
              "      <td>1.336667</td>\n",
              "      <td>1.363333</td>\n",
              "      <td>1.363333</td>\n",
              "      <td>11943000</td>\n",
              "    </tr>\n",
              "    <tr>\n",
              "      <th>4</th>\n",
              "      <td>2010-08-06</td>\n",
              "      <td>1.340000</td>\n",
              "      <td>1.344000</td>\n",
              "      <td>1.301333</td>\n",
              "      <td>1.306000</td>\n",
              "      <td>1.306000</td>\n",
              "      <td>11128500</td>\n",
              "    </tr>\n",
              "    <tr>\n",
              "      <th>5</th>\n",
              "      <td>2010-08-09</td>\n",
              "      <td>1.326667</td>\n",
              "      <td>1.332000</td>\n",
              "      <td>1.296667</td>\n",
              "      <td>1.306667</td>\n",
              "      <td>1.306667</td>\n",
              "      <td>12190500</td>\n",
              "    </tr>\n",
              "    <tr>\n",
              "      <th>6</th>\n",
              "      <td>2010-08-10</td>\n",
              "      <td>1.310000</td>\n",
              "      <td>1.310000</td>\n",
              "      <td>1.254667</td>\n",
              "      <td>1.268667</td>\n",
              "      <td>1.268667</td>\n",
              "      <td>19219500</td>\n",
              "    </tr>\n",
              "    <tr>\n",
              "      <th>7</th>\n",
              "      <td>2010-08-11</td>\n",
              "      <td>1.246000</td>\n",
              "      <td>1.258667</td>\n",
              "      <td>1.190000</td>\n",
              "      <td>1.193333</td>\n",
              "      <td>1.193333</td>\n",
              "      <td>11964000</td>\n",
              "    </tr>\n",
              "    <tr>\n",
              "      <th>8</th>\n",
              "      <td>2010-08-12</td>\n",
              "      <td>1.186667</td>\n",
              "      <td>1.193333</td>\n",
              "      <td>1.159333</td>\n",
              "      <td>1.173333</td>\n",
              "      <td>1.173333</td>\n",
              "      <td>10365000</td>\n",
              "    </tr>\n",
              "    <tr>\n",
              "      <th>9</th>\n",
              "      <td>2010-08-13</td>\n",
              "      <td>1.212000</td>\n",
              "      <td>1.230000</td>\n",
              "      <td>1.177333</td>\n",
              "      <td>1.221333</td>\n",
              "      <td>1.221333</td>\n",
              "      <td>9510000</td>\n",
              "    </tr>\n",
              "  </tbody>\n",
              "</table>\n",
              "</div>\n",
              "      <button class=\"colab-df-convert\" onclick=\"convertToInteractive('df-3b242e09-e229-4fd2-898f-1d0ab53934e6')\"\n",
              "              title=\"Convert this dataframe to an interactive table.\"\n",
              "              style=\"display:none;\">\n",
              "        \n",
              "  <svg xmlns=\"http://www.w3.org/2000/svg\" height=\"24px\"viewBox=\"0 0 24 24\"\n",
              "       width=\"24px\">\n",
              "    <path d=\"M0 0h24v24H0V0z\" fill=\"none\"/>\n",
              "    <path d=\"M18.56 5.44l.94 2.06.94-2.06 2.06-.94-2.06-.94-.94-2.06-.94 2.06-2.06.94zm-11 1L8.5 8.5l.94-2.06 2.06-.94-2.06-.94L8.5 2.5l-.94 2.06-2.06.94zm10 10l.94 2.06.94-2.06 2.06-.94-2.06-.94-.94-2.06-.94 2.06-2.06.94z\"/><path d=\"M17.41 7.96l-1.37-1.37c-.4-.4-.92-.59-1.43-.59-.52 0-1.04.2-1.43.59L10.3 9.45l-7.72 7.72c-.78.78-.78 2.05 0 2.83L4 21.41c.39.39.9.59 1.41.59.51 0 1.02-.2 1.41-.59l7.78-7.78 2.81-2.81c.8-.78.8-2.07 0-2.86zM5.41 20L4 18.59l7.72-7.72 1.47 1.35L5.41 20z\"/>\n",
              "  </svg>\n",
              "      </button>\n",
              "      \n",
              "  <style>\n",
              "    .colab-df-container {\n",
              "      display:flex;\n",
              "      flex-wrap:wrap;\n",
              "      gap: 12px;\n",
              "    }\n",
              "\n",
              "    .colab-df-convert {\n",
              "      background-color: #E8F0FE;\n",
              "      border: none;\n",
              "      border-radius: 50%;\n",
              "      cursor: pointer;\n",
              "      display: none;\n",
              "      fill: #1967D2;\n",
              "      height: 32px;\n",
              "      padding: 0 0 0 0;\n",
              "      width: 32px;\n",
              "    }\n",
              "\n",
              "    .colab-df-convert:hover {\n",
              "      background-color: #E2EBFA;\n",
              "      box-shadow: 0px 1px 2px rgba(60, 64, 67, 0.3), 0px 1px 3px 1px rgba(60, 64, 67, 0.15);\n",
              "      fill: #174EA6;\n",
              "    }\n",
              "\n",
              "    [theme=dark] .colab-df-convert {\n",
              "      background-color: #3B4455;\n",
              "      fill: #D2E3FC;\n",
              "    }\n",
              "\n",
              "    [theme=dark] .colab-df-convert:hover {\n",
              "      background-color: #434B5C;\n",
              "      box-shadow: 0px 1px 3px 1px rgba(0, 0, 0, 0.15);\n",
              "      filter: drop-shadow(0px 1px 2px rgba(0, 0, 0, 0.3));\n",
              "      fill: #FFFFFF;\n",
              "    }\n",
              "  </style>\n",
              "\n",
              "      <script>\n",
              "        const buttonEl =\n",
              "          document.querySelector('#df-3b242e09-e229-4fd2-898f-1d0ab53934e6 button.colab-df-convert');\n",
              "        buttonEl.style.display =\n",
              "          google.colab.kernel.accessAllowed ? 'block' : 'none';\n",
              "\n",
              "        async function convertToInteractive(key) {\n",
              "          const element = document.querySelector('#df-3b242e09-e229-4fd2-898f-1d0ab53934e6');\n",
              "          const dataTable =\n",
              "            await google.colab.kernel.invokeFunction('convertToInteractive',\n",
              "                                                     [key], {});\n",
              "          if (!dataTable) return;\n",
              "\n",
              "          const docLinkHtml = 'Like what you see? Visit the ' +\n",
              "            '<a target=\"_blank\" href=https://colab.research.google.com/notebooks/data_table.ipynb>data table notebook</a>'\n",
              "            + ' to learn more about interactive tables.';\n",
              "          element.innerHTML = '';\n",
              "          dataTable['output_type'] = 'display_data';\n",
              "          await google.colab.output.renderOutput(dataTable, element);\n",
              "          const docLink = document.createElement('div');\n",
              "          docLink.innerHTML = docLinkHtml;\n",
              "          element.appendChild(docLink);\n",
              "        }\n",
              "      </script>\n",
              "    </div>\n",
              "  </div>\n",
              "  "
            ]
          },
          "metadata": {},
          "execution_count": 62
        }
      ]
    },
    {
      "cell_type": "markdown",
      "source": [
        "This variation in the plot depicts the volume of shares traded from the start and the end date. There was a stark increase in the 2017, followed by frequent fluctuations in the volume traded. "
      ],
      "metadata": {
        "id": "cngU9s_RMuFM"
      }
    },
    {
      "cell_type": "code",
      "source": [
        "#seperate dates for future plotting using pd.to_datetime, extracting the training dates into seperate series. \n",
        "Train_dates = pd.to_datetime(Tesla['Date'])"
      ],
      "metadata": {
        "id": "OiK6bvL7MujB"
      },
      "execution_count": null,
      "outputs": []
    },
    {
      "cell_type": "code",
      "source": [
        "#Extract the columns we would like to use as variables for training model purposes. \n",
        "cols = list(Tesla)[1:6] #exclude the volume\n",
        "\n",
        "df_for_training = Tesla[cols].astype(float) #convert values to float to not lose values in normalisation.  \n",
        "\n",
        "df_for_plot = df_for_training.tail(5000)\n",
        "df_for_plot.plot.line()"
      ],
      "metadata": {
        "id": "b9BUQ0HoMuat",
        "colab": {
          "base_uri": "https://localhost:8080/",
          "height": 364
        },
        "outputId": "c0437bb1-7c29-490a-94bb-9a8f6b23330b"
      },
      "execution_count": null,
      "outputs": [
        {
          "output_type": "execute_result",
          "data": {
            "text/plain": [
              "<matplotlib.axes._subplots.AxesSubplot at 0x7fc439d7b450>"
            ]
          },
          "metadata": {},
          "execution_count": 39
        },
        {
          "output_type": "display_data",
          "data": {
            "text/plain": [
              "<Figure size 576x396 with 1 Axes>"
            ],
            "image/png": "[encoded data removed]"
          },
          "metadata": {}
        }
      ]
    },
    {
      "cell_type": "code",
      "source": [
        "df_for_training"
      ],
      "metadata": {
        "colab": {
          "base_uri": "https://localhost:8080/",
          "height": 424
        },
        "id": "2kw8CA0ipEyA",
        "outputId": "b62f46ed-8dc3-4d86-b44e-45266042e5af"
      },
      "execution_count": null,
      "outputs": [
        {
          "output_type": "execute_result",
          "data": {
            "text/plain": [
              "            Open        High         Low       Close   Adj Close\n",
              "0       1.366667    1.398000    1.355333    1.394667    1.394667\n",
              "1       1.400000    1.463333    1.388000    1.463333    1.463333\n",
              "2       1.463333    1.478667    1.390000    1.417333    1.417333\n",
              "3       1.436000    1.436667    1.336667    1.363333    1.363333\n",
              "4       1.340000    1.344000    1.301333    1.306000    1.306000\n",
              "...          ...         ...         ...         ...         ...\n",
              "3040  282.829987  287.739990  280.700012  284.820007  284.820007\n",
              "3041  287.869995  288.480011  272.649994  277.700012  277.700012\n",
              "3042  280.619995  281.250000  271.809998  275.609985  275.609985\n",
              "3043  272.579987  277.579987  266.149994  277.160004  277.160004\n",
              "3044  281.070007  282.350006  269.079987  270.209991  270.209991\n",
              "\n",
              "[3045 rows x 5 columns]"
            ],
            "text/html": [
              "\n",
              "  <div id=\"df-51fb0f93-515b-4410-ac60-c783be78af35\">\n",
              "    <div class=\"colab-df-container\">\n",
              "      <div>\n",
              "<style scoped>\n",
              "    .dataframe tbody tr th:only-of-type {\n",
              "        vertical-align: middle;\n",
              "    }\n",
              "\n",
              "    .dataframe tbody tr th {\n",
              "        vertical-align: top;\n",
              "    }\n",
              "\n",
              "    .dataframe thead th {\n",
              "        text-align: right;\n",
              "    }\n",
              "</style>\n",
              "<table border=\"1\" class=\"dataframe\">\n",
              "  <thead>\n",
              "    <tr style=\"text-align: right;\">\n",
              "      <th></th>\n",
              "      <th>Open</th>\n",
              "      <th>High</th>\n",
              "      <th>Low</th>\n",
              "      <th>Close</th>\n",
              "      <th>Adj Close</th>\n",
              "    </tr>\n",
              "  </thead>\n",
              "  <tbody>\n",
              "    <tr>\n",
              "      <th>0</th>\n",
              "      <td>1.366667</td>\n",
              "      <td>1.398000</td>\n",
              "      <td>1.355333</td>\n",
              "      <td>1.394667</td>\n",
              "      <td>1.394667</td>\n",
              "    </tr>\n",
              "    <tr>\n",
              "      <th>1</th>\n",
              "      <td>1.400000</td>\n",
              "      <td>1.463333</td>\n",
              "      <td>1.388000</td>\n",
              "      <td>1.463333</td>\n",
              "      <td>1.463333</td>\n",
              "    </tr>\n",
              "    <tr>\n",
              "      <th>2</th>\n",
              "      <td>1.463333</td>\n",
              "      <td>1.478667</td>\n",
              "      <td>1.390000</td>\n",
              "      <td>1.417333</td>\n",
              "      <td>1.417333</td>\n",
              "    </tr>\n",
              "    <tr>\n",
              "      <th>3</th>\n",
              "      <td>1.436000</td>\n",
              "      <td>1.436667</td>\n",
              "      <td>1.336667</td>\n",
              "      <td>1.363333</td>\n",
              "      <td>1.363333</td>\n",
              "    </tr>\n",
              "    <tr>\n",
              "      <th>4</th>\n",
              "      <td>1.340000</td>\n",
              "      <td>1.344000</td>\n",
              "      <td>1.301333</td>\n",
              "      <td>1.306000</td>\n",
              "      <td>1.306000</td>\n",
              "    </tr>\n",
              "    <tr>\n",
              "      <th>...</th>\n",
              "      <td>...</td>\n",
              "      <td>...</td>\n",
              "      <td>...</td>\n",
              "      <td>...</td>\n",
              "      <td>...</td>\n",
              "    </tr>\n",
              "    <tr>\n",
              "      <th>3040</th>\n",
              "      <td>282.829987</td>\n",
              "      <td>287.739990</td>\n",
              "      <td>280.700012</td>\n",
              "      <td>284.820007</td>\n",
              "      <td>284.820007</td>\n",
              "    </tr>\n",
              "    <tr>\n",
              "      <th>3041</th>\n",
              "      <td>287.869995</td>\n",
              "      <td>288.480011</td>\n",
              "      <td>272.649994</td>\n",
              "      <td>277.700012</td>\n",
              "      <td>277.700012</td>\n",
              "    </tr>\n",
              "    <tr>\n",
              "      <th>3042</th>\n",
              "      <td>280.619995</td>\n",
              "      <td>281.250000</td>\n",
              "      <td>271.809998</td>\n",
              "      <td>275.609985</td>\n",
              "      <td>275.609985</td>\n",
              "    </tr>\n",
              "    <tr>\n",
              "      <th>3043</th>\n",
              "      <td>272.579987</td>\n",
              "      <td>277.579987</td>\n",
              "      <td>266.149994</td>\n",
              "      <td>277.160004</td>\n",
              "      <td>277.160004</td>\n",
              "    </tr>\n",
              "    <tr>\n",
              "      <th>3044</th>\n",
              "      <td>281.070007</td>\n",
              "      <td>282.350006</td>\n",
              "      <td>269.079987</td>\n",
              "      <td>270.209991</td>\n",
              "      <td>270.209991</td>\n",
              "    </tr>\n",
              "  </tbody>\n",
              "</table>\n",
              "<p>3045 rows × 5 columns</p>\n",
              "</div>\n",
              "      <button class=\"colab-df-convert\" onclick=\"convertToInteractive('df-51fb0f93-515b-4410-ac60-c783be78af35')\"\n",
              "              title=\"Convert this dataframe to an interactive table.\"\n",
              "              style=\"display:none;\">\n",
              "        \n",
              "  <svg xmlns=\"http://www.w3.org/2000/svg\" height=\"24px\"viewBox=\"0 0 24 24\"\n",
              "       width=\"24px\">\n",
              "    <path d=\"M0 0h24v24H0V0z\" fill=\"none\"/>\n",
              "    <path d=\"M18.56 5.44l.94 2.06.94-2.06 2.06-.94-2.06-.94-.94-2.06-.94 2.06-2.06.94zm-11 1L8.5 8.5l.94-2.06 2.06-.94-2.06-.94L8.5 2.5l-.94 2.06-2.06.94zm10 10l.94 2.06.94-2.06 2.06-.94-2.06-.94-.94-2.06-.94 2.06-2.06.94z\"/><path d=\"M17.41 7.96l-1.37-1.37c-.4-.4-.92-.59-1.43-.59-.52 0-1.04.2-1.43.59L10.3 9.45l-7.72 7.72c-.78.78-.78 2.05 0 2.83L4 21.41c.39.39.9.59 1.41.59.51 0 1.02-.2 1.41-.59l7.78-7.78 2.81-2.81c.8-.78.8-2.07 0-2.86zM5.41 20L4 18.59l7.72-7.72 1.47 1.35L5.41 20z\"/>\n",
              "  </svg>\n",
              "      </button>\n",
              "      \n",
              "  <style>\n",
              "    .colab-df-container {\n",
              "      display:flex;\n",
              "      flex-wrap:wrap;\n",
              "      gap: 12px;\n",
              "    }\n",
              "\n",
              "    .colab-df-convert {\n",
              "      background-color: #E8F0FE;\n",
              "      border: none;\n",
              "      border-radius: 50%;\n",
              "      cursor: pointer;\n",
              "      display: none;\n",
              "      fill: #1967D2;\n",
              "      height: 32px;\n",
              "      padding: 0 0 0 0;\n",
              "      width: 32px;\n",
              "    }\n",
              "\n",
              "    .colab-df-convert:hover {\n",
              "      background-color: #E2EBFA;\n",
              "      box-shadow: 0px 1px 2px rgba(60, 64, 67, 0.3), 0px 1px 3px 1px rgba(60, 64, 67, 0.15);\n",
              "      fill: #174EA6;\n",
              "    }\n",
              "\n",
              "    [theme=dark] .colab-df-convert {\n",
              "      background-color: #3B4455;\n",
              "      fill: #D2E3FC;\n",
              "    }\n",
              "\n",
              "    [theme=dark] .colab-df-convert:hover {\n",
              "      background-color: #434B5C;\n",
              "      box-shadow: 0px 1px 3px 1px rgba(0, 0, 0, 0.15);\n",
              "      filter: drop-shadow(0px 1px 2px rgba(0, 0, 0, 0.3));\n",
              "      fill: #FFFFFF;\n",
              "    }\n",
              "  </style>\n",
              "\n",
              "      <script>\n",
              "        const buttonEl =\n",
              "          document.querySelector('#df-51fb0f93-515b-4410-ac60-c783be78af35 button.colab-df-convert');\n",
              "        buttonEl.style.display =\n",
              "          google.colab.kernel.accessAllowed ? 'block' : 'none';\n",
              "\n",
              "        async function convertToInteractive(key) {\n",
              "          const element = document.querySelector('#df-51fb0f93-515b-4410-ac60-c783be78af35');\n",
              "          const dataTable =\n",
              "            await google.colab.kernel.invokeFunction('convertToInteractive',\n",
              "                                                     [key], {});\n",
              "          if (!dataTable) return;\n",
              "\n",
              "          const docLinkHtml = 'Like what you see? Visit the ' +\n",
              "            '<a target=\"_blank\" href=https://colab.research.google.com/notebooks/data_table.ipynb>data table notebook</a>'\n",
              "            + ' to learn more about interactive tables.';\n",
              "          element.innerHTML = '';\n",
              "          dataTable['output_type'] = 'display_data';\n",
              "          await google.colab.output.renderOutput(dataTable, element);\n",
              "          const docLink = document.createElement('div');\n",
              "          docLink.innerHTML = docLinkHtml;\n",
              "          element.appendChild(docLink);\n",
              "        }\n",
              "      </script>\n",
              "    </div>\n",
              "  </div>\n",
              "  "
            ]
          },
          "metadata": {},
          "execution_count": 40
        }
      ]
    },
    {
      "cell_type": "markdown",
      "source": [
        "The values in the dataframe change drastically, hence its important to perform standardisation. Moreover, LSTM uses sigmoid and tanh functions that are sensitive to magnitude so the values need to be normalized. "
      ],
      "metadata": {
        "id": "0x9JctZlpIag"
      }
    },
    {
      "cell_type": "code",
      "source": [
        "#Standardisation\n",
        "scaler = StandardScaler() \n",
        "scaler = scaler.fit(df_for_training)\n",
        "df_for_training_scaled = scaler.transform(df_for_training)\n"
      ],
      "metadata": {
        "id": "CTCV3COUMuWC"
      },
      "execution_count": null,
      "outputs": []
    },
    {
      "cell_type": "markdown",
      "source": [
        "As needed, the LSTM neural network required to reshape an input data into n_samples x timesteps. In this instance, the n_features is 2 and timesteps = 3. \n",
        "The resultant n_samples = 5 , as the input data has 9 rows. "
      ],
      "metadata": {
        "id": "UwLeLmkNqLTH"
      }
    },
    {
      "cell_type": "code",
      "source": [
        "trainX = []\n",
        "trainY = []\n",
        "\n",
        "n_future = 1  #number of days we want to predict in future\n",
        "n_past = 14   #number of days we want to use to predict the future\n",
        "\n",
        "for i in range(n_past, len(df_for_training_scaled) - n_future + 1):\n",
        "  trainX.append(df_for_training_scaled[i- n_past:i, 0:df_for_training.shape[1]])\n",
        "  trainY.append(df_for_training_scaled[i + n_future - 1:i + n_future, 0])\n",
        "  "
      ],
      "metadata": {
        "id": "aRmzHbUgMuPc"
      },
      "execution_count": null,
      "outputs": []
    },
    {
      "cell_type": "code",
      "source": [
        "trainX, trainY = np.array(trainX), np.array(trainY)"
      ],
      "metadata": {
        "id": "kPzqwF2GMuIE"
      },
      "execution_count": null,
      "outputs": []
    },
    {
      "cell_type": "code",
      "source": [
        "trainY"
      ],
      "metadata": {
        "colab": {
          "base_uri": "https://localhost:8080/"
        },
        "id": "I6q5quQw9YRm",
        "outputId": "1253916b-0bd0-4d48-9f65-a95122806522"
      },
      "execution_count": null,
      "outputs": [
        {
          "output_type": "execute_result",
          "data": {
            "text/plain": [
              "array([[-0.57742546],\n",
              "       [-0.57711108],\n",
              "       [-0.57699677],\n",
              "       ...,\n",
              "       [ 2.41673587],\n",
              "       [ 2.33056875],\n",
              "       [ 2.42155878]])"
            ]
          },
          "metadata": {},
          "execution_count": 54
        }
      ]
    },
    {
      "cell_type": "code",
      "source": [
        "print('trainX shape == {}.'.format(trainX.shape))\n",
        "print('trainY shape == {}.'.format(trainY.shape))"
      ],
      "metadata": {
        "id": "yfE4lOzXMt9i",
        "colab": {
          "base_uri": "https://localhost:8080/"
        },
        "outputId": "53126ff7-b6b9-43b6-fb7e-80c8b1f29428"
      },
      "execution_count": null,
      "outputs": [
        {
          "output_type": "stream",
          "name": "stdout",
          "text": [
            "trainX shape == (3031, 14, 5).\n",
            "trainY shape == (3031, 1).\n"
          ]
        }
      ]
    },
    {
      "cell_type": "markdown",
      "metadata": {
        "id": "lY3RPGcKYzhc"
      },
      "source": [
        "<a id = \"cell_model\"></a>\n",
        "## 3. Model Construction"
      ]
    },
    {
      "cell_type": "markdown",
      "source": [
        "For model construction, I have used 64 units for LSTM in the first layer, with relu being the activation function. ReLu is the rectified linear activation function which will output the input directly if it is positive, otherwise zero. The input shape for trainX is (14,5). Since it is a stacked LSTM, we have return_sequences = True in the first instance. "
      ],
      "metadata": {
        "id": "I5OQvHAltZ1r"
      }
    },
    {
      "cell_type": "code",
      "execution_count": null,
      "metadata": {
        "id": "YRSO49oTYzhc",
        "colab": {
          "base_uri": "https://localhost:8080/"
        },
        "outputId": "7d95a783-a8ee-4a2a-9fbf-7c24747495db"
      },
      "outputs": [
        {
          "output_type": "stream",
          "name": "stdout",
          "text": [
            "Model: \"sequential\"\n",
            "_________________________________________________________________\n",
            " Layer (type)                Output Shape              Param #   \n",
            "=================================================================\n",
            " lstm (LSTM)                 (None, 14, 64)            17920     \n",
            "                                                                 \n",
            " lstm_1 (LSTM)               (None, 32)                12416     \n",
            "                                                                 \n",
            " dropout (Dropout)           (None, 32)                0         \n",
            "                                                                 \n",
            " dense (Dense)               (None, 1)                 33        \n",
            "                                                                 \n",
            "=================================================================\n",
            "Total params: 30,369\n",
            "Trainable params: 30,369\n",
            "Non-trainable params: 0\n",
            "_________________________________________________________________\n"
          ]
        }
      ],
      "source": [
        "#Define the autoencoder models \n",
        "from keras.layers import LSTM\n",
        "model = Sequential()\n",
        "model.add(LSTM (64, activation = 'relu', input_shape = (trainX.shape[1], trainX.shape[2]), return_sequences = True))\n",
        "model.add(LSTM(32, activation = 'relu', return_sequences = False))\n",
        "model.add(Dropout(0.2))\n",
        "model.add(Dense(trainY.shape[1]))\n",
        "\n",
        "model.compile(optimizer = 'adam', loss = 'mse')\n",
        "model.summary()\n"
      ]
    },
    {
      "cell_type": "markdown",
      "source": [
        "The above output gives 30,369 parameters.  "
      ],
      "metadata": {
        "id": "Pi4NlWx7vSfp"
      }
    },
    {
      "cell_type": "markdown",
      "metadata": {
        "id": "B0h_o6nnufjg"
      },
      "source": [
        "<a id = \"cell_execution\"></a>\n",
        "## 4. Model Execution"
      ]
    },
    {
      "cell_type": "code",
      "execution_count": null,
      "metadata": {
        "id": "J2fmJxVlyqBp",
        "colab": {
          "base_uri": "https://localhost:8080/"
        },
        "outputId": "5166fa4f-6116-4484-d29a-ec600549041c"
      },
      "outputs": [
        {
          "output_type": "stream",
          "name": "stdout",
          "text": [
            "Epoch 1/10\n",
            "171/171 [==============================] - 5s 16ms/step - loss: 0.0817 - val_loss: 1.0996\n",
            "Epoch 2/10\n",
            "171/171 [==============================] - 2s 14ms/step - loss: 0.0199 - val_loss: 0.1364\n",
            "Epoch 3/10\n",
            "171/171 [==============================] - 2s 14ms/step - loss: 0.0148 - val_loss: 0.1114\n",
            "Epoch 4/10\n",
            "171/171 [==============================] - 3s 18ms/step - loss: 0.0132 - val_loss: 0.2777\n",
            "Epoch 5/10\n",
            "171/171 [==============================] - 4s 22ms/step - loss: 0.0148 - val_loss: 0.0469\n",
            "Epoch 6/10\n",
            "171/171 [==============================] - 2s 14ms/step - loss: 0.0117 - val_loss: 0.0656\n",
            "Epoch 7/10\n",
            "171/171 [==============================] - 2s 14ms/step - loss: 0.0103 - val_loss: 0.0486\n",
            "Epoch 8/10\n",
            "171/171 [==============================] - 2s 14ms/step - loss: 0.0108 - val_loss: 0.0312\n",
            "Epoch 9/10\n",
            "171/171 [==============================] - 2s 14ms/step - loss: 0.0110 - val_loss: 0.0445\n",
            "Epoch 10/10\n",
            "171/171 [==============================] - 2s 14ms/step - loss: 0.0110 - val_loss: 0.1640\n"
          ]
        }
      ],
      "source": [
        "history = model.fit(trainX, trainY , epochs =10, batch_size = 16, validation_split = 0.1,\n",
        "                    verbose = 1)"
      ]
    },
    {
      "cell_type": "code",
      "source": [
        "plt.plot(history.history['loss'], label = 'Training Loss')\n",
        "plt.plot(history.history['val_loss'], label = 'Validation loss')\n",
        "plt.legend()"
      ],
      "metadata": {
        "colab": {
          "base_uri": "https://localhost:8080/",
          "height": 364
        },
        "id": "DHubM63evsAB",
        "outputId": "6d141f6f-8518-44da-a291-b71832de6d8b"
      },
      "execution_count": null,
      "outputs": [
        {
          "output_type": "execute_result",
          "data": {
            "text/plain": [
              "<matplotlib.legend.Legend at 0x7fc435e59ad0>"
            ]
          },
          "metadata": {},
          "execution_count": 47
        },
        {
          "output_type": "display_data",
          "data": {
            "text/plain": [
              "<Figure size 576x396 with 1 Axes>"
            ],
            "image/png": "[encoded data removed]"
          },
          "metadata": {}
        }
      ]
    },
    {
      "cell_type": "markdown",
      "metadata": {
        "id": "tLBXWEhpYzhg"
      },
      "source": [
        "<a id = \"cell_report\"></a>\n",
        "## 5. Experiments Report"
      ]
    },
    {
      "cell_type": "code",
      "execution_count": null,
      "metadata": {
        "id": "zA8iLf29zM5L"
      },
      "outputs": [],
      "source": [
        "#Forecasting \n",
        "\n",
        "n_future = 60 #predicting 60 days into future\n",
        "forecast = pd.date_range(list(Train_dates) [-1], periods = n_future, freq='1d').tolist()\n",
        "\n",
        "future = model.predict(trainX[-n_future:])"
      ]
    },
    {
      "cell_type": "code",
      "source": [
        "future"
      ],
      "metadata": {
        "colab": {
          "base_uri": "https://localhost:8080/"
        },
        "id": "AxWGbPuTw4ms",
        "outputId": "8fb1d17f-8e41-45f9-f76b-c5dc899e871f"
      },
      "execution_count": null,
      "outputs": [
        {
          "output_type": "execute_result",
          "data": {
            "text/plain": [
              "array([[1.7909206],\n",
              "       [1.796478 ],\n",
              "       [1.7787008],\n",
              "       [1.7280643],\n",
              "       [1.6852658],\n",
              "       [1.6739299],\n",
              "       [1.6442702],\n",
              "       [1.6171278],\n",
              "       [1.6391528],\n",
              "       [1.6762971],\n",
              "       [1.7026412],\n",
              "       [1.7391827],\n",
              "       [1.7720158],\n",
              "       [1.781821 ],\n",
              "       [1.7570847],\n",
              "       [1.7213385],\n",
              "       [1.6991439],\n",
              "       [1.684648 ],\n",
              "       [1.6875458],\n",
              "       [1.7120035],\n",
              "       [1.7541493],\n",
              "       [1.7777138],\n",
              "       [1.7734504],\n",
              "       [1.7632469],\n",
              "       [1.7608013],\n",
              "       [1.7645464],\n",
              "       [1.7764113],\n",
              "       [1.7889678],\n",
              "       [1.8084421],\n",
              "       [1.8585187],\n",
              "       [1.9218836],\n",
              "       [1.9656518],\n",
              "       [1.9787443],\n",
              "       [1.9974508],\n",
              "       [2.0240896],\n",
              "       [2.0701118],\n",
              "       [2.1344862],\n",
              "       [2.185794 ],\n",
              "       [2.240181 ],\n",
              "       [2.2842026],\n",
              "       [2.2766905],\n",
              "       [2.2640595],\n",
              "       [2.2318342],\n",
              "       [2.2191691],\n",
              "       [2.208087 ],\n",
              "       [2.2114763],\n",
              "       [2.2503557],\n",
              "       [2.2875865],\n",
              "       [2.3036675],\n",
              "       [2.3139696],\n",
              "       [2.300405 ],\n",
              "       [2.2670345],\n",
              "       [2.2474885],\n",
              "       [2.2473805],\n",
              "       [2.2504663],\n",
              "       [2.2409532],\n",
              "       [2.2095165],\n",
              "       [2.175377 ],\n",
              "       [2.1420164],\n",
              "       [2.108276 ]], dtype=float32)"
            ]
          },
          "metadata": {},
          "execution_count": 49
        }
      ]
    },
    {
      "cell_type": "code",
      "source": [
        "#Inverse transformation to rescale back to original stock price\n",
        "future_copies = np.repeat(future, df_for_training.shape[1], axis = -1)\n",
        "y_pred = scaler.inverse_transform(future_copies)[:,0]"
      ],
      "metadata": {
        "id": "cJtG29p2w5I0"
      },
      "execution_count": null,
      "outputs": []
    },
    {
      "cell_type": "code",
      "source": [
        "#Predicted values are : \n",
        "y_pred"
      ],
      "metadata": {
        "colab": {
          "base_uri": "https://localhost:8080/"
        },
        "id": "vpvC5s1aw-zJ",
        "outputId": "c2bb4e10-5f85-4f28-9ab2-be65368f2c1d"
      },
      "execution_count": null,
      "outputs": [
        {
          "output_type": "execute_result",
          "data": {
            "text/plain": [
              "array([222.22696, 222.74551, 221.08676, 216.36201, 212.3686 , 211.3109 ,\n",
              "       208.54343, 206.01085, 208.06593, 211.53177, 213.98987, 217.39944,\n",
              "       220.46301, 221.3779 , 219.06982, 215.73445, 213.66354, 212.31097,\n",
              "       212.58134, 214.86343, 218.79593, 220.99467, 220.59686, 219.6448 ,\n",
              "       219.41661, 219.76605, 220.87314, 222.04475, 223.86185, 228.53435,\n",
              "       234.44675, 238.53062, 239.75226, 241.49771, 243.98329, 248.2775 ,\n",
              "       254.28409, 259.07147, 264.14615, 268.2537 , 267.55276, 266.3742 ,\n",
              "       263.36734, 262.1856 , 261.15155, 261.4678 , 265.09552, 268.56943,\n",
              "       270.06992, 271.03116, 269.7655 , 266.6518 , 264.828  , 264.81793,\n",
              "       265.10587, 264.2182 , 261.28494, 258.0995 , 254.98671, 251.83847],\n",
              "      dtype=float32)"
            ]
          },
          "metadata": {},
          "execution_count": 51
        }
      ]
    },
    {
      "cell_type": "markdown",
      "source": [
        "These are the predicted values of the \"Open\" prices for Tesla, which is to be appended to the right dates in the dataframe. "
      ],
      "metadata": {
        "id": "K--wisRx4Csb"
      }
    },
    {
      "cell_type": "code",
      "source": [
        "#Append this to the right dates and plot this with original data\n",
        "future_dates = []\n",
        "for time_i in forecast:\n",
        "  future_dates.append(time_i.date())\n",
        "\n",
        "Tesla_forecast = pd.DataFrame({'Date': np.array(future_dates), 'Open' : y_pred})\n",
        "Tesla_forecast['Date'] = pd.to_datetime(Tesla_forecast['Date'])\n"
      ],
      "metadata": {
        "id": "NlwACM9hxpoM"
      },
      "execution_count": null,
      "outputs": []
    },
    {
      "cell_type": "code",
      "source": [
        "original = Tesla[['Date', 'Open']]\n",
        "original['Date'] = pd.to_datetime(original['Date'])\n",
        "original = original.loc[original['Date'] >= '2020-5-1']\n",
        "\n",
        "sns.lineplot(original['Date'], original['Open'])\n",
        "sns.lineplot(Tesla_forecast['Date'], Tesla_forecast['Open'])"
      ],
      "metadata": {
        "colab": {
          "base_uri": "https://localhost:8080/",
          "height": 572
        },
        "id": "8fJet1Kg0Us_",
        "outputId": "7800e368-580e-4256-9310-098b2df27822"
      },
      "execution_count": null,
      "outputs": [
        {
          "output_type": "stream",
          "name": "stderr",
          "text": [
            "/usr/local/lib/python3.7/dist-packages/ipykernel_launcher.py:2: SettingWithCopyWarning: \n",
            "A value is trying to be set on a copy of a slice from a DataFrame.\n",
            "Try using .loc[row_indexer,col_indexer] = value instead\n",
            "\n",
            "See the caveats in the documentation: https://pandas.pydata.org/pandas-docs/stable/user_guide/indexing.html#returning-a-view-versus-a-copy\n",
            "  \n",
            "/usr/local/lib/python3.7/dist-packages/seaborn/_decorators.py:43: FutureWarning: Pass the following variables as keyword args: x, y. From version 0.12, the only valid positional argument will be `data`, and passing other arguments without an explicit keyword will result in an error or misinterpretation.\n",
            "  FutureWarning\n",
            "/usr/local/lib/python3.7/dist-packages/seaborn/_decorators.py:43: FutureWarning: Pass the following variables as keyword args: x, y. From version 0.12, the only valid positional argument will be `data`, and passing other arguments without an explicit keyword will result in an error or misinterpretation.\n",
            "  FutureWarning\n"
          ]
        },
        {
          "output_type": "execute_result",
          "data": {
            "text/plain": [
              "<matplotlib.axes._subplots.AxesSubplot at 0x7fc435d29150>"
            ]
          },
          "metadata": {},
          "execution_count": 53
        },
        {
          "output_type": "display_data",
          "data": {
            "text/plain": [
              "<Figure size 576x396 with 1 Axes>"
            ],
            "image/png": "[encoded data removed]"
          },
          "metadata": {}
        }
      ]
    },
    {
      "cell_type": "markdown",
      "source": [
        "Summary of the Experiments - The green line in the above plot shows the prediction for 60 days in future greater than 2020-5-1. Henceforth, the RNN model solves the problem of stock price prediction considerably well, taking into account multiple factors (multivariate analysis). Overall, we can conclude that we can accurately predict the stock price 60 days ahead using this developed RNN-LSTM model.\n"
      ],
      "metadata": {
        "id": "AP0cCYbu08gt"
      }
    }
  ],
  "metadata": {
    "colab": {
      "collapsed_sections": [],
      "provenance": []
    },
    "kernelspec": {
      "display_name": "Python 3 (ipykernel)",
      "language": "python",
      "name": "python3"
    },
    "language_info": {
      "codemirror_mode": {
        "name": "ipython",
        "version": 3
      },
      "file_extension": ".py",
      "mimetype": "text/x-python",
      "name": "python",
      "nbconvert_exporter": "python",
      "pygments_lexer": "ipython3",
      "version": "3.9.7"
    }
  },
  "nbformat": 4,
  "nbformat_minor": 0
}